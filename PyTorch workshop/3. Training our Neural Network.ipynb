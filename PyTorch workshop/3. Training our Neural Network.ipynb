{
 "cells": [
  {
   "cell_type": "markdown",
   "metadata": {},
   "source": [
    "# Training Neural Networks\n",
    "\n",
    "The network we built in the previous part isn't so smart, it doesn't know anything about our handwritten digits. Neural networks with non-linear activations work like universal function approximators. There is some function that maps your input to the output. For example, images of handwritten digits to class probabilities. The power of neural networks is that we can train them to approximate this function, and basically any function given enough data and compute time.\n",
    "\n",
    "<img src=\"assets/function_approx.png\" width=500px>\n",
    "\n",
    "At first the network is naive, it doesn't know the function mapping the inputs to the outputs. We train the network by showing it examples of real data, then adjusting the network parameters such that it approximates this function.\n",
    "\n",
    "To find these parameters, we need to know how poorly the network is predicting the real outputs. For this we calculate a **loss function** (also called the cost), a measure of our prediction error. For example, the mean squared loss is often used in regression and binary classification problems\n",
    "\n",
    "$$\n",
    "\\large \\ell = \\frac{1}{2n}\\sum_i^n{\\left(y_i - \\hat{y}_i\\right)^2}\n",
    "$$\n",
    "\n",
    "where $n$ is the number of training examples, $y_i$ are the true labels, and $\\hat{y}_i$ are the predicted labels.\n",
    "\n",
    "By minimizing this loss with respect to the network parameters, we can find configurations where the loss is at a minimum and the network is able to predict the correct labels with high accuracy. We find this minimum using a process called **gradient descent**. The gradient is the slope of the loss function and points in the direction of fastest change. To get to the minimum in the least amount of time, we then want to follow the gradient (downwards). You can think of this like descending a mountain by following the steepest slope to the base.\n",
    "\n",
    "<img src='assets/gradient_descent.png' width=350px>"
   ]
  },
  {
   "cell_type": "markdown",
   "metadata": {},
   "source": [
    "## Backpropagation\n",
    "\n",
    "For single layer networks, gradient descent is straightforward to implement. However, it's more complicated for deeper, multilayer neural networks like the one we've built. Complicated enough that it took about 30 years before researchers figured out how to train multilayer networks.\n",
    "\n",
    "Training multilayer networks is done through **backpropagation** which is really just an application of the chain rule from calculus. It's easiest to understand if we convert a two layer network into a graph representation.\n",
    "\n",
    "<img src='assets/backprop_diagram.png' width=550px>\n",
    "\n",
    "In the forward pass through the network, our data and operations go from bottom to top here. We pass the input $x$ through a linear transformation $L_1$ with weights $W_1$ and biases $b_1$. The output then goes through the sigmoid operation $S$ and another linear transformation $L_2$. Finally we calculate the loss $\\ell$. We use the loss as a measure of how bad the network's predictions are. The goal then is to adjust the weights and biases to minimize the loss.\n",
    "\n",
    "To train the weights with gradient descent, we propagate the gradient of the loss backwards through the network. Each operation has some gradient between the inputs and outputs. As we send the gradients backwards, we multiply the incoming gradient with the gradient for the operation. Mathematically, this is really just calculating the gradient of the loss with respect to the weights using the chain rule.\n",
    "\n",
    "$$\n",
    "\\large \\frac{\\partial \\ell}{\\partial W_1} = \\frac{\\partial L_1}{\\partial W_1} \\frac{\\partial S}{\\partial L_1} \\frac{\\partial L_2}{\\partial S} \\frac{\\partial \\ell}{\\partial L_2}\n",
    "$$\n",
    "\n",
    "**Note:** I'm glossing over a few details here that require some knowledge of vector calculus, but they aren't necessary to understand what's going on.\n",
    "\n",
    "We update our weights using this gradient with some learning rate $\\alpha$. \n",
    "\n",
    "$$\n",
    "\\large W^\\prime_1 = W_1 - \\alpha \\frac{\\partial \\ell}{\\partial W_1}\n",
    "$$\n",
    "\n",
    "The learning rate $\\alpha$ is set such that the weight update steps are small enough that the iterative method settles in a minimum."
   ]
  },
  {
   "cell_type": "markdown",
   "metadata": {},
   "source": [
    "For neural networks, we usually use loss to asses how well the network has learned to classify the input image(or other tasks). The loss term is usually a scalar value. In order to update the parameters of the network, we need to calculate the gradient of loss w.r.t to the parameters, which is actually leaf node in the computation graph (by the way, these parameters are mostly the weight and bias of various layers such Convolution, Linear and so on).\n",
    "\n",
    "According to chain rule, in order to calculate gradient of loss w.r.t to a leaf node, we can compute derivative of loss w.r.t some intermediate variable, and gradient of intermediate variable w.r.t to the leaf variable, do a dot product and sum all these up.\n",
    "\n",
    "The gradient arguments of a Variable's backward() method is used to calculate a weighted sum of each element of a Variable w.r.t the leaf Variable. These weight is just the derivate of final loss w.r.t each element of the intermediate variable."
   ]
  },
  {
   "cell_type": "markdown",
   "metadata": {},
   "source": [
    "## Losses in PyTorch\n",
    "\n",
    "Let's start by seeing how we calculate the loss with PyTorch. Through the `nn` module, PyTorch provides losses such as the cross-entropy loss (`nn.CrossEntropyLoss`). You'll usually see the loss assigned to `criterion`. As noted in the last part, with a classification problem such as MNIST, we're using the softmax function to predict class probabilities. With a softmax output, you want to use cross-entropy as the loss. To actually calculate the loss, you first define the criterion then pass in the output of your network and the correct labels.\n",
    "\n",
    "Something really important to note here. Looking at [the documentation for `nn.CrossEntropyLoss`](https://pytorch.org/docs/stable/nn.html#torch.nn.CrossEntropyLoss),\n",
    "\n",
    "> This criterion combines `nn.LogSoftmax()` and `nn.NLLLoss()` in one single class.\n",
    ">\n",
    "> The input is expected to contain scores for each class.\n",
    "\n",
    "This means we need to pass in the raw output of our network into the loss, not the output of the softmax function. This raw output is usually called the *logits* or *scores*. We use the logits because softmax gives you probabilities which will often be very close to zero or one but floating-point numbers can't accurately represent values near zero or one ([read more here](https://docs.python.org/3/tutorial/floatingpoint.html)). It's usually best to avoid doing calculations with probabilities, typically we use log-probabilities."
   ]
  },
  {
   "cell_type": "code",
   "execution_count": 1,
   "metadata": {},
   "outputs": [],
   "source": [
    "import torch\n",
    "from torch import nn\n",
    "import torch.nn.functional as F\n",
    "from torchvision import datasets, transforms\n",
    "\n",
    "# Define a transform to normalize the data\n",
    "transform = transforms.Compose([transforms.ToTensor(),\n",
    "                                transforms.Normalize((0.5,), (0.5,)),\n",
    "                              ])\n",
    "# Download and load the training data\n",
    "trainset = datasets.MNIST('~/.pytorch/MNIST_data/', download=True, train=True, transform=transform)\n",
    "trainloader = torch.utils.data.DataLoader(trainset, batch_size=64, shuffle=True)"
   ]
  },
  {
   "cell_type": "code",
   "execution_count": 2,
   "metadata": {},
   "outputs": [
    {
     "name": "stdout",
     "output_type": "stream",
     "text": [
      "tensor(2.2856, grad_fn=<NllLossBackward>)\n"
     ]
    }
   ],
   "source": [
    "# Build a feed-forward network\n",
    "model = nn.Sequential(nn.Linear(784, 128),\n",
    "                      nn.ReLU(),\n",
    "                      nn.Linear(128, 64),\n",
    "                      nn.ReLU(),\n",
    "                      nn.Linear(64, 10))\n",
    "\n",
    "# Define the loss\n",
    "criterion = nn.CrossEntropyLoss()\n",
    "\n",
    "# Get our data\n",
    "images, labels = next(iter(trainloader))\n",
    "# Flatten images\n",
    "images = images.view(images.shape[0], -1)\n",
    "\n",
    "# Forward pass, get our logits\n",
    "logits = model(images)\n",
    "# Calculate the loss with the logits and the labels\n",
    "loss = criterion(logits, labels)\n",
    "\n",
    "print(loss)"
   ]
  },
  {
   "cell_type": "markdown",
   "metadata": {},
   "source": [
    "In my experience it's more convenient to build the model with a log-softmax output using `nn.LogSoftmax` or `F.log_softmax` ([documentation](https://pytorch.org/docs/stable/nn.html#torch.nn.LogSoftmax)). Then you can get the actual probabilites by taking the exponential `torch.exp(output)`. With a log-softmax output, you want to use the negative log likelihood loss, `nn.NLLLoss` ([documentation](https://pytorch.org/docs/stable/nn.html#torch.nn.NLLLoss)).\n",
    "\n",
    ">**Exercise:** Build a model that returns the log-softmax as the output and calculate the loss using the negative log likelihood loss."
   ]
  },
  {
   "cell_type": "code",
   "execution_count": 3,
   "metadata": {},
   "outputs": [
    {
     "name": "stdout",
     "output_type": "stream",
     "text": [
      "tensor(2.3164, grad_fn=<NllLossBackward>)\n"
     ]
    }
   ],
   "source": [
    "## Solution\n",
    "\n",
    "# Build a feed-forward network\n",
    "model = nn.Sequential(nn.Linear(784, 128),\n",
    "                      nn.ReLU(),\n",
    "                      nn.Linear(128, 64),\n",
    "                      nn.ReLU(),\n",
    "                      nn.Linear(64, 10),\n",
    "                      nn.LogSoftmax(dim=1))\n",
    "\n",
    "# Define the loss\n",
    "criterion = nn.NLLLoss()\n",
    "\n",
    "# Get our data\n",
    "images, labels = next(iter(trainloader))\n",
    "# Flatten images\n",
    "images = images.view(images.shape[0], -1)\n",
    "\n",
    "# Forward pass, get our log-probabilities\n",
    "logps = model(images)\n",
    "# Calculate the loss with the logps and the labels\n",
    "loss = criterion(logps, labels)\n",
    "\n",
    "print(loss)"
   ]
  },
  {
   "cell_type": "markdown",
   "metadata": {},
   "source": [
    "## Autograd\n",
    "\n",
    "Now that we know how to calculate a loss, how do we use it to perform backpropagation? Torch provides a module, `autograd`, for automatically calculating the gradients of tensors. We can use it to calculate the gradients of all our parameters with respect to the loss. Autograd works by keeping track of operations performed on tensors, then going backwards through those operations, calculating gradients along the way. To make sure PyTorch keeps track of operations on a tensor and calculates the gradients, you need to set `requires_grad = True` on a tensor. You can do this at creation with the `requires_grad` keyword, or at any time with `x.requires_grad_(True)`.\n",
    "\n",
    "You can turn off gradients for a block of code with the `torch.no_grad()` content:\n",
    "```python\n",
    "x = torch.zeros(1, requires_grad=True)\n",
    ">>> with torch.no_grad():\n",
    "...     y = x * 2\n",
    ">>> y.requires_grad\n",
    "False\n",
    "```\n",
    "\n",
    "Also, you can turn on or off gradients altogether with `torch.set_grad_enabled(True|False)`.\n",
    "\n",
    "The gradients are computed with respect to some variable `z` with `z.backward()`. This does a backward pass through the operations that created `z`."
   ]
  },
  {
   "cell_type": "code",
   "execution_count": 4,
   "metadata": {},
   "outputs": [
    {
     "name": "stdout",
     "output_type": "stream",
     "text": [
      "tensor([[-2.3541, -1.3005],\n",
      "        [ 1.3691,  0.1144]], requires_grad=True)\n"
     ]
    }
   ],
   "source": [
    "x = torch.randn(2,2, requires_grad=True)\n",
    "print(x)"
   ]
  },
  {
   "cell_type": "code",
   "execution_count": 5,
   "metadata": {},
   "outputs": [
    {
     "name": "stdout",
     "output_type": "stream",
     "text": [
      "tensor([[5.5416, 1.6912],\n",
      "        [1.8745, 0.0131]], grad_fn=<PowBackward0>)\n"
     ]
    }
   ],
   "source": [
    "y = x**2\n",
    "print(y)"
   ]
  },
  {
   "cell_type": "markdown",
   "metadata": {},
   "source": [
    "Below we can see the operation that created `y`, a power operation `PowBackward0`."
   ]
  },
  {
   "cell_type": "code",
   "execution_count": 6,
   "metadata": {},
   "outputs": [
    {
     "name": "stdout",
     "output_type": "stream",
     "text": [
      "<PowBackward0 object at 0x7f7cd9f238d0>\n"
     ]
    }
   ],
   "source": [
    "## grad_fn shows the function that generated this variable\n",
    "print(y.grad_fn)"
   ]
  },
  {
   "cell_type": "markdown",
   "metadata": {},
   "source": [
    "The autograd module keeps track of these operations and knows how to calculate the gradient for each one. In this way, it's able to calculate the gradients for a chain of operations, with respect to any one tensor. Let's reduce the tensor `y` to a scalar value, the mean."
   ]
  },
  {
   "cell_type": "code",
   "execution_count": 7,
   "metadata": {},
   "outputs": [
    {
     "name": "stdout",
     "output_type": "stream",
     "text": [
      "tensor(2.2801, grad_fn=<MeanBackward1>)\n"
     ]
    }
   ],
   "source": [
    "z = y.mean()\n",
    "print(z)"
   ]
  },
  {
   "cell_type": "markdown",
   "metadata": {},
   "source": [
    "You can check the gradients for `x` and `y` but they are empty currently."
   ]
  },
  {
   "cell_type": "code",
   "execution_count": 8,
   "metadata": {},
   "outputs": [
    {
     "name": "stdout",
     "output_type": "stream",
     "text": [
      "None\n"
     ]
    }
   ],
   "source": [
    "print(x.grad)"
   ]
  },
  {
   "cell_type": "markdown",
   "metadata": {},
   "source": [
    "To calculate the gradients, you need to run the `.backward` method on a Variable, `z` for example. This will calculate the gradient for `z` with respect to `x`\n",
    "\n",
    "$$\n",
    "\\frac{\\partial z}{\\partial x} = \\frac{\\partial}{\\partial x}\\left[\\frac{1}{n}\\sum_i^n x_i^2\\right] = \\frac{x}{2}\n",
    "$$"
   ]
  },
  {
   "cell_type": "code",
   "execution_count": 9,
   "metadata": {},
   "outputs": [
    {
     "name": "stdout",
     "output_type": "stream",
     "text": [
      "tensor([[-1.1770, -0.6502],\n",
      "        [ 0.6846,  0.0572]])\n",
      "tensor([[-1.1770, -0.6502],\n",
      "        [ 0.6846,  0.0572]], grad_fn=<DivBackward0>)\n"
     ]
    }
   ],
   "source": [
    "z.backward()\n",
    "print(x.grad)\n",
    "print(x/2)"
   ]
  },
  {
   "cell_type": "markdown",
   "metadata": {},
   "source": [
    "These gradients calculations are particularly useful for neural networks. For training we need the gradients of the weights with respect to the cost. With PyTorch, we run data forward through the network to calculate the loss, then, go backwards to calculate the gradients with respect to the loss. Once we have the gradients we can make a gradient descent step. "
   ]
  },
  {
   "cell_type": "markdown",
   "metadata": {},
   "source": [
    "## Loss and Autograd together\n",
    "\n",
    "When we create a network with PyTorch, all of the parameters are initialized with `requires_grad = True`. This means that when we calculate the loss and call `loss.backward()`, the gradients for the parameters are calculated. These gradients are used to update the weights with gradient descent. Below you can see an example of calculating the gradients using a backwards pass."
   ]
  },
  {
   "cell_type": "code",
   "execution_count": 10,
   "metadata": {},
   "outputs": [],
   "source": [
    "# Build a feed-forward network\n",
    "model = nn.Sequential(nn.Linear(784, 128),\n",
    "                      nn.ReLU(),\n",
    "                      nn.Linear(128, 64),\n",
    "                      nn.ReLU(),\n",
    "                      nn.Linear(64, 10),\n",
    "                      nn.LogSoftmax(dim=1))\n",
    "\n",
    "criterion = nn.NLLLoss()\n",
    "images, labels = next(iter(trainloader))\n",
    "images = images.view(images.shape[0], -1)\n",
    "\n",
    "logps = model(images)\n",
    "loss = criterion(logps, labels)"
   ]
  },
  {
   "cell_type": "code",
   "execution_count": 11,
   "metadata": {},
   "outputs": [
    {
     "name": "stdout",
     "output_type": "stream",
     "text": [
      "Before backward pass: \n",
      " None\n",
      "After backward pass: \n",
      " tensor([[2.0630e-03, 2.0630e-03, 2.0630e-03,  ..., 2.0630e-03, 2.0630e-03,\n",
      "         2.0630e-03],\n",
      "        [3.5567e-03, 3.5567e-03, 3.5567e-03,  ..., 3.5567e-03, 3.5567e-03,\n",
      "         3.5567e-03],\n",
      "        [8.4665e-04, 8.4665e-04, 8.4665e-04,  ..., 8.4665e-04, 8.4665e-04,\n",
      "         8.4665e-04],\n",
      "        ...,\n",
      "        [2.7554e-03, 2.7554e-03, 2.7554e-03,  ..., 2.7554e-03, 2.7554e-03,\n",
      "         2.7554e-03],\n",
      "        [3.6071e-03, 3.6071e-03, 3.6071e-03,  ..., 3.6071e-03, 3.6071e-03,\n",
      "         3.6071e-03],\n",
      "        [4.4364e-06, 4.4364e-06, 4.4364e-06,  ..., 4.4364e-06, 4.4364e-06,\n",
      "         4.4364e-06]])\n"
     ]
    }
   ],
   "source": [
    "print('Before backward pass: \\n', model[0].weight.grad)\n",
    "\n",
    "loss.backward()\n",
    "\n",
    "print('After backward pass: \\n', model[0].weight.grad)"
   ]
  },
  {
   "cell_type": "markdown",
   "metadata": {},
   "source": [
    "## Training the network!\n",
    "\n",
    "There's one last piece we need to start training, an optimizer that we'll use to update the weights with the gradients. We get these from PyTorch's [`optim` package](https://pytorch.org/docs/stable/optim.html). For example we can use stochastic gradient descent with `optim.SGD`. You can see how to define an optimizer below."
   ]
  },
  {
   "cell_type": "code",
   "execution_count": 12,
   "metadata": {},
   "outputs": [],
   "source": [
    "from torch import optim\n",
    "\n",
    "# Optimizers require the parameters to optimize and a learning rate\n",
    "optimizer = optim.SGD(model.parameters(), lr=0.01)"
   ]
  },
  {
   "cell_type": "markdown",
   "metadata": {},
   "source": [
    "Now we know how to use all the individual parts so it's time to see how they work together. Let's consider just one learning step before looping through all the data. The general process with PyTorch:\n",
    "\n",
    "* Make a forward pass through the network \n",
    "* Use the network output to calculate the loss\n",
    "* Perform a backward pass through the network with `loss.backward()` to calculate the gradients\n",
    "* Take a step with the optimizer to update the weights\n",
    "\n",
    "Below I'll go through one training step and print out the weights and gradients so you can see how it changes. Note that I have a line of code `optimizer.zero_grad()`. When you do multiple backwards passes with the same parameters, the gradients are accumulated. This means that you need to zero the gradients on each training pass or you'll retain gradients from previous training batches."
   ]
  },
  {
   "cell_type": "code",
   "execution_count": 13,
   "metadata": {},
   "outputs": [
    {
     "name": "stdout",
     "output_type": "stream",
     "text": [
      "Initial weights -  Parameter containing:\n",
      "tensor([[ 0.0138, -0.0311,  0.0209,  ..., -0.0004,  0.0248, -0.0072],\n",
      "        [ 0.0147, -0.0241,  0.0128,  ...,  0.0329,  0.0214,  0.0337],\n",
      "        [ 0.0248,  0.0003,  0.0073,  ..., -0.0173, -0.0242,  0.0149],\n",
      "        ...,\n",
      "        [-0.0025,  0.0047,  0.0072,  ..., -0.0157,  0.0141,  0.0217],\n",
      "        [-0.0271,  0.0345,  0.0096,  ..., -0.0129, -0.0045,  0.0174],\n",
      "        [-0.0228,  0.0227,  0.0298,  ...,  0.0030,  0.0263,  0.0093]],\n",
      "       requires_grad=True)\n",
      "Gradient - tensor([[-0.0011, -0.0011, -0.0011,  ..., -0.0011, -0.0011, -0.0011],\n",
      "        [ 0.0055,  0.0055,  0.0055,  ...,  0.0055,  0.0055,  0.0055],\n",
      "        [-0.0005, -0.0005, -0.0005,  ..., -0.0005, -0.0005, -0.0005],\n",
      "        ...,\n",
      "        [-0.0024, -0.0024, -0.0024,  ..., -0.0024, -0.0024, -0.0024],\n",
      "        [-0.0002, -0.0002, -0.0002,  ..., -0.0002, -0.0002, -0.0002],\n",
      "        [ 0.0002,  0.0002,  0.0002,  ...,  0.0002,  0.0002,  0.0002]])\n"
     ]
    }
   ],
   "source": [
    "print('Initial weights - ', model[0].weight)\n",
    "\n",
    "images, labels = next(iter(trainloader))\n",
    "images.resize_(64, 784)\n",
    "\n",
    "#Gradients accumulate everytime you call them, by default, be sure to call zero.gradient() to avoid that, \n",
    "#because we are not using batch gradient descent and rather mini-batch.\n",
    "optimizer.zero_grad() \n",
    "\n",
    "# Forward pass, then backward pass, then update weights\n",
    "output = model(images)\n",
    "loss = criterion(output, labels)\n",
    "loss.backward()\n",
    "print('Gradient -', model[0].weight.grad)"
   ]
  },
  {
   "cell_type": "code",
   "execution_count": 14,
   "metadata": {},
   "outputs": [
    {
     "name": "stdout",
     "output_type": "stream",
     "text": [
      "Updated weights -  Parameter containing:\n",
      "tensor([[ 0.0138, -0.0311,  0.0210,  ..., -0.0004,  0.0248, -0.0072],\n",
      "        [ 0.0146, -0.0241,  0.0127,  ...,  0.0329,  0.0213,  0.0336],\n",
      "        [ 0.0249,  0.0003,  0.0073,  ..., -0.0173, -0.0241,  0.0149],\n",
      "        ...,\n",
      "        [-0.0025,  0.0047,  0.0072,  ..., -0.0157,  0.0141,  0.0218],\n",
      "        [-0.0271,  0.0345,  0.0096,  ..., -0.0129, -0.0045,  0.0174],\n",
      "        [-0.0228,  0.0227,  0.0298,  ...,  0.0030,  0.0263,  0.0093]],\n",
      "       requires_grad=True)\n"
     ]
    }
   ],
   "source": [
    "# Take an update step and few the new weights\n",
    "optimizer.step()\n",
    "print('Updated weights - ', model[0].weight)"
   ]
  },
  {
   "cell_type": "markdown",
   "metadata": {},
   "source": [
    "### Training for real\n",
    "\n",
    "Now we'll put this algorithm into a loop so we can go through all the images. Some nomenclature, one pass through the entire dataset is called an *epoch*. So here we're going to loop through `trainloader` to get our training batches. For each batch, we'll doing a training pass where we calculate the loss, do a backwards pass, and update the weights.\n",
    "\n",
    "> **Exercise: ** Implement the training pass for our network. If you implemented it correctly, you should see the training loss drop with each epoch."
   ]
  },
  {
   "cell_type": "code",
   "execution_count": 15,
   "metadata": {},
   "outputs": [
    {
     "name": "stdout",
     "output_type": "stream",
     "text": [
      "Training loss: 1.932362875704572\n",
      "Training loss: 0.8334676682758433\n",
      "Training loss: 0.5073684466037669\n",
      "Training loss: 0.42245243972679697\n",
      "Training loss: 0.3824062081161084\n"
     ]
    }
   ],
   "source": [
    "model = nn.Sequential(nn.Linear(784, 128),\n",
    "                      nn.ReLU(),\n",
    "                      nn.Linear(128, 64),\n",
    "                      nn.ReLU(),\n",
    "                      nn.Linear(64, 10),\n",
    "                      nn.LogSoftmax(dim=1))\n",
    "\n",
    "criterion = nn.NLLLoss()\n",
    "optimizer = optim.SGD(model.parameters(), lr=0.003)\n",
    "\n",
    "epochs = 5\n",
    "for e in range(epochs):\n",
    "    running_loss = 0\n",
    "    for images, labels in trainloader:\n",
    "        # Flatten MNIST images into a 784 long vector\n",
    "        images = images.view(images.shape[0], -1)\n",
    "    \n",
    "        # TODO: Training pass\n",
    "        optimizer.zero_grad()\n",
    "        \n",
    "        output = model(images)\n",
    "        loss = criterion(output, labels)\n",
    "        loss.backward()\n",
    "        optimizer.step()\n",
    "        \n",
    "        running_loss += loss.item()\n",
    "    else:\n",
    "        print(f\"Training loss: {running_loss/len(trainloader)}\")"
   ]
  },
  {
   "cell_type": "markdown",
   "metadata": {},
   "source": [
    "With the network trained, we can check out it's predictions."
   ]
  },
  {
   "cell_type": "code",
   "execution_count": 16,
   "metadata": {},
   "outputs": [
    {
     "data": {
      "image/png": "[encoded data removed]",
      "text/plain": [
       "<Figure size 432x648 with 2 Axes>"
      ]
     },
     "metadata": {
      "needs_background": "light"
     },
     "output_type": "display_data"
    }
   ],
   "source": [
    "%matplotlib inline\n",
    "import helper\n",
    "\n",
    "images, labels = next(iter(trainloader))\n",
    "\n",
    "img = images[0].view(1, 784)\n",
    "# Turn off gradients to speed up this part\n",
    "with torch.no_grad():\n",
    "    logps = model(img)\n",
    "\n",
    "# Output of the network are log-probabilities, need to take exponential for probabilities\n",
    "ps = torch.exp(logps)\n",
    "helper.view_classify(img.view(1, 28, 28), ps)"
   ]
  },
  {
   "cell_type": "markdown",
   "metadata": {},
   "source": [
    "Now our network is brilliant. It can accurately predict the digits in our images. Next up you'll write the code for training a neural network on a more complex dataset."
   ]
  },
  {
   "cell_type": "code",
   "execution_count": 17,
   "metadata": {},
   "outputs": [],
   "source": [
    "w = list(model.parameters())"
   ]
  },
  {
   "cell_type": "code",
   "execution_count": 18,
   "metadata": {},
   "outputs": [
    {
     "name": "stdout",
     "output_type": "stream",
     "text": [
      "[Parameter containing:\n",
      "tensor([[ 1.1426e-03, -2.1267e-02, -6.1917e-03,  ...,  1.8162e-02,\n",
      "         -1.7464e-05, -1.1564e-03],\n",
      "        [ 1.9561e-02,  2.6091e-02, -2.8197e-02,  ...,  2.9468e-02,\n",
      "          1.4035e-02,  3.8315e-03],\n",
      "        [-3.3495e-02, -1.7008e-02,  8.9072e-03,  ...,  5.6760e-03,\n",
      "          6.2251e-03,  3.4644e-02],\n",
      "        ...,\n",
      "        [ 1.1489e-03,  1.6786e-02,  3.5600e-03,  ...,  1.0665e-03,\n",
      "         -2.3492e-02, -8.0212e-03],\n",
      "        [-2.3983e-02, -1.8386e-03, -3.4024e-02,  ..., -2.0886e-03,\n",
      "          2.5684e-03, -2.3508e-02],\n",
      "        [-2.3396e-02,  3.7662e-03,  7.9696e-03,  ...,  1.5652e-02,\n",
      "         -2.0761e-02,  1.4991e-02]], requires_grad=True), Parameter containing:\n",
      "tensor([ 0.0217,  0.0145,  0.0090, -0.0355, -0.0251, -0.0118,  0.0334,  0.0126,\n",
      "        -0.0018,  0.0207,  0.0034,  0.0317, -0.0077,  0.0358, -0.0229,  0.0232,\n",
      "        -0.0266, -0.0097,  0.0407,  0.0130,  0.0386, -0.0190,  0.0140, -0.0161,\n",
      "        -0.0163, -0.0147, -0.0061,  0.0304,  0.0217,  0.0388, -0.0246,  0.0083,\n",
      "        -0.0084,  0.0289,  0.0231, -0.0140, -0.0226,  0.0064,  0.0046,  0.0183,\n",
      "         0.0155, -0.0283, -0.0214,  0.0419,  0.0114,  0.0361, -0.0058, -0.0203,\n",
      "         0.0368,  0.0210, -0.0197, -0.0075,  0.0111,  0.0252,  0.0349, -0.0050,\n",
      "         0.0296, -0.0159, -0.0201,  0.0372, -0.0273, -0.0326, -0.0256, -0.0299,\n",
      "         0.0066, -0.0161,  0.0225, -0.0094,  0.0301,  0.0337,  0.0054, -0.0324,\n",
      "        -0.0028,  0.0116,  0.0113, -0.0046,  0.0033, -0.0285,  0.0072,  0.0185,\n",
      "        -0.0043,  0.0307, -0.0239,  0.0230,  0.0197, -0.0011, -0.0150,  0.0351,\n",
      "         0.0249,  0.0082,  0.0280,  0.0239, -0.0040,  0.0363,  0.0184,  0.0061,\n",
      "        -0.0050, -0.0104, -0.0051, -0.0030, -0.0245,  0.0233,  0.0116, -0.0144,\n",
      "        -0.0215, -0.0029,  0.0219, -0.0195, -0.0146, -0.0081, -0.0315, -0.0026,\n",
      "         0.0286, -0.0097,  0.0390,  0.0322, -0.0220, -0.0188, -0.0310, -0.0193,\n",
      "         0.0243, -0.0151, -0.0050,  0.0297,  0.0265, -0.0127, -0.0315, -0.0270],\n",
      "       requires_grad=True), Parameter containing:\n",
      "tensor([[-0.0338, -0.0370,  0.0380,  ..., -0.0686,  0.0893,  0.0182],\n",
      "        [ 0.0641,  0.0724,  0.0531,  ..., -0.0469, -0.0774, -0.0503],\n",
      "        [-0.0192,  0.0271,  0.0879,  ..., -0.0391,  0.0088,  0.0496],\n",
      "        ...,\n",
      "        [-0.0116, -0.0616,  0.0099,  ...,  0.1051, -0.0476, -0.0598],\n",
      "        [-0.0171, -0.0278,  0.0653,  ..., -0.0182, -0.0635, -0.0540],\n",
      "        [-0.0201,  0.0171, -0.0685,  ...,  0.0658, -0.0098, -0.0611]],\n",
      "       requires_grad=True), Parameter containing:\n",
      "tensor([-0.0803, -0.0451, -0.0883, -0.0057, -0.0074,  0.0944,  0.0736,  0.0303,\n",
      "         0.0706, -0.0472,  0.0011,  0.0324,  0.0616, -0.0651, -0.0722, -0.0679,\n",
      "        -0.0441,  0.0336, -0.0406, -0.0694, -0.0726,  0.0064,  0.0477,  0.0586,\n",
      "         0.0126, -0.0370,  0.0617,  0.0166,  0.0207, -0.0678,  0.0264, -0.0121,\n",
      "        -0.0342, -0.0456, -0.0195, -0.0089,  0.0772,  0.0489,  0.0154, -0.0047,\n",
      "         0.0965, -0.0234,  0.0341,  0.0855, -0.0636,  0.0585,  0.0062,  0.0467,\n",
      "         0.0957, -0.0370, -0.0322, -0.0220, -0.0106,  0.0449, -0.0852, -0.0738,\n",
      "        -0.0106, -0.0738,  0.0928,  0.0393,  0.0140,  0.0329, -0.0087,  0.0274],\n",
      "       requires_grad=True), Parameter containing:\n",
      "tensor([[-1.1330e-01,  3.0292e-02, -1.2293e-01,  2.7949e-01,  4.3316e-02,\n",
      "         -1.9598e-02,  3.1661e-01, -2.3162e-01, -8.3671e-02,  2.4826e-02,\n",
      "          8.7214e-02, -1.6617e-01,  1.4813e-01, -6.0486e-02,  2.4001e-02,\n",
      "         -3.2540e-01, -2.0896e-02,  7.2088e-02,  1.0419e-01, -1.3303e-01,\n",
      "          1.6833e-01,  2.8913e-02, -3.2572e-02, -4.2403e-02,  3.1600e-01,\n",
      "         -3.8084e-02,  4.6478e-02,  1.1447e-01, -3.7629e-02, -5.2469e-02,\n",
      "          1.7196e-03, -1.4479e-01,  1.0044e-01,  1.6127e-01, -1.8143e-01,\n",
      "          1.4358e-01,  5.0107e-02, -1.1602e-01,  1.6023e-02, -3.9878e-02,\n",
      "         -1.8997e-01, -1.1972e-01,  8.4933e-02,  4.9185e-02, -3.5339e-02,\n",
      "          1.2046e-01,  5.8101e-02,  6.9356e-02,  3.0012e-01, -2.1867e-01,\n",
      "          1.7257e-01,  8.3271e-02,  1.5188e-02,  5.8864e-02, -8.1673e-02,\n",
      "         -7.0607e-02, -6.2723e-03,  1.3140e-01, -2.3765e-01, -6.1514e-02,\n",
      "          1.3493e-01, -5.2069e-02, -1.8331e-02, -1.6718e-02],\n",
      "        [ 1.1520e-01,  3.2179e-02,  3.1277e-02,  3.0356e-02, -7.1304e-02,\n",
      "          5.2853e-02, -8.4013e-02,  1.0698e-01,  6.8439e-02, -2.0103e-04,\n",
      "         -1.2534e-01, -1.0844e-01, -1.8178e-01,  4.5029e-03,  7.3758e-02,\n",
      "          3.3105e-01, -7.1392e-02, -7.3546e-02,  1.1808e-01,  1.1064e-01,\n",
      "         -2.0602e-01,  7.0084e-02, -3.1711e-01,  1.4280e-01, -3.5847e-01,\n",
      "         -8.6897e-02,  1.6048e-03, -1.1824e-02, -9.3883e-02, -1.1863e-01,\n",
      "          4.6001e-02,  1.6011e-02,  1.0388e-01,  4.7188e-03, -1.8326e-01,\n",
      "         -7.5822e-02, -1.0916e-01, -5.3799e-02, -2.3749e-01,  1.4327e-01,\n",
      "          1.2481e-01, -1.5996e-01,  2.4924e-01, -2.7289e-02,  5.0983e-02,\n",
      "          2.3601e-01, -9.4427e-02,  1.4381e-01, -2.5897e-01,  2.1754e-01,\n",
      "         -8.8878e-02, -9.8754e-02,  1.5430e-01, -2.6520e-02, -1.5831e-02,\n",
      "          1.0843e-01, -8.3459e-02, -2.1280e-01, -1.5842e-01,  6.2668e-02,\n",
      "          5.0665e-02,  5.5214e-02,  1.0252e-01,  1.1840e-01],\n",
      "        [ 7.4920e-02, -5.1103e-02, -7.2155e-02, -1.6344e-01,  1.7067e-01,\n",
      "          7.7767e-03, -4.8119e-03, -2.6360e-01,  1.0928e-01,  2.0405e-01,\n",
      "         -5.4663e-02,  8.8551e-02,  9.2333e-02, -2.4884e-02, -1.1943e-01,\n",
      "         -2.8158e-01,  1.5893e-01,  1.6898e-01,  8.2524e-02,  1.4810e-01,\n",
      "         -1.6715e-01, -9.1823e-02,  1.7082e-01,  2.4125e-01, -5.9815e-02,\n",
      "          1.1097e-01, -1.9705e-01,  2.8503e-02, -1.3939e-01, -5.5591e-02,\n",
      "          5.6718e-02,  1.8865e-01, -1.4969e-02, -7.3761e-02, -1.1279e-01,\n",
      "          1.3684e-01, -1.5562e-02, -4.9888e-02,  1.3116e-01, -2.1966e-02,\n",
      "          2.7849e-01, -2.1543e-01,  9.1470e-02,  4.6637e-02, -2.8686e-03,\n",
      "         -8.3349e-02,  3.0950e-03,  2.7194e-01, -2.8597e-02,  5.2485e-02,\n",
      "         -1.2221e-01, -9.3462e-02, -2.7159e-01, -1.7955e-01,  1.1690e-01,\n",
      "          9.9915e-02,  1.6441e-01,  1.8212e-01, -2.7439e-02, -8.3407e-02,\n",
      "          2.0071e-01,  1.3369e-01, -1.1128e-01,  3.8177e-02],\n",
      "        [ 2.2571e-01,  4.8967e-02,  4.1654e-02, -9.4606e-02, -5.1302e-02,\n",
      "         -2.8699e-01, -2.1569e-02,  1.6530e-01, -1.0461e-01,  3.1264e-01,\n",
      "         -1.8083e-01, -9.1336e-02, -5.6165e-04, -1.9941e-02, -9.8139e-02,\n",
      "          2.1185e-01, -1.4445e-01,  2.7236e-01,  9.2742e-02,  1.4830e-01,\n",
      "         -2.1184e-02,  5.2145e-02,  5.4873e-02, -1.0743e-01,  2.4241e-02,\n",
      "         -6.1279e-03, -2.2134e-01,  1.5050e-01,  9.7487e-02, -3.4353e-03,\n",
      "          2.6619e-02,  1.0159e-01, -8.2621e-02,  1.3102e-01,  2.5964e-02,\n",
      "          6.6928e-02,  1.0261e-01,  6.0893e-02,  1.3928e-02, -9.8031e-02,\n",
      "          8.1791e-02,  4.1387e-02, -1.6682e-01, -2.1148e-01, -3.7624e-02,\n",
      "         -1.7726e-01,  1.1968e-01, -1.2698e-01,  1.4625e-01, -7.0275e-02,\n",
      "          1.2966e-01, -7.6105e-02, -1.6970e-02, -1.0355e-01, -4.4485e-02,\n",
      "          6.9717e-02,  2.8427e-01,  6.4513e-02, -1.4985e-01, -1.1774e-01,\n",
      "         -1.5454e-01, -1.6556e-01, -2.3876e-02, -4.7609e-02],\n",
      "        [ 1.9811e-01,  7.3009e-02,  1.0051e-01, -8.6810e-02, -1.1912e-01,\n",
      "          3.4325e-01, -1.7316e-01,  3.8511e-02,  1.2323e-01, -1.8639e-01,\n",
      "          1.2812e-01, -1.1342e-01,  3.8930e-02, -1.0638e-01,  9.2524e-02,\n",
      "         -9.0959e-03,  1.8919e-01, -2.3252e-01,  8.3779e-02, -1.6171e-01,\n",
      "          1.3302e-01,  2.5221e-02,  1.4926e-01,  7.0360e-02,  8.6598e-02,\n",
      "         -9.9951e-02,  1.8983e-01,  9.4347e-02, -1.8389e-01,  7.4074e-02,\n",
      "         -3.9882e-02,  3.7599e-02,  1.0382e-01, -2.1467e-01,  2.1128e-01,\n",
      "          9.9724e-02,  1.5687e-02, -8.3243e-02,  2.1998e-01,  6.1055e-02,\n",
      "          2.6693e-02, -1.2700e-01, -2.7151e-01, -2.0797e-01, -5.6353e-02,\n",
      "         -3.1870e-01,  6.6227e-02, -4.6330e-02, -5.0675e-02,  1.7879e-01,\n",
      "         -6.3288e-02, -8.8909e-02,  8.9150e-02,  1.1151e-01,  1.1026e-01,\n",
      "          3.3078e-02, -1.1908e-01, -9.8723e-02,  3.0588e-01,  9.1246e-02,\n",
      "         -1.9551e-01, -8.5609e-02,  1.0395e-01,  7.9669e-02],\n",
      "        [-1.2340e-01, -1.1427e-01,  4.5441e-02,  1.0654e-01, -4.5453e-02,\n",
      "          5.1249e-02,  5.8589e-02, -5.9113e-02, -7.9151e-02, -1.4508e-01,\n",
      "          7.8406e-02,  9.7389e-02,  8.5485e-02,  1.1724e-01, -2.6737e-02,\n",
      "          1.8135e-01,  1.0828e-01,  2.8122e-01, -4.4588e-02, -1.3755e-01,\n",
      "          1.9223e-01,  8.7822e-03, -1.3015e-01,  5.0742e-02,  1.9789e-01,\n",
      "         -1.8052e-02,  1.4302e-01, -1.1224e-02,  1.7513e-01,  1.1780e-01,\n",
      "          8.7378e-02, -2.2589e-01, -5.0722e-02,  1.0785e-02,  4.8179e-02,\n",
      "         -1.0711e-01, -9.1186e-02, -7.2997e-02, -2.0907e-02, -2.2679e-02,\n",
      "          1.6752e-02, -5.3544e-02, -1.2526e-01,  3.1603e-02, -8.7169e-02,\n",
      "          2.0345e-01,  1.9384e-02, -2.2681e-01, -1.1531e-01, -1.1513e-01,\n",
      "         -7.7965e-03,  1.0080e-01,  4.6654e-02,  1.4314e-01,  4.6397e-02,\n",
      "         -4.4736e-02,  2.8332e-01, -8.4598e-02, -1.1933e-01, -2.9159e-02,\n",
      "         -2.3311e-01, -1.5158e-01,  1.0210e-01, -7.5555e-02],\n",
      "        [-9.5038e-02,  5.1892e-02,  6.0603e-02,  1.1951e-01, -9.4592e-02,\n",
      "          1.5676e-01, -1.2982e-02,  4.5961e-02,  1.1053e-01, -2.2190e-01,\n",
      "         -2.8927e-01, -1.2989e-01, -6.6140e-02, -6.5061e-02,  6.5718e-02,\n",
      "         -1.9352e-01, -2.2469e-01, -1.1918e-01, -1.1840e-01, -1.3459e-01,\n",
      "          2.2421e-01, -8.4780e-02,  1.4627e-01,  9.0146e-02,  9.0930e-02,\n",
      "          7.4528e-02,  1.9493e-01, -1.2699e-01, -2.9310e-01, -1.1264e-01,\n",
      "         -3.7498e-02,  2.3435e-02,  9.9670e-02, -8.0227e-03,  3.2517e-02,\n",
      "         -1.0993e-01, -7.8010e-02, -1.7612e-01, -2.3448e-01, -1.6102e-01,\n",
      "          6.3333e-02, -3.2755e-02, -2.2001e-01,  5.7282e-02, -3.6747e-02,\n",
      "          2.1468e-01, -4.9894e-03,  1.2490e-01, -9.7945e-02,  1.6643e-01,\n",
      "         -1.5831e-01,  1.0343e-01, -1.5206e-01, -9.0187e-02,  8.8820e-02,\n",
      "          1.1442e-01,  1.4854e-01, -1.9988e-01,  1.4558e-01,  2.0848e-01,\n",
      "          9.3983e-02,  2.9016e-01, -6.8156e-02,  1.0396e-01],\n",
      "        [-1.5616e-01, -9.6798e-02,  1.2493e-01,  5.9034e-02,  5.7891e-02,\n",
      "         -2.2079e-01,  1.6089e-01,  1.8007e-01,  7.2334e-02, -8.8939e-02,\n",
      "          2.6628e-01,  2.1768e-01,  7.7499e-02, -7.2575e-02, -1.0372e-01,\n",
      "          1.8523e-01,  1.9061e-02, -2.5017e-03,  5.8495e-02,  1.2807e-01,\n",
      "         -3.0561e-02,  3.3920e-02,  1.0977e-01, -4.9968e-02, -8.7099e-02,\n",
      "          3.2221e-02, -2.2390e-01, -1.2509e-01, -5.7527e-02,  6.9298e-02,\n",
      "          6.3842e-02,  2.0239e-01, -1.0040e-01,  1.4650e-01,  4.9217e-02,\n",
      "          4.9160e-02, -1.0019e-01, -1.4510e-01,  2.9190e-02,  2.4698e-01,\n",
      "         -2.2830e-01,  6.4334e-02,  2.5301e-01,  6.7175e-02,  1.7397e-03,\n",
      "         -2.7505e-01,  8.3855e-02,  5.9219e-02,  1.0072e-01,  8.2053e-02,\n",
      "         -3.7124e-02,  2.8518e-02,  2.4208e-01, -1.5367e-01,  7.3588e-02,\n",
      "         -1.0531e-01, -3.9275e-01,  1.0132e-01,  6.7942e-03, -5.0820e-02,\n",
      "         -4.3159e-02, -2.5591e-01, -2.6284e-02,  6.5014e-02],\n",
      "        [ 7.1029e-02,  6.3789e-02,  1.1549e-01, -6.0879e-03, -2.5392e-02,\n",
      "          9.4324e-03,  3.3844e-02,  6.0575e-02,  1.8027e-02,  2.2967e-01,\n",
      "          1.6297e-01, -2.7646e-02,  2.2530e-01, -3.7645e-02, -1.5306e-02,\n",
      "         -5.0417e-02, -1.3740e-01,  6.1613e-02, -1.8813e-03, -7.2519e-02,\n",
      "         -1.1399e-01,  1.2025e-01, -2.7321e-02,  1.2890e-01, -2.2271e-01,\n",
      "          1.1306e-01,  1.9549e-01, -9.6834e-02,  1.1681e-01, -1.0946e-01,\n",
      "         -2.6874e-02, -2.7879e-02,  1.4829e-01, -2.4636e-01,  1.4566e-01,\n",
      "         -5.2718e-02, -1.2720e-02,  2.1358e-01,  1.2158e-01, -6.5464e-02,\n",
      "          9.8552e-02,  2.1055e-01, -3.6860e-02,  9.2469e-02, -4.0790e-02,\n",
      "          2.7835e-01, -6.1461e-02, -1.7900e-01, -2.0416e-01, -1.5176e-01,\n",
      "          1.9782e-01,  9.8024e-02, -2.4063e-01,  7.4662e-02,  9.3390e-03,\n",
      "         -2.9103e-02, -1.0855e-01,  7.8656e-02, -7.3519e-02,  5.1202e-02,\n",
      "         -1.0891e-01,  1.2456e-01,  1.1925e-01, -2.2149e-02],\n",
      "        [-1.0238e-01, -3.6512e-02, -8.8128e-02, -9.1813e-03,  1.3747e-01,\n",
      "          1.1633e-01, -3.9584e-02,  1.9395e-01,  1.1597e-01, -7.2803e-02,\n",
      "          2.2251e-01,  2.2042e-01, -9.4454e-02,  6.8965e-02,  6.8081e-02,\n",
      "          3.1401e-02, -1.3163e-01, -1.5767e-01,  8.0145e-02, -7.5153e-02,\n",
      "          5.9398e-02,  1.0109e-01,  1.3549e-02, -2.5385e-01, -1.5676e-01,\n",
      "          1.2338e-01,  1.1019e-01,  1.5816e-01,  1.6584e-01,  4.0151e-03,\n",
      "          7.4194e-02,  5.0513e-02,  8.8303e-02, -1.7182e-01,  2.3174e-01,\n",
      "         -1.7481e-02, -8.1561e-03,  9.4036e-02,  1.0991e-01, -1.3258e-01,\n",
      "         -3.3334e-03,  2.5594e-01, -4.2693e-02,  7.3595e-02,  1.0795e-01,\n",
      "         -2.6661e-01, -3.9675e-02,  2.0108e-02,  9.2744e-02, -1.0038e-01,\n",
      "          3.3936e-02, -1.2235e-01,  6.3067e-02, -1.2981e-01, -4.9985e-02,\n",
      "         -1.1201e-01, -9.4221e-02, -2.3325e-02,  1.6218e-01,  1.4198e-02,\n",
      "          1.6765e-01, -1.9801e-01, -1.0391e-01, -1.1670e-01]],\n",
      "       requires_grad=True), Parameter containing:\n",
      "tensor([-0.0635,  0.0201,  0.0383,  0.1277,  0.0575,  0.0106,  0.0395,  0.0841,\n",
      "        -0.0639, -0.0470], requires_grad=True)]\n"
     ]
    }
   ],
   "source": [
    "print(w)"
   ]
  },
  {
   "cell_type": "code",
   "execution_count": null,
   "metadata": {},
   "outputs": [],
   "source": []
  }
 ],
 "metadata": {
  "kernelspec": {
   "display_name": "pytorch",
   "language": "python",
   "name": "pytorch"
  },
  "language_info": {
   "codemirror_mode": {
    "name": "ipython",
    "version": 3
   },
   "file_extension": ".py",
   "mimetype": "text/x-python",
   "name": "python",
   "nbconvert_exporter": "python",
   "pygments_lexer": "ipython3",
   "version": "3.7.2"
  }
 },
 "nbformat": 4,
 "nbformat_minor": 2
}
