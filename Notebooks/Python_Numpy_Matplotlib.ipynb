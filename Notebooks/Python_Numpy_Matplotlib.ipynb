{
 "cells": [
  {
   "cell_type": "markdown",
   "metadata": {},
   "source": [
    "# BITS F312 | NNFL | Python Tutorial"
   ]
  },
  {
   "cell_type": "markdown",
   "metadata": {},
   "source": [
    "Adapted from the `CS231n` Python tutorial by Justin Johnson (http://cs231n.github.io/python-numpy-tutorial/)."
   ]
  },
  {
   "cell_type": "markdown",
   "metadata": {},
   "source": [
    "## Introduction"
   ]
  },
  {
   "cell_type": "markdown",
   "metadata": {
    "ExecuteTime": {
     "end_time": "2019-01-31T12:47:11.432216Z",
     "start_time": "2019-01-31T12:47:11.424824Z"
    }
   },
   "source": [
    "In these two days we will cover a few essential tools required by data-scientists, machine-learning engineers and NNFL students"
   ]
  },
  {
   "cell_type": "markdown",
   "metadata": {},
   "source": [
    "In today's session, we will cover:\n",
    "\n",
    "* Basic data types (Containers, Lists, Dictionaries, Sets, Tuples), Functions, Classes\n",
    "* Object Oriented and Functional Programming\n",
    "* Other Useful Pointers and Guidelines"
   ]
  },
  {
   "cell_type": "markdown",
   "metadata": {},
   "source": [
    "## Basics of Python"
   ]
  },
  {
   "cell_type": "markdown",
   "metadata": {},
   "source": [
    "Python is a high-level, dynamically typed multiparadigm programming language. Python code is often said to be almost like pseudocode, since it allows you to express very powerful ideas in very few lines of code while being very readable. As an example, here is an implementation of the classic quicksort algorithm in Python:"
   ]
  },
  {
   "cell_type": "code",
   "execution_count": 1,
   "metadata": {
    "ExecuteTime": {
     "end_time": "2019-02-03T06:40:18.787036Z",
     "start_time": "2019-02-03T06:40:18.782147Z"
    }
   },
   "outputs": [
    {
     "name": "stdout",
     "output_type": "stream",
     "text": [
      "[1, 1, 2, 3, 6, 8, 10]\n"
     ]
    }
   ],
   "source": [
    "def quicksort(arr):\n",
    "    if len(arr) <= 1:\n",
    "        return arr\n",
    "    pivot = arr[len(arr) // 2]\n",
    "    left = [x for x in arr if x < pivot]\n",
    "    middle = [x for x in arr if x == pivot]\n",
    "    right = [x for x in arr if x > pivot]\n",
    "    return quicksort(left) + middle + quicksort(right)\n",
    "\n",
    "print(quicksort([3,6,8,10,1,2,1]))"
   ]
  },
  {
   "cell_type": "markdown",
   "metadata": {},
   "source": [
    "or, we could just do this"
   ]
  },
  {
   "cell_type": "code",
   "execution_count": 2,
   "metadata": {
    "ExecuteTime": {
     "end_time": "2019-02-03T06:40:19.041458Z",
     "start_time": "2019-02-03T06:40:19.027008Z"
    }
   },
   "outputs": [
    {
     "data": {
      "text/plain": [
       "[1, 1, 2, 3, 6, 8, 10]"
      ]
     },
     "execution_count": 2,
     "metadata": {},
     "output_type": "execute_result"
    }
   ],
   "source": [
    "sorted([3,6,8,10,1,2,1])"
   ]
  },
  {
   "cell_type": "markdown",
   "metadata": {},
   "source": [
    "It internally uses an algorithm called 'Timsort' for sorting."
   ]
  },
  {
   "cell_type": "markdown",
   "metadata": {},
   "source": [
    "### Basic data types"
   ]
  },
  {
   "cell_type": "markdown",
   "metadata": {},
   "source": [
    "#### Numbers"
   ]
  },
  {
   "cell_type": "markdown",
   "metadata": {},
   "source": [
    "Integers and floats work as you would expect from other languages:"
   ]
  },
  {
   "cell_type": "code",
   "execution_count": 3,
   "metadata": {
    "ExecuteTime": {
     "end_time": "2019-02-03T06:40:19.449806Z",
     "start_time": "2019-02-03T06:40:19.447589Z"
    }
   },
   "outputs": [],
   "source": [
    "x = 3"
   ]
  },
  {
   "cell_type": "code",
   "execution_count": 4,
   "metadata": {
    "ExecuteTime": {
     "end_time": "2019-02-03T06:40:19.603897Z",
     "start_time": "2019-02-03T06:40:19.598354Z"
    }
   },
   "outputs": [
    {
     "data": {
      "text/plain": [
       "int"
      ]
     },
     "execution_count": 4,
     "metadata": {},
     "output_type": "execute_result"
    }
   ],
   "source": [
    "type(x)"
   ]
  },
  {
   "cell_type": "code",
   "execution_count": 5,
   "metadata": {
    "ExecuteTime": {
     "end_time": "2019-02-03T06:40:19.744981Z",
     "start_time": "2019-02-03T06:40:19.738620Z"
    }
   },
   "outputs": [
    {
     "name": "stdout",
     "output_type": "stream",
     "text": [
      "4\n",
      "2\n",
      "6\n",
      "9\n"
     ]
    }
   ],
   "source": [
    "print(x + 1)   # Addition;\n",
    "print(x - 1)   # Subtraction;\n",
    "print(x * 2)   # Multiplication;\n",
    "print(x ** 2)  # Exponentiation;"
   ]
  },
  {
   "cell_type": "code",
   "execution_count": 6,
   "metadata": {
    "ExecuteTime": {
     "end_time": "2019-02-03T06:40:19.876058Z",
     "start_time": "2019-02-03T06:40:19.871762Z"
    }
   },
   "outputs": [
    {
     "name": "stdout",
     "output_type": "stream",
     "text": [
      "4\n",
      "8\n"
     ]
    }
   ],
   "source": [
    "x += 1\n",
    "print(x)  # Prints \"4\"\n",
    "x *= 2\n",
    "print(x)  # Prints \"8\""
   ]
  },
  {
   "cell_type": "code",
   "execution_count": 7,
   "metadata": {
    "ExecuteTime": {
     "end_time": "2019-02-03T06:40:20.006829Z",
     "start_time": "2019-02-03T06:40:20.002885Z"
    }
   },
   "outputs": [
    {
     "name": "stdout",
     "output_type": "stream",
     "text": [
      "<class 'float'>\n",
      "2.5 3.5 5.0 6.25\n"
     ]
    }
   ],
   "source": [
    "y = 2.5\n",
    "print(type(y)) # Prints \"<type 'float'>\"\n",
    "print(y, y + 1, y * 2, y ** 2) # Prints \"2.5 3.5 5.0 6.25\""
   ]
  },
  {
   "cell_type": "markdown",
   "metadata": {},
   "source": [
    "Note that unlike many languages, Python does not have unary increment (x++) or decrement (x--) operators.\n",
    "\n",
    "Python also has built-in types for long integers and complex numbers; you can find all of the details in the [documentation](https://docs.python.org/2/library/stdtypes.html#numeric-types-int-float-long-complex)."
   ]
  },
  {
   "cell_type": "markdown",
   "metadata": {},
   "source": [
    "#### Booleans"
   ]
  },
  {
   "cell_type": "markdown",
   "metadata": {},
   "source": [
    "Python implements all of the usual operators for Boolean logic, but uses English words rather than symbols (`&&`, `||`, etc.):"
   ]
  },
  {
   "cell_type": "code",
   "execution_count": 8,
   "metadata": {
    "ExecuteTime": {
     "end_time": "2019-02-03T06:40:20.470202Z",
     "start_time": "2019-02-03T06:40:20.466976Z"
    }
   },
   "outputs": [
    {
     "name": "stdout",
     "output_type": "stream",
     "text": [
      "<class 'bool'>\n"
     ]
    }
   ],
   "source": [
    "t, f = True, False\n",
    "print(type(t)) # Prints \"<type 'bool'>\""
   ]
  },
  {
   "cell_type": "markdown",
   "metadata": {},
   "source": [
    "Yes, we can assign like that :D"
   ]
  },
  {
   "cell_type": "code",
   "execution_count": 9,
   "metadata": {
    "ExecuteTime": {
     "end_time": "2019-02-03T06:40:20.686745Z",
     "start_time": "2019-02-03T06:40:20.683679Z"
    }
   },
   "outputs": [],
   "source": [
    "a = 1\n",
    "b = 2"
   ]
  },
  {
   "cell_type": "code",
   "execution_count": 10,
   "metadata": {
    "ExecuteTime": {
     "end_time": "2019-02-03T06:40:20.807373Z",
     "start_time": "2019-02-03T06:40:20.804718Z"
    }
   },
   "outputs": [],
   "source": [
    "a,b = b,a"
   ]
  },
  {
   "cell_type": "code",
   "execution_count": 11,
   "metadata": {
    "ExecuteTime": {
     "end_time": "2019-02-03T06:40:20.929299Z",
     "start_time": "2019-02-03T06:40:20.921944Z"
    }
   },
   "outputs": [
    {
     "name": "stdout",
     "output_type": "stream",
     "text": [
      "2 1\n"
     ]
    }
   ],
   "source": [
    "print(a,b)"
   ]
  },
  {
   "cell_type": "markdown",
   "metadata": {},
   "source": [
    "Now we let's look at the operations:"
   ]
  },
  {
   "cell_type": "code",
   "execution_count": 12,
   "metadata": {
    "ExecuteTime": {
     "end_time": "2019-02-03T06:40:21.262039Z",
     "start_time": "2019-02-03T06:40:21.257323Z"
    }
   },
   "outputs": [
    {
     "name": "stdout",
     "output_type": "stream",
     "text": [
      "False\n",
      "True\n",
      "False\n",
      "True\n"
     ]
    }
   ],
   "source": [
    "print(t and f) # Logical AND;\n",
    "print(t or f)  # Logical OR;\n",
    "print(not t)   # Logical NOT;\n",
    "print(t != f)  # Logical XOR;"
   ]
  },
  {
   "cell_type": "markdown",
   "metadata": {},
   "source": [
    "#### Strings"
   ]
  },
  {
   "cell_type": "code",
   "execution_count": 13,
   "metadata": {
    "ExecuteTime": {
     "end_time": "2019-02-03T06:40:21.551179Z",
     "start_time": "2019-02-03T06:40:21.545707Z"
    }
   },
   "outputs": [
    {
     "name": "stdout",
     "output_type": "stream",
     "text": [
      "hello\n"
     ]
    },
    {
     "data": {
      "text/plain": [
       "(None, 5)"
      ]
     },
     "execution_count": 13,
     "metadata": {},
     "output_type": "execute_result"
    }
   ],
   "source": [
    "hello = 'hello'   # String literals can use single quotes\n",
    "world = \"world\"   # or double quotes; it does not matter.\n",
    "print(hello), len(hello)"
   ]
  },
  {
   "cell_type": "code",
   "execution_count": 14,
   "metadata": {
    "ExecuteTime": {
     "end_time": "2019-02-03T06:40:21.703495Z",
     "start_time": "2019-02-03T06:40:21.699549Z"
    }
   },
   "outputs": [
    {
     "name": "stdout",
     "output_type": "stream",
     "text": [
      "hello world\n"
     ]
    }
   ],
   "source": [
    "hw = hello + ' ' + world  # String concatenation\n",
    "print(hw)  # prints \"hello world\""
   ]
  },
  {
   "cell_type": "markdown",
   "metadata": {},
   "source": [
    "String objects have a bunch of useful methods; for example:"
   ]
  },
  {
   "cell_type": "code",
   "execution_count": 15,
   "metadata": {
    "ExecuteTime": {
     "end_time": "2019-02-03T06:40:21.921090Z",
     "start_time": "2019-02-03T06:40:21.915538Z"
    }
   },
   "outputs": [
    {
     "name": "stdout",
     "output_type": "stream",
     "text": [
      "Hello\n",
      "HELLO\n",
      "  hello\n",
      " hello \n",
      "he(ell)(ell)o\n",
      "world\n"
     ]
    }
   ],
   "source": [
    "s = \"hello\"\n",
    "print(s.capitalize())  # Capitalize a string; prints \"Hello\"\n",
    "print(s.upper())       # Convert a string to uppercase; prints \"HELLO\"\n",
    "print(s.rjust(7))      # Right-justify a string, padding with spaces; prints \"  hello\"\n",
    "print(s.center(7))     # Center a string, padding with spaces; prints \" hello \"\n",
    "print(s.replace('l', '(ell)'))  # Replace all instances of one substring with another;\n",
    "                               # prints \"he(ell)(ell)o\"\n",
    "print('  world '.strip())  # Strip leading and trailing whitespace; prints \"world\""
   ]
  },
  {
   "cell_type": "markdown",
   "metadata": {},
   "source": [
    "You can find a list of all string methods in the [documentation](https://docs.python.org/2/library/stdtypes.html#string-methods)."
   ]
  },
  {
   "cell_type": "markdown",
   "metadata": {},
   "source": [
    "### Containers"
   ]
  },
  {
   "cell_type": "markdown",
   "metadata": {},
   "source": [
    "Python includes several built-in container types: lists, dictionaries, sets, and tuples."
   ]
  },
  {
   "cell_type": "markdown",
   "metadata": {},
   "source": [
    "#### Lists"
   ]
  },
  {
   "cell_type": "markdown",
   "metadata": {},
   "source": [
    "A list is the Python equivalent of an array, but is resizeable and can contain elements of different types:"
   ]
  },
  {
   "cell_type": "code",
   "execution_count": 16,
   "metadata": {
    "ExecuteTime": {
     "end_time": "2019-02-03T06:40:22.517625Z",
     "start_time": "2019-02-03T06:40:22.507844Z"
    }
   },
   "outputs": [
    {
     "name": "stdout",
     "output_type": "stream",
     "text": [
      "[3, 1, 2] 2\n",
      "2\n"
     ]
    }
   ],
   "source": [
    "xs = [3, 1, 2]   # Create a list\n",
    "print(xs, xs[2])\n",
    "print(xs[-1])     # Negative indices count from the end of the list; prints \"2\""
   ]
  },
  {
   "cell_type": "code",
   "execution_count": 17,
   "metadata": {
    "ExecuteTime": {
     "end_time": "2019-02-03T06:40:22.665252Z",
     "start_time": "2019-02-03T06:40:22.661797Z"
    }
   },
   "outputs": [
    {
     "name": "stdout",
     "output_type": "stream",
     "text": [
      "[3, 1, 'foo']\n"
     ]
    }
   ],
   "source": [
    "xs[2] = 'foo'    # Lists can contain elements of different types\n",
    "print(xs)\n"
   ]
  },
  {
   "cell_type": "code",
   "execution_count": 18,
   "metadata": {
    "ExecuteTime": {
     "end_time": "2019-02-03T06:40:22.810601Z",
     "start_time": "2019-02-03T06:40:22.807188Z"
    }
   },
   "outputs": [
    {
     "name": "stdout",
     "output_type": "stream",
     "text": [
      "[3, 1, 'foo', 'bar']\n"
     ]
    }
   ],
   "source": [
    "xs.append('bar') # Add a new element to the end of the list\n",
    "print(xs)"
   ]
  },
  {
   "cell_type": "code",
   "execution_count": 19,
   "metadata": {
    "ExecuteTime": {
     "end_time": "2019-02-03T06:40:22.950985Z",
     "start_time": "2019-02-03T06:40:22.940771Z"
    }
   },
   "outputs": [
    {
     "name": "stdout",
     "output_type": "stream",
     "text": [
      "bar [3, 1, 'foo']\n"
     ]
    }
   ],
   "source": [
    "x = xs.pop()     # Remove and return the last element of the list\n",
    "print(x, xs)"
   ]
  },
  {
   "cell_type": "markdown",
   "metadata": {},
   "source": [
    "As usual, you can find all the gory details about lists in the [documentation](https://docs.python.org/2/tutorial/datastructures.html#more-on-lists)."
   ]
  },
  {
   "cell_type": "markdown",
   "metadata": {},
   "source": [
    "#### Slicing"
   ]
  },
  {
   "cell_type": "markdown",
   "metadata": {},
   "source": [
    "In addition to accessing list elements one at a time, Python provides concise syntax to access sublists; this is known as slicing:"
   ]
  },
  {
   "cell_type": "code",
   "execution_count": 20,
   "metadata": {
    "ExecuteTime": {
     "end_time": "2019-02-03T06:40:23.418089Z",
     "start_time": "2019-02-03T06:40:23.408199Z"
    }
   },
   "outputs": [
    {
     "name": "stdout",
     "output_type": "stream",
     "text": [
      "[0, 1, 2, 3, 4]\n",
      "[2, 3]\n",
      "[2, 3, 4]\n",
      "[0, 1]\n",
      "[0, 1, 2, 3, 4]\n",
      "[0, 1, 2, 3]\n",
      "[0, 1, 8, 9, 4]\n"
     ]
    }
   ],
   "source": [
    "nums = list(range(5))    # range is a built-in function that creates a list of integers\n",
    "print(nums)         # Prints \"[0, 1, 2, 3, 4]\"\n",
    "print(nums[2:4])    # Get a slice from index 2 to 4 (exclusive); prints \"[2, 3]\"\n",
    "print(nums[2:])     # Get a slice from index 2 to the end; prints \"[2, 3, 4]\"\n",
    "print(nums[:2])     # Get a slice from the start to index 2 (exclusive); prints \"[0, 1]\"\n",
    "print(nums[:])      # Get a slice of the whole list; prints [\"0, 1, 2, 3, 4]\"\n",
    "print(nums[:-1])    # Slice indices can be negative; prints [\"0, 1, 2, 3]\"\n",
    "nums[2:4] = [8, 9] # Assign a new sublist to a slice\n",
    "print(nums)         # Prints \"[0, 1, 8, 9, 4]\""
   ]
  },
  {
   "cell_type": "markdown",
   "metadata": {},
   "source": [
    "#### Loops"
   ]
  },
  {
   "cell_type": "markdown",
   "metadata": {},
   "source": [
    "You can loop over the elements of a list like this:"
   ]
  },
  {
   "cell_type": "code",
   "execution_count": 21,
   "metadata": {
    "ExecuteTime": {
     "end_time": "2019-02-03T06:40:23.723839Z",
     "start_time": "2019-02-03T06:40:23.720255Z"
    }
   },
   "outputs": [
    {
     "name": "stdout",
     "output_type": "stream",
     "text": [
      "cat\n",
      "dog\n",
      "monkey\n"
     ]
    }
   ],
   "source": [
    "animals = ['cat', 'dog', 'monkey']\n",
    "for animal in animals:\n",
    "    print(animal)"
   ]
  },
  {
   "cell_type": "markdown",
   "metadata": {},
   "source": [
    "If you want access to the index of each element within the body of a loop, use the built-in `enumerate` function:"
   ]
  },
  {
   "cell_type": "code",
   "execution_count": 22,
   "metadata": {
    "ExecuteTime": {
     "end_time": "2019-02-03T06:40:23.966769Z",
     "start_time": "2019-02-03T06:40:23.958920Z"
    }
   },
   "outputs": [
    {
     "name": "stdout",
     "output_type": "stream",
     "text": [
      "#1: cat\n",
      "#2: dog\n",
      "#3: monkey\n"
     ]
    }
   ],
   "source": [
    "animals = ['cat', 'dog', 'monkey']\n",
    "for idx, animal in enumerate(animals):\n",
    "    print('#%d: %s' % (idx + 1, animal))"
   ]
  },
  {
   "cell_type": "markdown",
   "metadata": {},
   "source": [
    "#### List comprehensions:"
   ]
  },
  {
   "cell_type": "markdown",
   "metadata": {},
   "source": [
    "When programming, frequently we want to transform one type of data into another. As a simple example, consider the following code that computes square numbers:"
   ]
  },
  {
   "cell_type": "code",
   "execution_count": 23,
   "metadata": {
    "ExecuteTime": {
     "end_time": "2019-02-03T06:40:24.243856Z",
     "start_time": "2019-02-03T06:40:24.240376Z"
    }
   },
   "outputs": [
    {
     "name": "stdout",
     "output_type": "stream",
     "text": [
      "[0, 1, 4, 9, 16]\n"
     ]
    }
   ],
   "source": [
    "nums = [0, 1, 2, 3, 4]\n",
    "squares = []\n",
    "for x in nums:\n",
    "    squares.append(x ** 2)\n",
    "print(squares)"
   ]
  },
  {
   "cell_type": "markdown",
   "metadata": {},
   "source": [
    "You can make this code simpler using a list comprehension:"
   ]
  },
  {
   "cell_type": "markdown",
   "metadata": {},
   "source": [
    "List comprehensions also offer a small speedup."
   ]
  },
  {
   "cell_type": "code",
   "execution_count": 24,
   "metadata": {
    "ExecuteTime": {
     "end_time": "2019-02-03T06:40:24.565932Z",
     "start_time": "2019-02-03T06:40:24.562155Z"
    }
   },
   "outputs": [
    {
     "name": "stdout",
     "output_type": "stream",
     "text": [
      "[0, 1, 4, 9, 16]\n"
     ]
    }
   ],
   "source": [
    "squares = [x ** 2 for x in nums]\n",
    "print(squares)"
   ]
  },
  {
   "cell_type": "markdown",
   "metadata": {},
   "source": [
    "List comprehensions can also contain conditions:"
   ]
  },
  {
   "cell_type": "code",
   "execution_count": 25,
   "metadata": {
    "ExecuteTime": {
     "end_time": "2019-02-03T06:40:24.805073Z",
     "start_time": "2019-02-03T06:40:24.795685Z"
    }
   },
   "outputs": [
    {
     "name": "stdout",
     "output_type": "stream",
     "text": [
      "[0, 4, 16]\n"
     ]
    }
   ],
   "source": [
    "even_squares = [x ** 2 for x in nums if x % 2 == 0]\n",
    "print(even_squares)"
   ]
  },
  {
   "cell_type": "markdown",
   "metadata": {},
   "source": [
    "#### Dictionaries"
   ]
  },
  {
   "cell_type": "markdown",
   "metadata": {},
   "source": [
    "A dictionary stores (key, value) pairs, similar to a `Map` in Java or an object in Javascript. You can use it like this:"
   ]
  },
  {
   "cell_type": "code",
   "execution_count": 26,
   "metadata": {
    "ExecuteTime": {
     "end_time": "2019-02-03T06:40:25.127594Z",
     "start_time": "2019-02-03T06:40:25.123787Z"
    }
   },
   "outputs": [
    {
     "name": "stdout",
     "output_type": "stream",
     "text": [
      "cute\n",
      "True\n"
     ]
    }
   ],
   "source": [
    "d = {'cat': 'cute', 'dog': 'furry'}  # Create a new dictionary with some data\n",
    "print(d['cat'])       # Get an entry from a dictionary; prints \"cute\"\n",
    "print('cat' in d)     # Check if a dictionary has a given key; prints \"True\""
   ]
  },
  {
   "cell_type": "code",
   "execution_count": 27,
   "metadata": {
    "ExecuteTime": {
     "end_time": "2019-02-03T06:40:25.299320Z",
     "start_time": "2019-02-03T06:40:25.294911Z"
    }
   },
   "outputs": [
    {
     "name": "stdout",
     "output_type": "stream",
     "text": [
      "wet\n"
     ]
    }
   ],
   "source": [
    "d['fish'] = 'wet'    # Set an entry in a dictionary\n",
    "print(d['fish'])      # Prints \"wet\""
   ]
  },
  {
   "cell_type": "code",
   "execution_count": 28,
   "metadata": {
    "ExecuteTime": {
     "end_time": "2019-02-03T06:40:25.522542Z",
     "start_time": "2019-02-03T06:40:25.520064Z"
    }
   },
   "outputs": [],
   "source": [
    "del d['fish'] "
   ]
  },
  {
   "cell_type": "code",
   "execution_count": 29,
   "metadata": {
    "ExecuteTime": {
     "end_time": "2019-02-03T06:40:25.860287Z",
     "start_time": "2019-02-03T06:40:25.707742Z"
    }
   },
   "outputs": [
    {
     "ename": "KeyError",
     "evalue": "'monkey'",
     "output_type": "error",
     "traceback": [
      "\u001b[0;31m---------------------------------------------------------------------------\u001b[0m",
      "\u001b[0;31mKeyError\u001b[0m                                  Traceback (most recent call last)",
      "\u001b[0;32m<ipython-input-29-78fc9745d9cf>\u001b[0m in \u001b[0;36m<module>\u001b[0;34m()\u001b[0m\n\u001b[0;32m----> 1\u001b[0;31m \u001b[0mprint\u001b[0m\u001b[0;34m(\u001b[0m\u001b[0md\u001b[0m\u001b[0;34m[\u001b[0m\u001b[0;34m'monkey'\u001b[0m\u001b[0;34m]\u001b[0m\u001b[0;34m)\u001b[0m  \u001b[0;31m# KeyError: 'monkey' not a key of d\u001b[0m\u001b[0;34m\u001b[0m\u001b[0m\n\u001b[0m",
      "\u001b[0;31mKeyError\u001b[0m: 'monkey'"
     ]
    }
   ],
   "source": [
    "print(d['monkey'])  # KeyError: 'monkey' not a key of d"
   ]
  },
  {
   "cell_type": "code",
   "execution_count": null,
   "metadata": {
    "ExecuteTime": {
     "end_time": "2019-02-03T06:40:25.861495Z",
     "start_time": "2019-02-03T06:40:25.842Z"
    }
   },
   "outputs": [],
   "source": [
    "print(d.get('monkey'))"
   ]
  },
  {
   "cell_type": "code",
   "execution_count": 30,
   "metadata": {
    "ExecuteTime": {
     "end_time": "2019-02-03T06:40:25.993758Z",
     "start_time": "2019-02-03T06:40:25.990351Z"
    }
   },
   "outputs": [
    {
     "name": "stdout",
     "output_type": "stream",
     "text": [
      "Not there :(\n",
      "You recently deleted it!\n"
     ]
    }
   ],
   "source": [
    "print(d.get('monkey', 'Not there :('))  # Get an element with a default; prints \"N/A\"\n",
    "print(d.get('fish', 'You recently deleted it!'))    # Get an element with a default; prints \"wet\""
   ]
  },
  {
   "cell_type": "markdown",
   "metadata": {},
   "source": [
    "You can find all you need to know about dictionaries in the [documentation](https://docs.python.org/2/library/stdtypes.html#dict)."
   ]
  },
  {
   "cell_type": "markdown",
   "metadata": {},
   "source": [
    "It is easy to iterate over the keys in a dictionary:"
   ]
  },
  {
   "cell_type": "code",
   "execution_count": 31,
   "metadata": {
    "ExecuteTime": {
     "end_time": "2019-02-03T06:40:26.377163Z",
     "start_time": "2019-02-03T06:40:26.372345Z"
    }
   },
   "outputs": [
    {
     "name": "stdout",
     "output_type": "stream",
     "text": [
      "A person has 2 legs\n",
      "A cat has 4 legs\n",
      "A spider has 8 legs\n"
     ]
    }
   ],
   "source": [
    "d = {'person': 2, 'cat': 4, 'spider': 8}\n",
    "for animal in d:\n",
    "    legs = d[animal]\n",
    "    print('A %s has %d legs' % (animal, legs))"
   ]
  },
  {
   "cell_type": "markdown",
   "metadata": {},
   "source": [
    "If you want access to keys and their corresponding values, use the iteritems method:"
   ]
  },
  {
   "cell_type": "code",
   "execution_count": 32,
   "metadata": {
    "ExecuteTime": {
     "end_time": "2019-02-03T06:40:26.596333Z",
     "start_time": "2019-02-03T06:40:26.592624Z"
    }
   },
   "outputs": [
    {
     "name": "stdout",
     "output_type": "stream",
     "text": [
      "dict_items([('person', 2), ('cat', 4), ('spider', 8)])\n"
     ]
    }
   ],
   "source": [
    "print(d.items())"
   ]
  },
  {
   "cell_type": "code",
   "execution_count": 33,
   "metadata": {
    "ExecuteTime": {
     "end_time": "2019-02-03T06:40:26.736180Z",
     "start_time": "2019-02-03T06:40:26.729124Z"
    }
   },
   "outputs": [
    {
     "name": "stdout",
     "output_type": "stream",
     "text": [
      "A person has 2 legs\n",
      "A cat has 4 legs\n",
      "A spider has 8 legs\n"
     ]
    }
   ],
   "source": [
    "d = {'person': 2, 'cat': 4, 'spider': 8}\n",
    "for animal, legs in d.items():\n",
    "    print('A %s has %d legs' % (animal, legs))"
   ]
  },
  {
   "cell_type": "markdown",
   "metadata": {},
   "source": [
    "Dictionary comprehensions: These are similar to list comprehensions, but allow you to easily construct dictionaries. For example:"
   ]
  },
  {
   "cell_type": "code",
   "execution_count": 34,
   "metadata": {
    "ExecuteTime": {
     "end_time": "2019-02-03T06:40:26.978507Z",
     "start_time": "2019-02-03T06:40:26.972833Z"
    }
   },
   "outputs": [
    {
     "name": "stdout",
     "output_type": "stream",
     "text": [
      "{0: 0, 2: 4, 4: 16}\n"
     ]
    }
   ],
   "source": [
    "nums = [0, 1, 2, 3, 4]\n",
    "even_num_to_square = {x: x ** 2 for x in nums if x % 2 == 0}\n",
    "print(even_num_to_square)"
   ]
  },
  {
   "cell_type": "markdown",
   "metadata": {},
   "source": [
    "#### Sets"
   ]
  },
  {
   "cell_type": "markdown",
   "metadata": {},
   "source": [
    "A set is an unordered collection of distinct elements. As a simple example, consider the following:"
   ]
  },
  {
   "cell_type": "code",
   "execution_count": 35,
   "metadata": {
    "ExecuteTime": {
     "end_time": "2019-02-03T06:40:31.031494Z",
     "start_time": "2019-02-03T06:40:31.027486Z"
    }
   },
   "outputs": [
    {
     "name": "stdout",
     "output_type": "stream",
     "text": [
      "True\n",
      "False\n"
     ]
    }
   ],
   "source": [
    "animals = {'cat', 'dog'}\n",
    "print('cat' in animals)   # Check if an element is in a set; prints \"True\"\n",
    "print('fish' in animals)  # prints \"False\""
   ]
  },
  {
   "cell_type": "code",
   "execution_count": 36,
   "metadata": {
    "ExecuteTime": {
     "end_time": "2019-02-03T06:40:32.317159Z",
     "start_time": "2019-02-03T06:40:32.313294Z"
    }
   },
   "outputs": [
    {
     "name": "stdout",
     "output_type": "stream",
     "text": [
      "True\n",
      "3\n"
     ]
    }
   ],
   "source": [
    "animals.add('fish')      # Add an element to a set\n",
    "print('fish' in animals)\n",
    "print(len(animals))       # Number of elements in a set;"
   ]
  },
  {
   "cell_type": "code",
   "execution_count": 37,
   "metadata": {
    "ExecuteTime": {
     "end_time": "2019-02-03T06:40:32.567063Z",
     "start_time": "2019-02-03T06:40:32.562468Z"
    }
   },
   "outputs": [
    {
     "name": "stdout",
     "output_type": "stream",
     "text": [
      "3\n",
      "2\n"
     ]
    }
   ],
   "source": [
    "animals.add('cat')       # Adding an element that is already in the set does nothing\n",
    "print(len(animals))       \n",
    "animals.remove('cat')    # Remove an element from a set\n",
    "print(len(animals))"
   ]
  },
  {
   "cell_type": "markdown",
   "metadata": {},
   "source": [
    "_Loops_: Iterating over a set has the same syntax as iterating over a list; however since sets are unordered, you cannot make assumptions about the order in which you visit the elements of the set:"
   ]
  },
  {
   "cell_type": "code",
   "execution_count": 38,
   "metadata": {
    "ExecuteTime": {
     "end_time": "2019-02-03T06:40:32.788735Z",
     "start_time": "2019-02-03T06:40:32.778218Z"
    }
   },
   "outputs": [
    {
     "name": "stdout",
     "output_type": "stream",
     "text": [
      "#1: fish\n",
      "#2: dog\n",
      "#3: cat\n"
     ]
    }
   ],
   "source": [
    "animals = {'cat', 'dog', 'fish'}\n",
    "for idx, animal in enumerate(animals):\n",
    "    print('#%d: %s' % (idx + 1, animal))\n",
    "# Prints \"#1: fish\", \"#2: dog\", \"#3: cat\""
   ]
  },
  {
   "cell_type": "markdown",
   "metadata": {},
   "source": [
    "Set comprehensions: Like lists and dictionaries, we can easily construct sets using set comprehensions:"
   ]
  },
  {
   "cell_type": "code",
   "execution_count": 39,
   "metadata": {
    "ExecuteTime": {
     "end_time": "2019-02-03T06:40:33.029136Z",
     "start_time": "2019-02-03T06:40:33.025779Z"
    }
   },
   "outputs": [
    {
     "name": "stdout",
     "output_type": "stream",
     "text": [
      "{0, 1, 2, 3, 4, 5}\n"
     ]
    }
   ],
   "source": [
    "from math import sqrt\n",
    "print({int(sqrt(x)) for x in list(range(30))})"
   ]
  },
  {
   "cell_type": "markdown",
   "metadata": {},
   "source": [
    "#### Tuples"
   ]
  },
  {
   "cell_type": "markdown",
   "metadata": {},
   "source": [
    "A tuple is an (immutable) ordered list of values. A tuple is in many ways similar to a list; one of the most important differences is that tuples can be used as keys in dictionaries and as elements of sets, while lists cannot. Here is a trivial example:"
   ]
  },
  {
   "cell_type": "code",
   "execution_count": 40,
   "metadata": {
    "ExecuteTime": {
     "end_time": "2019-02-03T06:40:34.391930Z",
     "start_time": "2019-02-03T06:40:34.386458Z"
    }
   },
   "outputs": [
    {
     "name": "stdout",
     "output_type": "stream",
     "text": [
      "<class 'tuple'>\n",
      "5\n",
      "1\n"
     ]
    }
   ],
   "source": [
    "d = {(x, x + 1): x for x in list(range(10))}  # Create a dictionary with tuple keys\n",
    "t = (5, 6)       # Create a tuple\n",
    "print(type(t))\n",
    "print(d[t])       \n",
    "print(d[(1, 2)])"
   ]
  },
  {
   "cell_type": "code",
   "execution_count": 41,
   "metadata": {
    "ExecuteTime": {
     "end_time": "2019-02-03T06:40:34.532045Z",
     "start_time": "2019-02-03T06:40:34.523049Z"
    }
   },
   "outputs": [
    {
     "ename": "TypeError",
     "evalue": "'tuple' object does not support item assignment",
     "output_type": "error",
     "traceback": [
      "\u001b[0;31m---------------------------------------------------------------------------\u001b[0m",
      "\u001b[0;31mTypeError\u001b[0m                                 Traceback (most recent call last)",
      "\u001b[0;32m<ipython-input-41-d123b68b0527>\u001b[0m in \u001b[0;36m<module>\u001b[0;34m()\u001b[0m\n\u001b[0;32m----> 1\u001b[0;31m \u001b[0mt\u001b[0m\u001b[0;34m[\u001b[0m\u001b[0;36m0\u001b[0m\u001b[0;34m]\u001b[0m \u001b[0;34m=\u001b[0m \u001b[0;36m1\u001b[0m \u001b[0;31m# Error because they are immutabLe\u001b[0m\u001b[0;34m\u001b[0m\u001b[0m\n\u001b[0m",
      "\u001b[0;31mTypeError\u001b[0m: 'tuple' object does not support item assignment"
     ]
    }
   ],
   "source": [
    "t[0] = 1 # Error because they are immutabLe"
   ]
  },
  {
   "cell_type": "markdown",
   "metadata": {
    "ExecuteTime": {
     "end_time": "2019-02-02T05:11:57.241955Z",
     "start_time": "2019-02-02T05:11:57.239532Z"
    }
   },
   "source": [
    "#### ZIP"
   ]
  },
  {
   "cell_type": "code",
   "execution_count": 42,
   "metadata": {
    "ExecuteTime": {
     "end_time": "2019-02-03T06:40:34.781166Z",
     "start_time": "2019-02-03T06:40:34.776488Z"
    }
   },
   "outputs": [
    {
     "name": "stdout",
     "output_type": "stream",
     "text": [
      "[(1, 'one'), (2, 'two'), (3, 'three')]\n"
     ]
    }
   ],
   "source": [
    "numbers = [1, 2, 3]\n",
    "words = ['one', 'two', 'three']\n",
    "\n",
    "# Two iterables are passed\n",
    "result = zip(numbers, words)\n",
    "\n",
    "# Converting itertor to set\n",
    "resultList = list(result)\n",
    "\n",
    "print(resultList)"
   ]
  },
  {
   "cell_type": "code",
   "execution_count": 43,
   "metadata": {
    "ExecuteTime": {
     "end_time": "2019-02-03T06:40:34.915948Z",
     "start_time": "2019-02-03T06:40:34.910592Z"
    }
   },
   "outputs": [
    {
     "name": "stdout",
     "output_type": "stream",
     "text": [
      "{(1, 'one'), (2, 'two')}\n",
      "{(2, 'two', 'TWO'), (1, 'one', 'ONE')}\n"
     ]
    }
   ],
   "source": [
    "numbers = [1, 2, 3]\n",
    "lower_words = ['one', 'two']\n",
    "upper_words = ('ONE', 'TWO', 'THREE', 'FOUR')\n",
    "\n",
    "result = zip(numbers, lower_words)\n",
    "\n",
    "# Converting to set\n",
    "resultSet = set(result)\n",
    "print(resultSet)\n",
    "\n",
    "result = zip(numbers, lower_words, upper_words)\n",
    "\n",
    "# Converting to set\n",
    "resultSet = set(result)\n",
    "print(resultSet)"
   ]
  },
  {
   "cell_type": "markdown",
   "metadata": {
    "ExecuteTime": {
     "end_time": "2019-02-02T05:12:25.785650Z",
     "start_time": "2019-02-02T05:12:25.783770Z"
    }
   },
   "source": [
    "#### UNZIP"
   ]
  },
  {
   "cell_type": "code",
   "execution_count": 44,
   "metadata": {
    "ExecuteTime": {
     "end_time": "2019-02-03T06:40:35.167786Z",
     "start_time": "2019-02-03T06:40:35.161265Z"
    }
   },
   "outputs": [
    {
     "name": "stdout",
     "output_type": "stream",
     "text": [
      "[('x', 3), ('y', 4), ('z', 5)]\n",
      "c = ('x', 'y', 'z')\n",
      "v = (3, 4, 5)\n"
     ]
    }
   ],
   "source": [
    "coordinate = ['x', 'y', 'z']\n",
    "value = [3, 4, 5, 0, 9]\n",
    "\n",
    "result = zip(coordinate, value)\n",
    "resultList = list(result)\n",
    "print(resultList)\n",
    "\n",
    "c, v =  zip(*resultList)\n",
    "print('c =', c)\n",
    "print('v =', v)"
   ]
  },
  {
   "cell_type": "markdown",
   "metadata": {},
   "source": [
    "### Functions"
   ]
  },
  {
   "cell_type": "markdown",
   "metadata": {},
   "source": [
    "Python functions are defined using the `def` keyword. For example:"
   ]
  },
  {
   "cell_type": "code",
   "execution_count": 45,
   "metadata": {
    "ExecuteTime": {
     "end_time": "2019-02-03T06:40:37.190582Z",
     "start_time": "2019-02-03T06:40:37.186594Z"
    }
   },
   "outputs": [
    {
     "name": "stdout",
     "output_type": "stream",
     "text": [
      "negative\n",
      "zero\n",
      "positive\n"
     ]
    }
   ],
   "source": [
    "def sign(x):\n",
    "    if x > 0:\n",
    "        return 'positive'\n",
    "    elif x < 0:\n",
    "        return 'negative'\n",
    "    else:\n",
    "        return 'zero'\n",
    "\n",
    "for x in [-1, 0, 1]:\n",
    "    print(sign(x))"
   ]
  },
  {
   "cell_type": "markdown",
   "metadata": {},
   "source": [
    "We will often define functions to take optional keyword arguments, like this:"
   ]
  },
  {
   "cell_type": "code",
   "execution_count": 46,
   "metadata": {
    "ExecuteTime": {
     "end_time": "2019-02-03T06:40:37.418193Z",
     "start_time": "2019-02-03T06:40:37.414083Z"
    }
   },
   "outputs": [
    {
     "name": "stdout",
     "output_type": "stream",
     "text": [
      "Hello, Bob!\n",
      "HELLO, FRED\n"
     ]
    }
   ],
   "source": [
    "def hello(name, loud=False):\n",
    "    if loud:\n",
    "        print('HELLO, %s' % name.upper())\n",
    "    else:\n",
    "        print('Hello, %s!' % name)\n",
    "\n",
    "hello('Bob')\n",
    "hello('Fred', loud=True)"
   ]
  },
  {
   "cell_type": "code",
   "execution_count": 47,
   "metadata": {
    "ExecuteTime": {
     "end_time": "2019-02-03T06:40:37.566951Z",
     "start_time": "2019-02-03T06:40:37.564140Z"
    }
   },
   "outputs": [],
   "source": [
    "def myFun(*argv):  \n",
    "    for arg in argv:  \n",
    "        print(arg) \n"
   ]
  },
  {
   "cell_type": "code",
   "execution_count": 48,
   "metadata": {
    "ExecuteTime": {
     "end_time": "2019-02-03T06:40:37.708942Z",
     "start_time": "2019-02-03T06:40:37.705168Z"
    }
   },
   "outputs": [
    {
     "name": "stdout",
     "output_type": "stream",
     "text": [
      "Welcome\n",
      " to \n",
      "CS F\n",
      "312\n"
     ]
    }
   ],
   "source": [
    "w = \"Welcome\"\n",
    "myFun(w, ' to ', 'CS F' , 312)  "
   ]
  },
  {
   "cell_type": "code",
   "execution_count": 49,
   "metadata": {
    "ExecuteTime": {
     "end_time": "2019-02-03T06:40:37.860280Z",
     "start_time": "2019-02-03T06:40:37.856900Z"
    }
   },
   "outputs": [],
   "source": [
    "def myFun(*argv):  \n",
    "    for arg in argv:  \n",
    "        print(arg,end='')"
   ]
  },
  {
   "cell_type": "code",
   "execution_count": 50,
   "metadata": {
    "ExecuteTime": {
     "end_time": "2019-02-03T06:40:38.043946Z",
     "start_time": "2019-02-03T06:40:38.038350Z"
    }
   },
   "outputs": [
    {
     "name": "stdout",
     "output_type": "stream",
     "text": [
      "[('x', 3), ('y', 4), ('z', 5)]\n",
      "c = ('x', 'y', 'z')\n",
      "v = (3, 4, 5)\n"
     ]
    }
   ],
   "source": [
    "coordinate = ['x', 'y', 'z']\n",
    "value = [3, 4, 5, 0, 9]\n",
    "\n",
    "result = zip(coordinate, value)\n",
    "resultList = list(result)\n",
    "print(resultList)\n",
    "\n",
    "c, v =  zip(*resultList)\n",
    "print('c =', c)\n",
    "print('v =', v)"
   ]
  },
  {
   "cell_type": "markdown",
   "metadata": {},
   "source": [
    "### Our Fancy Random Number Generator"
   ]
  },
  {
   "cell_type": "code",
   "execution_count": 51,
   "metadata": {
    "ExecuteTime": {
     "end_time": "2019-02-03T06:40:38.298450Z",
     "start_time": "2019-02-03T06:40:38.294614Z"
    }
   },
   "outputs": [],
   "source": [
    "M = 17969491597941066732916128449573246156367561808012600070888918835531726460341490933493372247868650755230855864199929221814436684722874052065257937495694348389263171152522525654410980819170611742509702440718010364831638288518852689\n",
    "def blum_blum_shub():\n",
    "    global M\n",
    "    x = 987654321\n",
    "    while True:\n",
    "        x =  (x**2)%M\n",
    "        yield round(x/M,3)\n",
    "        \n",
    "random = blum_blum_shub()"
   ]
  },
  {
   "cell_type": "markdown",
   "metadata": {},
   "source": [
    "# Load Existing Python File"
   ]
  },
  {
   "cell_type": "code",
   "execution_count": 52,
   "metadata": {
    "ExecuteTime": {
     "end_time": "2019-02-03T06:40:39.272217Z",
     "start_time": "2019-02-03T06:40:39.269066Z"
    }
   },
   "outputs": [],
   "source": [
    "# %load a.py\n",
    "counter = 0\n",
    "def get():\n",
    "    global counter\n",
    "    counter += 1\n",
    "    return counter-1\n"
   ]
  },
  {
   "cell_type": "markdown",
   "metadata": {},
   "source": [
    "## Revisit Concepts using an Example"
   ]
  },
  {
   "cell_type": "code",
   "execution_count": 53,
   "metadata": {
    "ExecuteTime": {
     "end_time": "2019-02-03T06:40:41.332775Z",
     "start_time": "2019-02-03T06:40:39.633862Z"
    }
   },
   "outputs": [
    {
     "name": "stdout",
     "output_type": "stream",
     "text": [
      "Requirement already satisfied: names in /Users/achal/virtualenvs/graph/lib/python3.7/site-packages (0.3.0)\n",
      "\u001b[33mYou are using pip version 18.0, however version 19.0.1 is available.\n",
      "You should consider upgrading via the 'pip install --upgrade pip' command.\u001b[0m\n"
     ]
    }
   ],
   "source": [
    "! pip install names\n"
   ]
  },
  {
   "cell_type": "code",
   "execution_count": 54,
   "metadata": {
    "ExecuteTime": {
     "end_time": "2019-02-03T06:40:42.152727Z",
     "start_time": "2019-02-03T06:40:41.336103Z"
    }
   },
   "outputs": [],
   "source": [
    "import names\n",
    "import csv\n",
    "import pickle \n",
    "import pandas as pd\n",
    "import matplotlib.pyplot as plt\n",
    "from functools import reduce\n",
    "%matplotlib inline\n",
    "\n",
    "def get_name():\n",
    "    return names.get_first_name()\n",
    "def range_random(l,u):\n",
    "    return round(l+(u-l)*next(random),3)"
   ]
  },
  {
   "cell_type": "markdown",
   "metadata": {},
   "source": [
    "## Definition of a Student"
   ]
  },
  {
   "cell_type": "code",
   "execution_count": 55,
   "metadata": {
    "ExecuteTime": {
     "end_time": "2019-02-03T06:40:42.206992Z",
     "start_time": "2019-02-03T06:40:42.202238Z"
    }
   },
   "outputs": [],
   "source": [
    "class Student():\n",
    "    name = None\n",
    "    age = None\n",
    "    gender = None\n",
    "    grade = None\n",
    "    def __init__(self, age, name, grade):\n",
    "        self.age = age\n",
    "        self.name = name\n",
    "        self.grade = grade"
   ]
  },
  {
   "cell_type": "markdown",
   "metadata": {},
   "source": [
    "## Definition of a EEE Student"
   ]
  },
  {
   "cell_type": "code",
   "execution_count": 56,
   "metadata": {
    "ExecuteTime": {
     "end_time": "2019-02-03T06:40:42.217883Z",
     "start_time": "2019-02-03T06:40:42.211957Z"
    }
   },
   "outputs": [],
   "source": [
    "class EEE_Student(Student):\n",
    "    \"\"\"\n",
    "    A EEE student: behaves exactly like a Student \n",
    "    but also has a special discipline class attribute and a couple courses\n",
    "    \"\"\"\n",
    "    discipline = \"A3\"\n",
    "    courses = [\"Control Systems, Optimisation\"]\n",
    "    def __init__(self, age, name):\n",
    "        super().__init__(age, name, range_random(5,9))"
   ]
  },
  {
   "cell_type": "markdown",
   "metadata": {},
   "source": [
    "## Definition of a CSE Student"
   ]
  },
  {
   "cell_type": "code",
   "execution_count": 57,
   "metadata": {
    "ExecuteTime": {
     "end_time": "2019-02-03T06:40:42.276834Z",
     "start_time": "2019-02-03T06:40:42.270489Z"
    }
   },
   "outputs": [],
   "source": [
    "class CSE_Student(Student):\n",
    "    \"\"\"\n",
    "    A CSE student: behaves exactly like a Student \n",
    "    but also has a special discipline class attribute and a couple courses\n",
    "    \"\"\"\n",
    "    discipline = \"A7\"\n",
    "    courses = [\"Data Structures, OOP\"]\n",
    "    def __init__(self, age, name):\n",
    "        super().__init__(age, name, range_random(6,10))"
   ]
  },
  {
   "cell_type": "markdown",
   "metadata": {},
   "source": [
    "__Generate List of Students__"
   ]
  },
  {
   "cell_type": "code",
   "execution_count": 58,
   "metadata": {
    "ExecuteTime": {
     "end_time": "2019-02-03T06:41:40.442478Z",
     "start_time": "2019-02-03T06:40:42.280067Z"
    }
   },
   "outputs": [],
   "source": [
    "cse_students = [CSE_Student(range_random(18,23), get_name()) for i in range(0,100000)]\n",
    "eee_students = [EEE_Student(range_random(18,23), get_name()) for i in range(0,100000)]"
   ]
  },
  {
   "cell_type": "code",
   "execution_count": 59,
   "metadata": {
    "ExecuteTime": {
     "end_time": "2019-02-03T06:41:40.878664Z",
     "start_time": "2019-02-03T06:41:40.872252Z"
    }
   },
   "outputs": [
    {
     "data": {
      "text/plain": [
       "100000"
      ]
     },
     "execution_count": 59,
     "metadata": {},
     "output_type": "execute_result"
    }
   ],
   "source": [
    "len(cse_students)"
   ]
  },
  {
   "cell_type": "code",
   "execution_count": 60,
   "metadata": {
    "ExecuteTime": {
     "end_time": "2019-02-03T06:41:41.150024Z",
     "start_time": "2019-02-03T06:41:41.143345Z"
    }
   },
   "outputs": [
    {
     "data": {
      "text/plain": [
       "100000"
      ]
     },
     "execution_count": 60,
     "metadata": {},
     "output_type": "execute_result"
    }
   ],
   "source": [
    "len(eee_students)"
   ]
  },
  {
   "cell_type": "markdown",
   "metadata": {},
   "source": [
    "__Concat List of Students__"
   ]
  },
  {
   "cell_type": "code",
   "execution_count": 61,
   "metadata": {
    "ExecuteTime": {
     "end_time": "2019-02-03T06:41:41.422680Z",
     "start_time": "2019-02-03T06:41:41.414882Z"
    }
   },
   "outputs": [],
   "source": [
    "all_students = cse_students+eee_students"
   ]
  },
  {
   "cell_type": "code",
   "execution_count": 62,
   "metadata": {
    "ExecuteTime": {
     "end_time": "2019-02-03T06:41:41.870662Z",
     "start_time": "2019-02-03T06:41:41.862151Z"
    }
   },
   "outputs": [
    {
     "data": {
      "text/plain": [
       "200000"
      ]
     },
     "execution_count": 62,
     "metadata": {},
     "output_type": "execute_result"
    }
   ],
   "source": [
    "len(all_students)"
   ]
  },
  {
   "cell_type": "markdown",
   "metadata": {
    "ExecuteTime": {
     "end_time": "2019-02-02T10:16:53.799439Z",
     "start_time": "2019-02-02T10:16:53.794662Z"
    }
   },
   "source": [
    "__Get Student Names with Count__"
   ]
  },
  {
   "cell_type": "code",
   "execution_count": 63,
   "metadata": {
    "ExecuteTime": {
     "end_time": "2019-02-03T06:41:42.452450Z",
     "start_time": "2019-02-03T06:41:42.319995Z"
    }
   },
   "outputs": [],
   "source": [
    "name_counts = {}\n",
    "def update_dict(name):\n",
    "    global name_counts\n",
    "    name_counts[name] = name_counts.get(name, 0)+1\n",
    "    \n",
    "compute_name_counts = list(map(lambda x: update_dict(x.name), all_students))"
   ]
  },
  {
   "cell_type": "code",
   "execution_count": 64,
   "metadata": {
    "ExecuteTime": {
     "end_time": "2019-02-03T06:41:42.978114Z",
     "start_time": "2019-02-03T06:41:42.950239Z"
    }
   },
   "outputs": [
    {
     "data": {
      "text/plain": [
       "{'Brian': 796,\n",
       " 'Willie': 494,\n",
       " 'Dennis': 472,\n",
       " 'Leonard': 214,\n",
       " 'Shay': 3,\n",
       " 'Tommy': 135,\n",
       " 'Harriet': 62,\n",
       " 'Brenda': 522,\n",
       " 'Doreen': 43,\n",
       " 'Lisa': 773,\n",
       " 'Mary': 3046,\n",
       " 'James': 3626,\n",
       " 'Kimberly': 578,\n",
       " 'Christopher': 1127,\n",
       " 'Diane': 377,\n",
       " 'Alberto': 54,\n",
       " 'Michelle': 639,\n",
       " 'Jeremy': 272,\n",
       " 'Gary': 680,\n",
       " 'Dale': 233,\n",
       " 'Jacqueline': 247,\n",
       " 'Bridget': 53,\n",
       " 'Vernon': 110,\n",
       " 'Clara': 180,\n",
       " 'Robert': 3487,\n",
       " 'Glen': 114,\n",
       " 'Margaret': 875,\n",
       " 'Juanita': 177,\n",
       " 'Brad': 79,\n",
       " 'Jeffery': 185,\n",
       " 'Lawrence': 326,\n",
       " 'William': 2758,\n",
       " 'Alex': 129,\n",
       " 'Tiny': 4,\n",
       " 'Buffy': 5,\n",
       " 'Sona': 2,\n",
       " 'Jean': 399,\n",
       " 'Kristy': 56,\n",
       " 'Bennie': 41,\n",
       " 'Andrew': 557,\n",
       " 'Gerald': 345,\n",
       " 'Wayne': 297,\n",
       " 'Bonita': 30,\n",
       " 'Erlinda': 7,\n",
       " 'Cecilia': 68,\n",
       " 'Raymond': 526,\n",
       " 'Sally': 167,\n",
       " 'Richard': 1914,\n",
       " 'Lester': 106,\n",
       " 'Cheryl': 359,\n",
       " 'Eugene': 265,\n",
       " 'Melissa': 497,\n",
       " 'Tracey': 111,\n",
       " 'Gloria': 370,\n",
       " 'Donald': 1026,\n",
       " 'Anne': 246,\n",
       " 'Freddy': 17,\n",
       " 'Albert': 363,\n",
       " 'Jeff': 187,\n",
       " 'Alva': 16,\n",
       " 'Jason': 770,\n",
       " 'Fred': 297,\n",
       " 'Madge': 10,\n",
       " 'Ashley': 350,\n",
       " 'Goldie': 28,\n",
       " 'Thomas': 1539,\n",
       " 'Heidi': 84,\n",
       " 'Alfredo': 51,\n",
       " 'Jessie': 209,\n",
       " 'Lois': 253,\n",
       " 'Samuel': 301,\n",
       " 'Veronica': 162,\n",
       " 'Bernice': 149,\n",
       " 'Danette': 4,\n",
       " 'Amy': 463,\n",
       " 'Shawna': 29,\n",
       " 'Danny': 220,\n",
       " 'Julia': 261,\n",
       " 'Gussie': 5,\n",
       " 'Margie': 71,\n",
       " 'Dorothy': 810,\n",
       " 'Randy': 277,\n",
       " 'David': 2540,\n",
       " 'Craig': 219,\n",
       " 'Clyde': 113,\n",
       " 'Elizabeth': 1030,\n",
       " 'Jimmy': 237,\n",
       " 'Luis': 214,\n",
       " 'Helen': 666,\n",
       " 'Justin': 354,\n",
       " 'Tonya': 117,\n",
       " 'Kathleen': 414,\n",
       " 'Shane': 101,\n",
       " 'Renee': 119,\n",
       " 'Desmond': 19,\n",
       " 'Vincent': 199,\n",
       " 'Nellie': 85,\n",
       " 'Dolores': 126,\n",
       " 'Betty': 718,\n",
       " 'Jim': 148,\n",
       " 'Russell': 266,\n",
       " 'Howard': 257,\n",
       " 'Michael': 2920,\n",
       " 'Joseph': 1540,\n",
       " 'Tammy': 305,\n",
       " 'Lillian': 212,\n",
       " 'Robin': 278,\n",
       " 'John': 3629,\n",
       " 'Karen': 724,\n",
       " 'Ray': 167,\n",
       " 'Johnny': 232,\n",
       " 'Meryl': 3,\n",
       " 'Nancy': 721,\n",
       " 'Daniel': 1040,\n",
       " 'Katherine': 367,\n",
       " 'Roy': 278,\n",
       " 'Marla': 27,\n",
       " 'Stephanie': 475,\n",
       " 'Gabriel': 82,\n",
       " 'Kenneth': 905,\n",
       " 'Jose': 670,\n",
       " 'Wilbur': 57,\n",
       " 'Teresa': 379,\n",
       " 'Joyce': 424,\n",
       " 'Deborah': 521,\n",
       " 'Alice': 379,\n",
       " 'Lucy': 118,\n",
       " 'Ranee': 4,\n",
       " 'Harold': 415,\n",
       " 'Julie': 392,\n",
       " 'Ema': 2,\n",
       " 'Courtney': 121,\n",
       " 'Sherly': 3,\n",
       " 'Hugo': 22,\n",
       " 'Susan': 892,\n",
       " 'Jack': 328,\n",
       " 'Doris': 406,\n",
       " 'Steven': 889,\n",
       " 'Ruth': 624,\n",
       " 'Alesha': 5,\n",
       " 'Amanda': 484,\n",
       " 'Dana': 170,\n",
       " 'Art': 8,\n",
       " 'Billy': 256,\n",
       " 'Iris': 59,\n",
       " 'Wm': 38,\n",
       " 'Annie': 261,\n",
       " 'Bryan': 222,\n",
       " 'Eric': 627,\n",
       " 'Arthur': 353,\n",
       " 'Ivan': 58,\n",
       " 'Donna': 665,\n",
       " 'Paige': 24,\n",
       " 'Cedric': 49,\n",
       " 'Wilmer': 10,\n",
       " 'Charlotte': 216,\n",
       " 'Peter': 423,\n",
       " 'Nita': 10,\n",
       " 'Wade': 55,\n",
       " 'Bianca': 18,\n",
       " 'Lance': 68,\n",
       " 'Malinda': 11,\n",
       " 'Lauretta': 12,\n",
       " 'Carol': 586,\n",
       " 'Carmelita': 5,\n",
       " 'Gilbert': 93,\n",
       " 'Aron': 10,\n",
       " 'Amparo': 14,\n",
       " 'Roger': 341,\n",
       " 'Bonnie': 229,\n",
       " 'Ed': 38,\n",
       " 'Stephan': 22,\n",
       " 'Anita': 192,\n",
       " 'Beatrice': 151,\n",
       " 'Patti': 29,\n",
       " 'Jan': 81,\n",
       " 'Charles': 1658,\n",
       " 'Matthew': 743,\n",
       " 'Mike': 225,\n",
       " 'Evelyn': 344,\n",
       " 'Shelby': 41,\n",
       " 'Rick': 76,\n",
       " 'Nicholas': 316,\n",
       " 'Clifton': 61,\n",
       " 'Kristin': 87,\n",
       " 'Buford': 13,\n",
       " 'Mark': 1025,\n",
       " 'Verna': 59,\n",
       " 'Janis': 34,\n",
       " 'Herbert': 168,\n",
       " 'Blanca': 55,\n",
       " 'Allen': 200,\n",
       " 'Jodi': 40,\n",
       " 'Desirae': 2,\n",
       " 'Penny': 82,\n",
       " 'Lynda': 71,\n",
       " 'Florence': 215,\n",
       " 'Kathy': 298,\n",
       " 'Calvin': 140,\n",
       " 'Edwin': 175,\n",
       " 'Tom': 116,\n",
       " 'Shante': 6,\n",
       " 'Barbara': 1097,\n",
       " 'Kevin': 687,\n",
       " 'Carey': 33,\n",
       " 'Kelly': 388,\n",
       " 'Heather': 374,\n",
       " 'Blanche': 65,\n",
       " 'Brande': 5,\n",
       " 'Jerome': 117,\n",
       " 'Jenny': 75,\n",
       " 'Cindy': 206,\n",
       " 'Mina': 4,\n",
       " 'Maurice': 111,\n",
       " 'Ruben': 96,\n",
       " 'Raina': 5,\n",
       " 'Phillip': 200,\n",
       " 'Francis': 188,\n",
       " 'Geraldine': 163,\n",
       " 'Gina': 124,\n",
       " 'Timothy': 702,\n",
       " 'Andre': 105,\n",
       " 'Henry': 412,\n",
       " 'Miriam': 93,\n",
       " 'Linda': 1202,\n",
       " 'Virginia': 503,\n",
       " 'Vicki': 136,\n",
       " 'Lloyd': 147,\n",
       " 'Josefina': 34,\n",
       " 'Sheryl': 68,\n",
       " 'Victoria': 198,\n",
       " 'Lelia': 13,\n",
       " 'Olive': 42,\n",
       " 'Eloise': 31,\n",
       " 'Joe': 378,\n",
       " 'Jonathan': 376,\n",
       " 'Debra': 456,\n",
       " 'Douglas': 382,\n",
       " 'Sandra': 714,\n",
       " 'Gordon': 113,\n",
       " 'Jill': 159,\n",
       " 'Bessie': 101,\n",
       " 'Juan': 377,\n",
       " 'Jessica': 561,\n",
       " 'Blake': 58,\n",
       " 'Portia': 7,\n",
       " 'Ralph': 320,\n",
       " 'Judith': 338,\n",
       " 'Barry': 132,\n",
       " 'Anthony': 815,\n",
       " 'Joshua': 496,\n",
       " 'Maureen': 125,\n",
       " 'Carl': 336,\n",
       " 'Tony': 184,\n",
       " 'Ruby': 233,\n",
       " 'Nicole': 322,\n",
       " 'Jennifer': 1033,\n",
       " 'Antoinette': 58,\n",
       " 'Theresa': 278,\n",
       " 'Berenice': 6,\n",
       " 'Lynne': 45,\n",
       " 'Laura': 555,\n",
       " 'Patricia': 1165,\n",
       " 'Myrtle': 86,\n",
       " 'Thelma': 182,\n",
       " 'Nestor': 11,\n",
       " 'Debora': 28,\n",
       " 'Esperanza': 28,\n",
       " 'Sarah': 567,\n",
       " 'Trisha': 30,\n",
       " 'Todd': 236,\n",
       " 'Keith': 356,\n",
       " 'Ronna': 7,\n",
       " 'Ron': 86,\n",
       " 'Monique': 67,\n",
       " 'Shawn': 256,\n",
       " 'Leonie': 2,\n",
       " 'Sharon': 622,\n",
       " 'Lynn': 185,\n",
       " 'Delmer': 6,\n",
       " 'Maritza': 18,\n",
       " 'Joy': 93,\n",
       " 'Stanley': 208,\n",
       " 'Janet': 403,\n",
       " 'Paula': 258,\n",
       " 'Ann': 390,\n",
       " 'Kaye': 15,\n",
       " 'Ross': 55,\n",
       " 'Nikole': 2,\n",
       " 'Marilyn': 274,\n",
       " 'Tara': 118,\n",
       " 'Scott': 646,\n",
       " 'Gene': 95,\n",
       " 'Frank': 653,\n",
       " 'Dudley': 13,\n",
       " 'Eddie': 181,\n",
       " 'Evie': 8,\n",
       " 'Sachiko': 1,\n",
       " 'Brent': 112,\n",
       " 'Francina': 1,\n",
       " 'Hazel': 200,\n",
       " 'Toni': 67,\n",
       " 'Angela': 576,\n",
       " 'Rene': 62,\n",
       " 'Dan': 107,\n",
       " 'Benjamin': 284,\n",
       " 'Curtis': 192,\n",
       " 'Bertha': 136,\n",
       " 'Corinne': 29,\n",
       " 'Maria': 980,\n",
       " 'Alicia': 155,\n",
       " 'Lewis': 99,\n",
       " 'Roselyn': 6,\n",
       " 'Grover': 21,\n",
       " 'Starr': 2,\n",
       " 'Judy': 335,\n",
       " 'Viola': 95,\n",
       " 'Terry': 454,\n",
       " 'Alexander': 146,\n",
       " 'Darnell': 27,\n",
       " 'Edward': 825,\n",
       " 'Omar': 43,\n",
       " 'Bobby': 248,\n",
       " 'Matt': 36,\n",
       " 'Manuel': 215,\n",
       " 'Stacy': 177,\n",
       " 'Ira': 39,\n",
       " 'Roberta': 133,\n",
       " 'George': 990,\n",
       " 'Hector': 113,\n",
       " 'Sergio': 51,\n",
       " 'Erin': 152,\n",
       " 'Shirley': 526,\n",
       " 'Shirlene': 6,\n",
       " 'Emmanuel': 18,\n",
       " 'Tyrone': 80,\n",
       " 'Marvin': 162,\n",
       " 'Arlene': 99,\n",
       " 'Vicky': 49,\n",
       " 'Belinda': 72,\n",
       " 'Quincy': 12,\n",
       " 'Rich': 10,\n",
       " 'Irving': 22,\n",
       " 'Carolyn': 404,\n",
       " 'Karl': 75,\n",
       " 'Christina': 302,\n",
       " 'Garrett': 28,\n",
       " 'Alan': 225,\n",
       " 'Jazmin': 9,\n",
       " 'Sylvia': 197,\n",
       " 'Audrey': 136,\n",
       " 'Elana': 6,\n",
       " 'Danita': 11,\n",
       " 'Edwina': 14,\n",
       " 'Linnie': 9,\n",
       " 'Dominique': 38,\n",
       " 'Anna': 482,\n",
       " 'Zachary': 101,\n",
       " 'Rodrick': 10,\n",
       " 'Paul': 1042,\n",
       " 'Sheila': 199,\n",
       " 'Karma': 3,\n",
       " 'Della': 49,\n",
       " 'Marx': 2,\n",
       " 'Hollie': 14,\n",
       " 'Peggy': 236,\n",
       " 'Dion': 13,\n",
       " 'Larry': 626,\n",
       " 'Helga': 13,\n",
       " 'Troy': 161,\n",
       " 'Ronda': 44,\n",
       " 'Adelaida': 7,\n",
       " 'Cynthia': 563,\n",
       " 'Crystal': 213,\n",
       " 'Ophelia': 13,\n",
       " 'Sara': 249,\n",
       " 'Dominic': 36,\n",
       " 'Janette': 21,\n",
       " 'Eleanor': 175,\n",
       " 'Dorothea': 33,\n",
       " 'Fredrick': 53,\n",
       " 'Winston': 21,\n",
       " 'Martin': 242,\n",
       " 'Wendell': 38,\n",
       " 'Marco': 43,\n",
       " 'Suzanne': 172,\n",
       " 'Madeline': 73,\n",
       " 'Brett': 100,\n",
       " 'Ana': 134,\n",
       " 'Desire': 2,\n",
       " 'Stephen': 597,\n",
       " 'Ryan': 365,\n",
       " 'Travis': 172,\n",
       " 'Elton': 19,\n",
       " 'Martha': 444,\n",
       " 'Erica': 148,\n",
       " 'April': 179,\n",
       " 'Corene': 2,\n",
       " 'Isabel': 57,\n",
       " 'Ronald': 829,\n",
       " 'Earl': 224,\n",
       " 'Louis': 277,\n",
       " 'Glenn': 194,\n",
       " 'Pamela': 479,\n",
       " 'Vivian': 159,\n",
       " 'Lashawnda': 3,\n",
       " 'Hanna': 9,\n",
       " 'Priscilla': 94,\n",
       " 'Bradley': 177,\n",
       " 'Don': 165,\n",
       " 'Luther': 45,\n",
       " 'Laticia': 3,\n",
       " 'Bryant': 33,\n",
       " 'Victor': 236,\n",
       " 'Lakita': 3,\n",
       " 'Yvonne': 177,\n",
       " 'Mahalia': 2,\n",
       " 'Jesse': 225,\n",
       " 'Colleen': 113,\n",
       " 'Otis': 48,\n",
       " 'Emery': 11,\n",
       " 'Hannah': 62,\n",
       " 'Luisa': 14,\n",
       " 'Valerie': 156,\n",
       " 'Sean': 209,\n",
       " 'Maia': 3,\n",
       " 'Jermaine': 31,\n",
       " 'Regina': 152,\n",
       " 'Waldo': 9,\n",
       " 'Vera': 118,\n",
       " 'Elroy': 5,\n",
       " 'Karol': 3,\n",
       " 'Truman': 6,\n",
       " 'Fredricka': 3,\n",
       " 'Ester': 30,\n",
       " 'Samantha': 150,\n",
       " 'Chester': 90,\n",
       " 'Kim': 245,\n",
       " 'Tamela': 12,\n",
       " 'Willard': 57,\n",
       " 'Tameka': 10,\n",
       " 'Marie': 414,\n",
       " 'Celia': 34,\n",
       " 'Harry': 258,\n",
       " 'Phyllis': 223,\n",
       " 'Randall': 153,\n",
       " 'Catherine': 425,\n",
       " 'Walter': 478,\n",
       " 'Mattie': 86,\n",
       " 'Fernando': 74,\n",
       " 'Yolanda': 143,\n",
       " 'Lola': 58,\n",
       " 'Carroll': 43,\n",
       " 'Tabitha': 36,\n",
       " 'Cathy': 137,\n",
       " 'Tracie': 28,\n",
       " 'Teri': 32,\n",
       " 'Darren': 87,\n",
       " 'Chris': 231,\n",
       " 'Santa': 3,\n",
       " 'Lorraine': 130,\n",
       " 'Tracy': 256,\n",
       " 'Everett': 55,\n",
       " 'Hedy': 3,\n",
       " 'Julio': 74,\n",
       " 'Ruthie': 16,\n",
       " 'Phil': 25,\n",
       " 'Amber': 160,\n",
       " 'Erma': 46,\n",
       " 'Gladys': 218,\n",
       " 'Derick': 11,\n",
       " 'Lula': 43,\n",
       " 'Blaine': 16,\n",
       " 'Marc': 87,\n",
       " 'Gino': 5,\n",
       " 'Megan': 156,\n",
       " 'Paulene': 3,\n",
       " 'Rosie': 69,\n",
       " 'Jared': 93,\n",
       " 'Monica': 166,\n",
       " 'Leon': 108,\n",
       " 'Gertude': 3,\n",
       " 'Michele': 177,\n",
       " 'Cassandra': 76,\n",
       " 'Rose': 306,\n",
       " 'Lee': 230,\n",
       " 'Rafael': 95,\n",
       " 'Zandra': 4,\n",
       " 'Diann': 11,\n",
       " 'Antonio': 222,\n",
       " 'Nicolas': 23,\n",
       " 'Carmen': 225,\n",
       " 'Shannon': 249,\n",
       " 'Prudence': 3,\n",
       " 'Frankie': 49,\n",
       " 'Rolando': 36,\n",
       " 'Kristina': 80,\n",
       " 'Cathrine': 6,\n",
       " 'Chantelle': 6,\n",
       " 'Caryn': 9,\n",
       " 'Garry': 49,\n",
       " 'Norman': 218,\n",
       " 'Francisco': 136,\n",
       " 'Becky': 68,\n",
       " 'Myra': 41,\n",
       " 'Terrie': 18,\n",
       " 'Herman': 112,\n",
       " 'Darrell': 109,\n",
       " 'Jasmine': 45,\n",
       " 'Betsy': 35,\n",
       " 'Gail': 162,\n",
       " 'Tina': 233,\n",
       " 'Jocelyn': 16,\n",
       " 'Jamie': 263,\n",
       " 'Stephine': 5,\n",
       " 'Cody': 91,\n",
       " 'Aida': 35,\n",
       " 'Lai': 4,\n",
       " 'Charlene': 98,\n",
       " 'Kristine': 50,\n",
       " 'Hung': 10,\n",
       " 'Ernest': 249,\n",
       " 'Meredith': 39,\n",
       " 'Maxine': 83,\n",
       " 'Domenica': 5,\n",
       " 'Jerry': 510,\n",
       " 'Dora': 89,\n",
       " 'Annette': 141,\n",
       " 'Darlene': 145,\n",
       " 'Helene': 36,\n",
       " 'Aileen': 20,\n",
       " 'Sharyn': 8,\n",
       " 'Ida': 136,\n",
       " 'Deloris': 26,\n",
       " 'Irene': 257,\n",
       " 'Delores': 111,\n",
       " 'Melanie': 120,\n",
       " 'Leo': 109,\n",
       " 'Corey': 120,\n",
       " 'Lela': 38,\n",
       " 'Opal': 52,\n",
       " 'Virgil': 55,\n",
       " 'Minnie': 110,\n",
       " 'Patsy': 88,\n",
       " 'Fern': 24,\n",
       " 'Ricardo': 114,\n",
       " 'Jayme': 4,\n",
       " 'Lorenzo': 38,\n",
       " 'Rubin': 5,\n",
       " 'Steve': 290,\n",
       " 'Ignacio': 39,\n",
       " 'Eldon': 23,\n",
       " 'Ada': 84,\n",
       " 'Marjorie': 190,\n",
       " 'Althea': 20,\n",
       " 'Debbie': 186,\n",
       " 'Myrtis': 4,\n",
       " 'Jay': 133,\n",
       " 'Mildred': 376,\n",
       " 'Tammie': 29,\n",
       " 'Evangelina': 11,\n",
       " 'Isabella': 8,\n",
       " 'Ramon': 93,\n",
       " 'Maribel': 24,\n",
       " 'Johnathan': 42,\n",
       " 'Leland': 28,\n",
       " 'Flo': 2,\n",
       " 'Ethel': 212,\n",
       " 'Mallory': 15,\n",
       " 'Nickolas': 17,\n",
       " 'Leroy': 136,\n",
       " 'Ella': 108,\n",
       " 'Ofelia': 18,\n",
       " 'Carla': 125,\n",
       " 'Brandon': 278,\n",
       " 'Gwendolyn': 90,\n",
       " 'Claudio': 3,\n",
       " 'Jeanne': 102,\n",
       " 'Edna': 203,\n",
       " 'Adam': 294,\n",
       " 'Ben': 88,\n",
       " 'Morris': 47,\n",
       " 'Clarence': 209,\n",
       " 'Francesco': 5,\n",
       " 'Katie': 116,\n",
       " 'Cleveland': 16,\n",
       " 'Frances': 432,\n",
       " 'Andres': 35,\n",
       " 'Jacob': 180,\n",
       " 'Eva': 193,\n",
       " 'Darcel': 3,\n",
       " 'Chantel': 3,\n",
       " 'Lionel': 33,\n",
       " 'Claudette': 24,\n",
       " 'Shelly': 83,\n",
       " 'Nelson': 72,\n",
       " 'Carlos': 268,\n",
       " 'Elena': 39,\n",
       " 'Elisa': 38,\n",
       " 'Elbert': 27,\n",
       " 'Reed': 16,\n",
       " 'Deidra': 12,\n",
       " 'Connie': 219,\n",
       " 'Tonia': 19,\n",
       " 'Kay': 88,\n",
       " 'Catina': 3,\n",
       " 'Christine': 436,\n",
       " 'Lena': 89,\n",
       " 'Elaine': 188,\n",
       " 'Sylvester': 33,\n",
       " 'Marlyn': 3,\n",
       " 'Marquita': 9,\n",
       " 'Laurine': 2,\n",
       " 'Marcus': 122,\n",
       " 'Beverly': 273,\n",
       " 'Carrie': 182,\n",
       " 'Wilbert': 30,\n",
       " 'Dwayne': 70,\n",
       " 'Georgia': 104,\n",
       " 'Nola': 10,\n",
       " 'Cora': 64,\n",
       " 'Drew': 33,\n",
       " 'Marcia': 100,\n",
       " 'Philip': 228,\n",
       " 'Alma': 105,\n",
       " 'Lenore': 8,\n",
       " 'Austin': 54,\n",
       " 'Clinton': 77,\n",
       " 'Noah': 24,\n",
       " 'Warren': 121,\n",
       " 'Rhonda': 179,\n",
       " 'Rocky': 17,\n",
       " 'Denise': 296,\n",
       " 'Kent': 58,\n",
       " 'Armando': 74,\n",
       " 'Rudolph': 45,\n",
       " 'Sophia': 41,\n",
       " 'Patrick': 387,\n",
       " 'Marya': 3,\n",
       " 'Junior': 21,\n",
       " 'Pauline': 182,\n",
       " 'Nanci': 6,\n",
       " 'Olivia': 56,\n",
       " 'Ariel': 17,\n",
       " 'Sherrill': 3,\n",
       " 'Rosalind': 13,\n",
       " 'Caitlin': 32,\n",
       " 'Jordan': 68,\n",
       " 'Bruce': 312,\n",
       " 'Tiffani': 10,\n",
       " 'Shona': 4,\n",
       " 'Kathryn': 262,\n",
       " 'Molly': 60,\n",
       " 'Leticia': 41,\n",
       " 'Joann': 154,\n",
       " 'Starla': 5,\n",
       " 'Lori': 264,\n",
       " 'Willis': 43,\n",
       " 'Clora': 3,\n",
       " 'Jacquline': 12,\n",
       " 'Kelli': 56,\n",
       " 'Elba': 14,\n",
       " 'Kirsten': 21,\n",
       " 'Dawn': 228,\n",
       " 'Holly': 132,\n",
       " 'Barbar': 3,\n",
       " 'Roberto': 104,\n",
       " 'Tasha': 44,\n",
       " 'Rhoda': 17,\n",
       " 'Derrick': 117,\n",
       " 'Elva': 29,\n",
       " 'Leslie': 255,\n",
       " 'Jo': 88,\n",
       " 'Wanda': 251,\n",
       " 'Magaret': 5,\n",
       " 'Shelley': 42,\n",
       " 'Dallas': 24,\n",
       " 'Max': 62,\n",
       " 'Marina': 23,\n",
       " 'Deshawn': 11,\n",
       " 'Edgar': 99,\n",
       " 'Chad': 197,\n",
       " 'Enrique': 42,\n",
       " 'Melvin': 187,\n",
       " 'Janice': 343,\n",
       " 'Josephine': 218,\n",
       " 'Beth': 131,\n",
       " 'Lavern': 10,\n",
       " 'Miguel': 135,\n",
       " 'Melina': 5,\n",
       " 'Greg': 99,\n",
       " 'August': 14,\n",
       " 'Alvin': 114,\n",
       " 'Francesca': 8,\n",
       " 'Rosalina': 5,\n",
       " 'Julian': 56,\n",
       " 'Tiffany': 220,\n",
       " 'Franklin': 90,\n",
       " 'Tim': 111,\n",
       " 'Dewayne': 24,\n",
       " 'Kerri': 26,\n",
       " 'Ambrose': 5,\n",
       " 'Felecia': 10,\n",
       " 'Hattie': 52,\n",
       " 'Maggie': 62,\n",
       " 'Wilma': 122,\n",
       " 'Ardis': 8,\n",
       " 'Delbert': 42,\n",
       " 'Louise': 234,\n",
       " 'Keisha': 21,\n",
       " 'Neil': 75,\n",
       " 'Venessa': 4,\n",
       " 'Harvey': 83,\n",
       " 'Abel': 28,\n",
       " 'Emma': 184,\n",
       " 'Frederick': 160,\n",
       " 'Adrienne': 45,\n",
       " 'Micheal': 117,\n",
       " 'Caroline': 86,\n",
       " 'Trevor': 48,\n",
       " 'Benita': 11,\n",
       " 'Jefferey': 6,\n",
       " 'Luke': 34,\n",
       " 'Charissa': 6,\n",
       " 'Isabell': 7,\n",
       " 'Rebecca': 544,\n",
       " 'Wallace': 71,\n",
       " 'Mickey': 27,\n",
       " 'Etta': 34,\n",
       " 'Rita': 240,\n",
       " 'Harriette': 6,\n",
       " 'Susie': 62,\n",
       " 'Rosalinda': 22,\n",
       " 'Adrian': 101,\n",
       " 'Darryl': 70,\n",
       " 'Alexis': 58,\n",
       " 'Ronnie': 116,\n",
       " 'Tanya': 120,\n",
       " 'Lyle': 36,\n",
       " 'Tabatha': 13,\n",
       " 'Rosemary': 112,\n",
       " 'Anastasia': 14,\n",
       " 'Dortha': 7,\n",
       " 'Preston': 34,\n",
       " 'Jerrod': 9,\n",
       " 'Noe': 8,\n",
       " 'Jewell': 22,\n",
       " 'Mindy': 37,\n",
       " 'Floyd': 98,\n",
       " 'Maryann': 66,\n",
       " 'Joey': 57,\n",
       " 'Brady': 21,\n",
       " 'Kasie': 2,\n",
       " 'Elsie': 127,\n",
       " 'Celeste': 21,\n",
       " 'Kyle': 189,\n",
       " 'Maranda': 5,\n",
       " 'Rico': 6,\n",
       " 'Antony': 10,\n",
       " 'Glenda': 126,\n",
       " 'Jackie': 153,\n",
       " 'Cecile': 17,\n",
       " 'Tamara': 104,\n",
       " 'Rochelle': 41,\n",
       " 'Ollie': 31,\n",
       " 'Domingo': 20,\n",
       " 'Deanna': 101,\n",
       " 'Marianne': 44,\n",
       " 'Veola': 1,\n",
       " 'Melinda': 112,\n",
       " 'Merry': 5,\n",
       " 'Darius': 15,\n",
       " 'Agnes': 103,\n",
       " 'Amie': 17,\n",
       " 'Ora': 37,\n",
       " 'Cristal': 6,\n",
       " 'Rodrigo': 14,\n",
       " 'Geri': 11,\n",
       " 'Esther': 168,\n",
       " 'Sue': 103,\n",
       " 'Theodore': 122,\n",
       " 'Brandy': 70,\n",
       " 'Araceli': 10,\n",
       " 'Nathan': 222,\n",
       " 'Fannie': 49,\n",
       " 'Lora': 44,\n",
       " 'Jaime': 104,\n",
       " 'Trina': 30,\n",
       " 'Loretta': 124,\n",
       " 'Janie': 62,\n",
       " 'Cristobal': 4,\n",
       " 'Abigail': 24,\n",
       " 'Stanford': 7,\n",
       " 'Ismael': 33,\n",
       " 'Numbers': 15,\n",
       " 'Vanda': 2,\n",
       " 'Jane': 290,\n",
       " 'Neville': 9,\n",
       " 'Cristina': 45,\n",
       " 'Cory': 82,\n",
       " 'Clifford': 129,\n",
       " 'Hugh': 76,\n",
       " 'Kendrick': 11,\n",
       " 'Pilar': 10,\n",
       " 'Desiree': 36,\n",
       " 'Floy': 8,\n",
       " 'Roland': 84,\n",
       " 'Jenifer': 27,\n",
       " 'Lou': 36,\n",
       " 'Jesus': 170,\n",
       " 'Nora': 104,\n",
       " 'Charlette': 5,\n",
       " 'Alfred': 164,\n",
       " 'Jeffrey': 612,\n",
       " 'Hong': 7,\n",
       " 'Violet': 78,\n",
       " 'Zonia': 2,\n",
       " 'Candice': 54,\n",
       " 'Carlotta': 4,\n",
       " 'Katrina': 54,\n",
       " 'Terri': 109,\n",
       " 'Caridad': 8,\n",
       " 'Jon': 124,\n",
       " 'Marsha': 99,\n",
       " 'Misty': 80,\n",
       " 'Chrystal': 12,\n",
       " 'Irvin': 25,\n",
       " 'Fletcher': 13,\n",
       " 'Elfriede': 3,\n",
       " 'Ted': 78,\n",
       " 'Romeo': 13,\n",
       " 'Gregory': 450,\n",
       " 'Kristen': 114,\n",
       " 'Doretha': 12,\n",
       " 'Rena': 26,\n",
       " 'Duane': 82,\n",
       " 'Dusty': 13,\n",
       " 'Therese': 27,\n",
       " 'Lenora': 25,\n",
       " 'Rosa': 193,\n",
       " 'Lorene': 30,\n",
       " 'Alton': 58,\n",
       " 'Vickie': 91,\n",
       " 'Lucio': 6,\n",
       " 'Lizbeth': 5,\n",
       " 'Alesia': 4,\n",
       " 'Valeria': 7,\n",
       " 'Marguerite': 62,\n",
       " 'Bernard': 136,\n",
       " 'Marcos': 30,\n",
       " 'Christy': 93,\n",
       " 'Gracia': 1,\n",
       " 'Fay': 33,\n",
       " 'Cathryn': 12,\n",
       " 'Donny': 9,\n",
       " 'Martina': 16,\n",
       " 'Dave': 46,\n",
       " 'Velma': 72,\n",
       " 'Marion': 204,\n",
       " 'Jacquelynn': 2,\n",
       " 'Sherry': 223,\n",
       " 'Alden': 4,\n",
       " 'Coral': 6,\n",
       " 'Susanna': 9,\n",
       " 'Jeannie': 40,\n",
       " 'Terence': 33,\n",
       " 'Stella': 71,\n",
       " 'Guadalupe': 101,\n",
       " 'Johanna': 33,\n",
       " 'Marshall': 62,\n",
       " 'Myrna': 31,\n",
       " 'Sonja': 34,\n",
       " 'Tricia': 35,\n",
       " 'Marylin': 2,\n",
       " 'Augusta': 14,\n",
       " 'Mack': 29,\n",
       " 'Angelica': 41,\n",
       " 'Dean': 124,\n",
       " 'Terrance': 49,\n",
       " 'Napoleon': 9,\n",
       " 'Raleigh': 6,\n",
       " 'Jeanette': 125,\n",
       " 'Pedro': 137,\n",
       " 'Laurence': 27,\n",
       " 'Leigh': 43,\n",
       " 'Adriana': 20,\n",
       " 'Rudy': 35,\n",
       " 'Brandi': 60,\n",
       " 'Kenny': 48,\n",
       " 'Rhea': 7,\n",
       " 'Joan': 335,\n",
       " 'Mathew': 60,\n",
       " 'Hye': 9,\n",
       " 'Leah': 76,\n",
       " 'Maudie': 10,\n",
       " 'Bronwyn': 5,\n",
       " 'Kirk': 57,\n",
       " 'Kelley': 41,\n",
       " 'Rodney': 178,\n",
       " 'Latrice': 8,\n",
       " 'Rosemarie': 34,\n",
       " 'Myriam': 6,\n",
       " 'Marlena': 8,\n",
       " 'Cornell': 9,\n",
       " 'Loren': 42,\n",
       " 'Lilian': 15,\n",
       " 'Sherri': 72,\n",
       " 'Agustin': 18,\n",
       " 'Ricky': 168,\n",
       " 'Chelsey': 11,\n",
       " 'Mora': 3,\n",
       " 'Shantelle': 5,\n",
       " 'Gertrude': 118,\n",
       " 'Emilio': 19,\n",
       " 'Tyler': 91,\n",
       " 'Lucille': 177,\n",
       " 'Mollie': 19,\n",
       " 'Constance': 124,\n",
       " 'Lindsey': 74,\n",
       " 'Alfonso': 55,\n",
       " 'Arnold': 83,\n",
       " 'Mamie': 66,\n",
       " 'Bethany': 38,\n",
       " 'Natalie': 109,\n",
       " 'Sanjuanita': 5,\n",
       " 'Mari': 14,\n",
       " 'Gilda': 10,\n",
       " 'Nathaniel': 98,\n",
       " 'Delia': 34,\n",
       " 'Elnora': 15,\n",
       " 'Corina': 8,\n",
       " 'Allison': 90,\n",
       " 'Danielle': 182,\n",
       " 'Guillermo': 30,\n",
       " 'Delphine': 6,\n",
       " 'Melvina': 6,\n",
       " 'Gisela': 7,\n",
       " 'Dustin': 123,\n",
       " 'Barbie': 5,\n",
       " 'Freda': 27,\n",
       " 'Natasha': 69,\n",
       " 'Mohammed': 10,\n",
       " 'Mario': 137,\n",
       " 'Stefanie': 18,\n",
       " 'Jorge': 98,\n",
       " 'Vito': 18,\n",
       " 'Moses': 23,\n",
       " 'Joel': 155,\n",
       " 'Lindsay': 69,\n",
       " 'Andrea': 264,\n",
       " 'Al': 27,\n",
       " 'Dixie': 31,\n",
       " 'Daryl': 49,\n",
       " 'Dianne': 76,\n",
       " 'Chelsea': 40,\n",
       " 'Paulette': 38,\n",
       " 'Dexter': 28,\n",
       " 'Monroe': 11,\n",
       " 'Sybil': 17,\n",
       " 'Blair': 22,\n",
       " 'Cara': 27,\n",
       " 'Jimmie': 71,\n",
       " 'Adelaide': 7,\n",
       " 'Abraham': 24,\n",
       " 'Dona': 13,\n",
       " 'Krystal': 47,\n",
       " 'Clarine': 1,\n",
       " 'Sam': 106,\n",
       " 'Mac': 9,\n",
       " 'Reanna': 2,\n",
       " 'Alvina': 6,\n",
       " 'Pat': 66,\n",
       " 'Inez': 54,\n",
       " 'Owen': 21,\n",
       " 'Helena': 24,\n",
       " 'Olga': 64,\n",
       " 'Cruz': 21,\n",
       " 'Isaac': 62,\n",
       " 'Seth': 53,\n",
       " 'Karon': 10,\n",
       " 'Alyssa': 28,\n",
       " 'Emerson': 9,\n",
       " 'Taylor': 34,\n",
       " 'Donovan': 17,\n",
       " 'Billie': 99,\n",
       " 'Rex': 42,\n",
       " 'Gudrun': 4,\n",
       " 'Arden': 6,\n",
       " 'Oscar': 125,\n",
       " 'Lauren': 154,\n",
       " 'Everette': 9,\n",
       " 'Janelle': 25,\n",
       " 'Myron': 26,\n",
       " 'Claudia': 91,\n",
       " 'Sadie': 50,\n",
       " 'Brandie': 8,\n",
       " 'Josue': 13,\n",
       " 'Josef': 6,\n",
       " 'Allan': 73,\n",
       " 'Gayle': 40,\n",
       " ...}"
      ]
     },
     "execution_count": 64,
     "metadata": {},
     "output_type": "execute_result"
    }
   ],
   "source": [
    "name_counts"
   ]
  },
  {
   "cell_type": "code",
   "execution_count": 65,
   "metadata": {
    "ExecuteTime": {
     "end_time": "2019-02-03T06:41:43.451136Z",
     "start_time": "2019-02-03T06:41:43.447913Z"
    }
   },
   "outputs": [],
   "source": [
    "## The following line will take a long time to compute, can you guess why?\n",
    "# name_repeats = reduce(lambda new_dict,x: dict(list(new_dict.items())+[(x.name,new_dict.get(x.name,0)+1)]), all_students, {} )"
   ]
  },
  {
   "cell_type": "markdown",
   "metadata": {},
   "source": [
    "## Get List of Students Containing Unique Names"
   ]
  },
  {
   "cell_type": "markdown",
   "metadata": {},
   "source": [
    "__A Purely Imperative Approach__"
   ]
  },
  {
   "cell_type": "code",
   "execution_count": 66,
   "metadata": {
    "ExecuteTime": {
     "end_time": "2019-02-03T06:41:44.029338Z",
     "start_time": "2019-02-03T06:41:43.975099Z"
    }
   },
   "outputs": [],
   "source": [
    "unique_names = set()\n",
    "students_with_unique_names = []\n",
    "for student in all_students:\n",
    "    if student.name in unique_names:\n",
    "        continue\n",
    "    students_with_unique_names.append(student)\n",
    "    unique_names.add(student.name)"
   ]
  },
  {
   "cell_type": "code",
   "execution_count": 67,
   "metadata": {
    "ExecuteTime": {
     "end_time": "2019-02-03T06:41:44.486742Z",
     "start_time": "2019-02-03T06:41:44.479810Z"
    }
   },
   "outputs": [
    {
     "data": {
      "text/plain": [
       "4635"
      ]
     },
     "execution_count": 67,
     "metadata": {},
     "output_type": "execute_result"
    }
   ],
   "source": [
    "len(students_with_unique_names)"
   ]
  },
  {
   "cell_type": "markdown",
   "metadata": {},
   "source": [
    "__Alternate Approch w/ Functional Operators__"
   ]
  },
  {
   "cell_type": "code",
   "execution_count": 68,
   "metadata": {
    "ExecuteTime": {
     "end_time": "2019-02-03T06:41:45.050137Z",
     "start_time": "2019-02-03T06:41:44.988282Z"
    }
   },
   "outputs": [],
   "source": [
    "''' map out the features/parameters which need to be evaluated upon '''\n",
    "student_and_names = dict(map(lambda x: (x.name, x), all_students))\n",
    "\n",
    "''' remap the set of names to a list of student objects '''\n",
    "uniquely_named_students = list(map(lambda x: student_and_names[x], student_and_names))"
   ]
  },
  {
   "cell_type": "code",
   "execution_count": 69,
   "metadata": {
    "ExecuteTime": {
     "end_time": "2019-02-03T06:41:45.544056Z",
     "start_time": "2019-02-03T06:41:45.537281Z"
    }
   },
   "outputs": [
    {
     "name": "stdout",
     "output_type": "stream",
     "text": [
      "4635\n"
     ]
    }
   ],
   "source": [
    "print(len(uniquely_named_students))"
   ]
  },
  {
   "cell_type": "markdown",
   "metadata": {},
   "source": [
    "## Get a Sorted List of Students with CG > 9.5"
   ]
  },
  {
   "cell_type": "markdown",
   "metadata": {},
   "source": [
    "__Approach 1: Filter followed by Sort__"
   ]
  },
  {
   "cell_type": "code",
   "execution_count": 70,
   "metadata": {
    "ExecuteTime": {
     "end_time": "2019-02-03T06:41:46.163449Z",
     "start_time": "2019-02-03T06:41:46.114067Z"
    }
   },
   "outputs": [],
   "source": [
    "meritorious_students = list(filter(lambda x: x.grade>9.5, all_students))\n",
    "sorted_meritorious_students1 = sorted(meritorious_students, key=lambda x:x.grade, reverse=True)"
   ]
  },
  {
   "cell_type": "markdown",
   "metadata": {},
   "source": [
    "__Approach 2: Sort followed by Filter__"
   ]
  },
  {
   "cell_type": "code",
   "execution_count": 71,
   "metadata": {
    "ExecuteTime": {
     "end_time": "2019-02-03T06:41:46.905865Z",
     "start_time": "2019-02-03T06:41:46.688792Z"
    }
   },
   "outputs": [],
   "source": [
    "sorted_students = sorted(all_students, key=lambda x:x.grade, reverse=True)\n",
    "sorted_meritorious_students2 = list(filter(lambda x: x.grade>9.5, sorted_students))"
   ]
  },
  {
   "cell_type": "markdown",
   "metadata": {
    "ExecuteTime": {
     "end_time": "2019-02-02T10:24:03.895844Z",
     "start_time": "2019-02-02T10:24:03.893276Z"
    }
   },
   "source": [
    "*Why did the first approach take less time?*"
   ]
  },
  {
   "cell_type": "markdown",
   "metadata": {},
   "source": [
    "## Compare the Average Grade of CSE Students and EEE Students"
   ]
  },
  {
   "cell_type": "code",
   "execution_count": 72,
   "metadata": {
    "ExecuteTime": {
     "end_time": "2019-02-03T06:41:47.772679Z",
     "start_time": "2019-02-03T06:41:47.700445Z"
    }
   },
   "outputs": [],
   "source": [
    "cse_average_grade = reduce(lambda x,y: x+y,map(lambda x: x.grade, filter(lambda x: x.discipline==\"A7\", all_students)))/len(cse_students)"
   ]
  },
  {
   "cell_type": "code",
   "execution_count": 73,
   "metadata": {
    "ExecuteTime": {
     "end_time": "2019-02-03T06:41:48.563496Z",
     "start_time": "2019-02-03T06:41:48.551946Z"
    }
   },
   "outputs": [
    {
     "data": {
      "text/plain": [
       "8.00307507999992"
      ]
     },
     "execution_count": 73,
     "metadata": {},
     "output_type": "execute_result"
    }
   ],
   "source": [
    "cse_average_grade"
   ]
  },
  {
   "cell_type": "code",
   "execution_count": 74,
   "metadata": {
    "ExecuteTime": {
     "end_time": "2019-02-03T06:41:49.420300Z",
     "start_time": "2019-02-03T06:41:49.319635Z"
    }
   },
   "outputs": [],
   "source": [
    "eee_average_grade = reduce(lambda x,y:(\"\",x[1]+y[1]), filter(lambda x: x[0]==\"A3\", map(lambda x:(x.discipline,x.grade),all_students)))[1]/len(eee_students)"
   ]
  },
  {
   "cell_type": "code",
   "execution_count": 75,
   "metadata": {
    "ExecuteTime": {
     "end_time": "2019-02-03T06:41:50.193085Z",
     "start_time": "2019-02-03T06:41:50.186041Z"
    }
   },
   "outputs": [
    {
     "data": {
      "text/plain": [
       "6.9982245599999535"
      ]
     },
     "execution_count": 75,
     "metadata": {},
     "output_type": "execute_result"
    }
   ],
   "source": [
    "eee_average_grade"
   ]
  },
  {
   "cell_type": "markdown",
   "metadata": {},
   "source": [
    "## CSV File"
   ]
  },
  {
   "cell_type": "code",
   "execution_count": 76,
   "metadata": {
    "ExecuteTime": {
     "end_time": "2019-02-03T06:41:51.325033Z",
     "start_time": "2019-02-03T06:41:50.990834Z"
    }
   },
   "outputs": [],
   "source": [
    "unrolled_data = list(map(lambda x: (x.name, x.discipline, x.grade, x.courses), all_students))"
   ]
  },
  {
   "cell_type": "code",
   "execution_count": 77,
   "metadata": {
    "ExecuteTime": {
     "end_time": "2019-02-03T06:41:53.597121Z",
     "start_time": "2019-02-03T06:41:52.887088Z"
    }
   },
   "outputs": [],
   "source": [
    "with open('students.csv', 'w') as studentsCsvFile:\n",
    "    writer = csv.writer(studentsCsvFile)\n",
    "    writer.writerow((\"Name\",\"Discipline\",\"Grade\",\"Courses\"))\n",
    "    writer.writerows(unrolled_data)"
   ]
  },
  {
   "cell_type": "markdown",
   "metadata": {},
   "source": [
    "## Pickle File"
   ]
  },
  {
   "cell_type": "code",
   "execution_count": 78,
   "metadata": {
    "ExecuteTime": {
     "end_time": "2019-02-03T06:41:55.552899Z",
     "start_time": "2019-02-03T06:41:55.113342Z"
    }
   },
   "outputs": [],
   "source": [
    "file = open('important', 'wb')\n",
    "\n",
    "pickle.dump(all_students,file)\n",
    "\n",
    "file.close()"
   ]
  },
  {
   "cell_type": "markdown",
   "metadata": {},
   "source": [
    "# Next Section"
   ]
  },
  {
   "cell_type": "markdown",
   "metadata": {
    "ExecuteTime": {
     "end_time": "2019-01-20T06:44:25.877279Z",
     "start_time": "2019-01-20T06:44:25.871606Z"
    }
   },
   "source": [
    "## Why NumPy"
   ]
  },
  {
   "cell_type": "markdown",
   "metadata": {},
   "source": [
    "### Lists vs Arrays\n",
    "\n"
   ]
  },
  {
   "cell_type": "code",
   "execution_count": 79,
   "metadata": {
    "ExecuteTime": {
     "end_time": "2019-02-03T06:41:56.989019Z",
     "start_time": "2019-02-03T06:41:56.974264Z"
    }
   },
   "outputs": [],
   "source": [
    "import numpy as np\n",
    "\n",
    "list_1 = range(500000)\n",
    "list_2 = range(500000)\n",
    "\n",
    "array_1 = np.arange(500000)\n",
    "array_2 = np.arange(500000)"
   ]
  },
  {
   "cell_type": "markdown",
   "metadata": {},
   "source": [
    "We'll compare time taken for list operations and NumPy array operations"
   ]
  },
  {
   "cell_type": "code",
   "execution_count": 80,
   "metadata": {
    "ExecuteTime": {
     "end_time": "2019-02-03T06:41:58.667086Z",
     "start_time": "2019-02-03T06:41:58.554938Z"
    }
   },
   "outputs": [
    {
     "name": "stdout",
     "output_type": "stream",
     "text": [
      "Time taken:  0.10590887069702148\n"
     ]
    }
   ],
   "source": [
    "import time\n",
    "\n",
    "start = time.time()\n",
    "\n",
    "sum_list = [a+b for a,b in zip(list_1,list_2)]\n",
    "\n",
    "end = time.time()\n",
    "\n",
    "print(\"Time taken: \",end - start)\n",
    "\n"
   ]
  },
  {
   "cell_type": "code",
   "execution_count": 81,
   "metadata": {
    "ExecuteTime": {
     "end_time": "2019-02-03T06:41:58.678159Z",
     "start_time": "2019-02-03T06:41:58.671238Z"
    }
   },
   "outputs": [
    {
     "name": "stdout",
     "output_type": "stream",
     "text": [
      "Time taken:  0.002056121826171875\n"
     ]
    }
   ],
   "source": [
    "start = time.time()\n",
    "\n",
    "sum_array = array_1 + array_2\n",
    "\n",
    "end = time.time()\n",
    "print(\"Time taken: \",end - start)\n",
    "\n"
   ]
  },
  {
   "cell_type": "markdown",
   "metadata": {},
   "source": [
    "***There's a significant difference in the two times (roughly a factor of 20)***"
   ]
  },
  {
   "cell_type": "markdown",
   "metadata": {},
   "source": [
    "## Why Pandas"
   ]
  },
  {
   "cell_type": "code",
   "execution_count": 82,
   "metadata": {
    "ExecuteTime": {
     "end_time": "2019-02-03T06:42:02.099724Z",
     "start_time": "2019-02-03T06:42:01.943283Z"
    }
   },
   "outputs": [
    {
     "data": {
      "text/html": [
       "<div>\n",
       "<style scoped>\n",
       "    .dataframe tbody tr th:only-of-type {\n",
       "        vertical-align: middle;\n",
       "    }\n",
       "\n",
       "    .dataframe tbody tr th {\n",
       "        vertical-align: top;\n",
       "    }\n",
       "\n",
       "    .dataframe thead th {\n",
       "        text-align: right;\n",
       "    }\n",
       "</style>\n",
       "<table border=\"1\" class=\"dataframe\">\n",
       "  <thead>\n",
       "    <tr style=\"text-align: right;\">\n",
       "      <th></th>\n",
       "      <th>Name</th>\n",
       "      <th>Discipline</th>\n",
       "      <th>Grade</th>\n",
       "      <th>Courses</th>\n",
       "    </tr>\n",
       "  </thead>\n",
       "  <tbody>\n",
       "    <tr>\n",
       "      <th>0</th>\n",
       "      <td>Brian</td>\n",
       "      <td>A7</td>\n",
       "      <td>6.000</td>\n",
       "      <td>['Data Structures, OOP']</td>\n",
       "    </tr>\n",
       "    <tr>\n",
       "      <th>1</th>\n",
       "      <td>Willie</td>\n",
       "      <td>A7</td>\n",
       "      <td>6.000</td>\n",
       "      <td>['Data Structures, OOP']</td>\n",
       "    </tr>\n",
       "    <tr>\n",
       "      <th>2</th>\n",
       "      <td>Dennis</td>\n",
       "      <td>A7</td>\n",
       "      <td>8.296</td>\n",
       "      <td>['Data Structures, OOP']</td>\n",
       "    </tr>\n",
       "    <tr>\n",
       "      <th>3</th>\n",
       "      <td>Leonard</td>\n",
       "      <td>A7</td>\n",
       "      <td>8.232</td>\n",
       "      <td>['Data Structures, OOP']</td>\n",
       "    </tr>\n",
       "    <tr>\n",
       "      <th>4</th>\n",
       "      <td>Shay</td>\n",
       "      <td>A7</td>\n",
       "      <td>7.760</td>\n",
       "      <td>['Data Structures, OOP']</td>\n",
       "    </tr>\n",
       "  </tbody>\n",
       "</table>\n",
       "</div>"
      ],
      "text/plain": [
       "      Name Discipline  Grade                   Courses\n",
       "0    Brian         A7  6.000  ['Data Structures, OOP']\n",
       "1   Willie         A7  6.000  ['Data Structures, OOP']\n",
       "2   Dennis         A7  8.296  ['Data Structures, OOP']\n",
       "3  Leonard         A7  8.232  ['Data Structures, OOP']\n",
       "4     Shay         A7  7.760  ['Data Structures, OOP']"
      ]
     },
     "execution_count": 82,
     "metadata": {},
     "output_type": "execute_result"
    }
   ],
   "source": [
    "df = pd.read_csv(\"./students.csv\", header=0)\n",
    "df.head(5)"
   ]
  },
  {
   "cell_type": "code",
   "execution_count": 83,
   "metadata": {
    "ExecuteTime": {
     "end_time": "2019-02-03T06:42:02.108617Z",
     "start_time": "2019-02-03T06:42:02.103334Z"
    }
   },
   "outputs": [
    {
     "data": {
      "text/plain": [
       "(200000, 4)"
      ]
     },
     "execution_count": 83,
     "metadata": {},
     "output_type": "execute_result"
    }
   ],
   "source": [
    "df.shape"
   ]
  },
  {
   "cell_type": "code",
   "execution_count": 84,
   "metadata": {
    "ExecuteTime": {
     "end_time": "2019-02-03T06:42:02.152265Z",
     "start_time": "2019-02-03T06:42:02.111732Z"
    }
   },
   "outputs": [
    {
     "data": {
      "text/html": [
       "<div>\n",
       "<style scoped>\n",
       "    .dataframe tbody tr th:only-of-type {\n",
       "        vertical-align: middle;\n",
       "    }\n",
       "\n",
       "    .dataframe tbody tr th {\n",
       "        vertical-align: top;\n",
       "    }\n",
       "\n",
       "    .dataframe thead th {\n",
       "        text-align: right;\n",
       "    }\n",
       "</style>\n",
       "<table border=\"1\" class=\"dataframe\">\n",
       "  <thead>\n",
       "    <tr style=\"text-align: right;\">\n",
       "      <th></th>\n",
       "      <th>Grade</th>\n",
       "    </tr>\n",
       "  </thead>\n",
       "  <tbody>\n",
       "    <tr>\n",
       "      <th>count</th>\n",
       "      <td>200000.000000</td>\n",
       "    </tr>\n",
       "    <tr>\n",
       "      <th>mean</th>\n",
       "      <td>7.500650</td>\n",
       "    </tr>\n",
       "    <tr>\n",
       "      <th>std</th>\n",
       "      <td>1.258101</td>\n",
       "    </tr>\n",
       "    <tr>\n",
       "      <th>min</th>\n",
       "      <td>5.000000</td>\n",
       "    </tr>\n",
       "    <tr>\n",
       "      <th>25%</th>\n",
       "      <td>6.504000</td>\n",
       "    </tr>\n",
       "    <tr>\n",
       "      <th>50%</th>\n",
       "      <td>7.496000</td>\n",
       "    </tr>\n",
       "    <tr>\n",
       "      <th>75%</th>\n",
       "      <td>8.500000</td>\n",
       "    </tr>\n",
       "    <tr>\n",
       "      <th>max</th>\n",
       "      <td>10.000000</td>\n",
       "    </tr>\n",
       "  </tbody>\n",
       "</table>\n",
       "</div>"
      ],
      "text/plain": [
       "               Grade\n",
       "count  200000.000000\n",
       "mean        7.500650\n",
       "std         1.258101\n",
       "min         5.000000\n",
       "25%         6.504000\n",
       "50%         7.496000\n",
       "75%         8.500000\n",
       "max        10.000000"
      ]
     },
     "execution_count": 84,
     "metadata": {},
     "output_type": "execute_result"
    }
   ],
   "source": [
    "df.describe()"
   ]
  },
  {
   "cell_type": "markdown",
   "metadata": {
    "ExecuteTime": {
     "end_time": "2019-01-20T06:45:21.767366Z",
     "start_time": "2019-01-20T06:45:21.762122Z"
    }
   },
   "source": [
    "## Why Matplotlib"
   ]
  },
  {
   "cell_type": "code",
   "execution_count": 85,
   "metadata": {
    "ExecuteTime": {
     "end_time": "2019-02-03T06:42:07.080123Z",
     "start_time": "2019-02-03T06:42:06.973387Z"
    }
   },
   "outputs": [],
   "source": [
    "grades = sorted(list(map(lambda x: x.grade, filter(lambda x:x.name,all_students))))"
   ]
  },
  {
   "cell_type": "code",
   "execution_count": 86,
   "metadata": {
    "ExecuteTime": {
     "end_time": "2019-02-03T06:42:09.637576Z",
     "start_time": "2019-02-03T06:42:08.882798Z"
    }
   },
   "outputs": [
    {
     "data": {
      "image/png": "[encoded data removed]",
      "text/plain": [
       "<Figure size 432x288 with 1 Axes>"
      ]
     },
     "metadata": {},
     "output_type": "display_data"
    }
   ],
   "source": [
    "plt.plot(grades,'ro')\n",
    "plt.axis([0, 200000, 4, 10])\n",
    "plt.show()"
   ]
  },
  {
   "cell_type": "code",
   "execution_count": 87,
   "metadata": {
    "ExecuteTime": {
     "end_time": "2019-02-03T06:42:11.294029Z",
     "start_time": "2019-02-03T06:42:11.232902Z"
    }
   },
   "outputs": [],
   "source": [
    "grade_age = [(x.grade, x.age) for x in all_students]"
   ]
  },
  {
   "cell_type": "code",
   "execution_count": 88,
   "metadata": {
    "ExecuteTime": {
     "end_time": "2019-02-03T06:42:11.631850Z",
     "start_time": "2019-02-03T06:42:11.297470Z"
    }
   },
   "outputs": [],
   "source": [
    "x,y = zip(*grade_age)"
   ]
  },
  {
   "cell_type": "code",
   "execution_count": 89,
   "metadata": {
    "ExecuteTime": {
     "end_time": "2019-02-03T06:42:15.827174Z",
     "start_time": "2019-02-03T06:42:11.635326Z"
    }
   },
   "outputs": [
    {
     "data": {
      "text/plain": [
       "<matplotlib.collections.PathCollection at 0x11379d550>"
      ]
     },
     "execution_count": 89,
     "metadata": {},
     "output_type": "execute_result"
    },
    {
     "data": {
      "image/png": "[encoded data removed]",
      "text/plain": [
       "<Figure size 432x288 with 1 Axes>"
      ]
     },
     "metadata": {},
     "output_type": "display_data"
    }
   ],
   "source": [
    "plt.scatter(x=x, y=y)"
   ]
  },
  {
   "cell_type": "code",
   "execution_count": 90,
   "metadata": {
    "ExecuteTime": {
     "end_time": "2019-02-03T06:42:15.909548Z",
     "start_time": "2019-02-03T06:42:15.831235Z"
    }
   },
   "outputs": [],
   "source": [
    "grade_age = list(filter(lambda x: x[1]/x[0] <2, grade_age))\n",
    "x,y = zip(*grade_age)"
   ]
  },
  {
   "cell_type": "code",
   "execution_count": 91,
   "metadata": {
    "ExecuteTime": {
     "end_time": "2019-02-03T06:42:16.297456Z",
     "start_time": "2019-02-03T06:42:15.912351Z"
    }
   },
   "outputs": [
    {
     "data": {
      "text/plain": [
       "<matplotlib.collections.PathCollection at 0x1175e1eb8>"
      ]
     },
     "execution_count": 91,
     "metadata": {},
     "output_type": "execute_result"
    },
    {
     "data": {
      "image/png": "[encoded data removed]",
      "text/plain": [
       "<Figure size 432x288 with 1 Axes>"
      ]
     },
     "metadata": {},
     "output_type": "display_data"
    }
   ],
   "source": [
    "plt.scatter(x=x, y=y)"
   ]
  },
  {
   "cell_type": "code",
   "execution_count": 92,
   "metadata": {
    "ExecuteTime": {
     "end_time": "2019-02-03T06:42:25.729043Z",
     "start_time": "2019-02-03T06:42:25.722131Z"
    },
    "scrolled": true
   },
   "outputs": [],
   "source": [
    "grade_age = list(filter(lambda x: x[1]/x[0] > 1.99, grade_age))\n",
    "x,y = zip(*grade_age)"
   ]
  },
  {
   "cell_type": "code",
   "execution_count": 215,
   "metadata": {
    "ExecuteTime": {
     "end_time": "2019-02-03T07:10:11.553540Z",
     "start_time": "2019-02-03T07:10:11.339759Z"
    },
    "scrolled": true
   },
   "outputs": [
    {
     "data": {
      "text/plain": [
       "<matplotlib.collections.PathCollection at 0x11e7b9780>"
      ]
     },
     "execution_count": 215,
     "metadata": {},
     "output_type": "execute_result"
    },
    {
     "data": {
      "image/png": "[encoded data removed]",
      "text/plain": [
       "<Figure size 432x288 with 1 Axes>"
      ]
     },
     "metadata": {},
     "output_type": "display_data"
    }
   ],
   "source": [
    "plt.scatter(x=x, y=y)"
   ]
  },
  {
   "cell_type": "markdown",
   "metadata": {},
   "source": [
    "# BITS F312 | NNFL | Workshop"
   ]
  },
  {
   "cell_type": "markdown",
   "metadata": {
    "ExecuteTime": {
     "end_time": "2019-02-03T07:18:00.950812Z",
     "start_time": "2019-02-03T07:18:00.947144Z"
    }
   },
   "source": [
    "## Yesterday"
   ]
  },
  {
   "cell_type": "markdown",
   "metadata": {
    "ExecuteTime": {
     "end_time": "2019-02-03T07:18:12.933843Z",
     "start_time": "2019-02-03T07:18:12.929819Z"
    }
   },
   "source": [
    "A few people did not completely understand the __map filter reduce__ paradigms\n",
    "\n",
    "Also, many had issues in operating the jupyter notebooks"
   ]
  },
  {
   "cell_type": "markdown",
   "metadata": {},
   "source": [
    "## Introduction"
   ]
  },
  {
   "cell_type": "markdown",
   "metadata": {},
   "source": [
    "In today's session, we will cover:\n",
    "\n",
    "* Numpy\n",
    "* Matplotlib\n",
    "* Pandas"
   ]
  },
  {
   "cell_type": "markdown",
   "metadata": {},
   "source": [
    "## Numpy"
   ]
  },
  {
   "cell_type": "markdown",
   "metadata": {},
   "source": [
    "Numpy is the core library for scientific computing in Python. It provides a high-performance multidimensional array object, and tools for working with these arrays. If you are already familiar with MATLAB, you might find this [tutorial](http://wiki.scipy.org/NumPy_for_Matlab_Users) useful to get started with Numpy."
   ]
  },
  {
   "cell_type": "markdown",
   "metadata": {},
   "source": [
    "To use Numpy, we first need to import the `numpy` package:"
   ]
  },
  {
   "cell_type": "code",
   "execution_count": 94,
   "metadata": {
    "ExecuteTime": {
     "end_time": "2019-02-03T06:42:29.857685Z",
     "start_time": "2019-02-03T06:42:29.854389Z"
    }
   },
   "outputs": [],
   "source": [
    "import numpy as np"
   ]
  },
  {
   "cell_type": "markdown",
   "metadata": {},
   "source": [
    "### Arrays"
   ]
  },
  {
   "cell_type": "markdown",
   "metadata": {},
   "source": [
    "A numpy array is a grid of values, all of the same type, and is indexed by a tuple of nonnegative integers. The number of dimensions is the rank of the array; the shape of an array is a tuple of integers giving the size of the array along each dimension."
   ]
  },
  {
   "cell_type": "markdown",
   "metadata": {},
   "source": [
    "We can initialize numpy arrays from nested Python lists, and access elements using square brackets:"
   ]
  },
  {
   "cell_type": "code",
   "execution_count": 222,
   "metadata": {
    "ExecuteTime": {
     "end_time": "2019-02-03T07:24:03.191422Z",
     "start_time": "2019-02-03T07:24:03.186825Z"
    }
   },
   "outputs": [
    {
     "name": "stdout",
     "output_type": "stream",
     "text": [
      "<class 'numpy.ndarray'> (3,) 1 2 3\n",
      "[5 2 3]\n"
     ]
    }
   ],
   "source": [
    "a = np.array([1, 2, 3])  # Create a one dimensional array\n",
    "print(type(a), a.shape, a[0], a[1], a[2])\n",
    "a[0] = 5                 # Change an element of the array\n",
    "print(a)"
   ]
  },
  {
   "cell_type": "code",
   "execution_count": 223,
   "metadata": {
    "ExecuteTime": {
     "end_time": "2019-02-03T07:24:23.705511Z",
     "start_time": "2019-02-03T07:24:23.698368Z"
    }
   },
   "outputs": [
    {
     "name": "stdout",
     "output_type": "stream",
     "text": [
      "[[1 2 3]\n",
      " [4 5 6]]\n"
     ]
    }
   ],
   "source": [
    "b = np.array([[1,2,3],[4,5,6]])   # Create a rank 2 array\n",
    "print(b)"
   ]
  },
  {
   "cell_type": "code",
   "execution_count": 224,
   "metadata": {
    "ExecuteTime": {
     "end_time": "2019-02-03T07:24:25.583070Z",
     "start_time": "2019-02-03T07:24:25.575880Z"
    }
   },
   "outputs": [
    {
     "name": "stdout",
     "output_type": "stream",
     "text": [
      "(2, 3)\n",
      "1 2 4\n"
     ]
    }
   ],
   "source": [
    "print(b.shape)                   \n",
    "print(b[0, 0], b[0, 1], b[1, 0])"
   ]
  },
  {
   "cell_type": "markdown",
   "metadata": {},
   "source": [
    "Numpy also provides many functions to create arrays:"
   ]
  },
  {
   "cell_type": "code",
   "execution_count": 225,
   "metadata": {
    "ExecuteTime": {
     "end_time": "2019-02-03T07:24:48.417941Z",
     "start_time": "2019-02-03T07:24:48.410251Z"
    }
   },
   "outputs": [
    {
     "name": "stdout",
     "output_type": "stream",
     "text": [
      "[[0. 0.]\n",
      " [0. 0.]]\n"
     ]
    }
   ],
   "source": [
    "a = np.zeros((2,2))  # Create an array of all zeros\n",
    "print(a)"
   ]
  },
  {
   "cell_type": "code",
   "execution_count": 226,
   "metadata": {
    "ExecuteTime": {
     "end_time": "2019-02-03T07:24:50.229996Z",
     "start_time": "2019-02-03T07:24:50.224495Z"
    }
   },
   "outputs": [
    {
     "name": "stdout",
     "output_type": "stream",
     "text": [
      "[[1. 1.]]\n"
     ]
    }
   ],
   "source": [
    "b = np.ones((1,2))   # Create an array of all ones\n",
    "print(b)"
   ]
  },
  {
   "cell_type": "code",
   "execution_count": 245,
   "metadata": {
    "ExecuteTime": {
     "end_time": "2019-02-03T07:26:56.057815Z",
     "start_time": "2019-02-03T07:26:56.052966Z"
    }
   },
   "outputs": [
    {
     "name": "stdout",
     "output_type": "stream",
     "text": [
      "[[7 7]\n",
      " [7 7]]\n"
     ]
    }
   ],
   "source": [
    "c = np.full((2,2), 7) # Create a constant array\n",
    "print(c)"
   ]
  },
  {
   "cell_type": "code",
   "execution_count": 246,
   "metadata": {
    "ExecuteTime": {
     "end_time": "2019-02-03T07:26:59.896237Z",
     "start_time": "2019-02-03T07:26:59.891163Z"
    }
   },
   "outputs": [
    {
     "name": "stdout",
     "output_type": "stream",
     "text": [
      "[[1. 0.]\n",
      " [0. 1.]]\n"
     ]
    }
   ],
   "source": [
    "d = np.eye(2)        # Create a 2x2 identity matrix\n",
    "print(d)"
   ]
  },
  {
   "cell_type": "code",
   "execution_count": 247,
   "metadata": {
    "ExecuteTime": {
     "end_time": "2019-02-03T07:27:09.733462Z",
     "start_time": "2019-02-03T07:27:09.728450Z"
    }
   },
   "outputs": [
    {
     "name": "stdout",
     "output_type": "stream",
     "text": [
      "[[0.43067121 0.17617403]\n",
      " [0.5175652  0.30530121]]\n"
     ]
    }
   ],
   "source": [
    "e = np.random.random((2,2)) # Create an array filled with random values\n",
    "print(e)"
   ]
  },
  {
   "cell_type": "markdown",
   "metadata": {},
   "source": [
    "### Array indexing"
   ]
  },
  {
   "cell_type": "markdown",
   "metadata": {},
   "source": [
    "Numpy offers several ways to index into arrays."
   ]
  },
  {
   "cell_type": "markdown",
   "metadata": {},
   "source": [
    "Slicing: Similar to Python lists, numpy arrays can be sliced. Since arrays may be multidimensional, you must specify a slice for each dimension of the array:"
   ]
  },
  {
   "cell_type": "code",
   "execution_count": 251,
   "metadata": {
    "ExecuteTime": {
     "end_time": "2019-02-03T07:27:59.251648Z",
     "start_time": "2019-02-03T07:27:59.247432Z"
    }
   },
   "outputs": [
    {
     "name": "stdout",
     "output_type": "stream",
     "text": [
      "[[2 3]\n",
      " [6 7]]\n"
     ]
    }
   ],
   "source": [
    "import numpy as np\n",
    "\n",
    "# Create the following array with shape (3, 4)\n",
    "# [[ 1  2  3  4]\n",
    "#  [ 5  6  7  8]\n",
    "#  [ 9 10 11 12]]\n",
    "a = np.array([[1,2,3,4], [5,6,7,8], [9,10,11,12]])\n",
    "\n",
    "# We can use slicing to pull out the subarray consisting of the first 2 rows\n",
    "# and columns 1 and 2; b is the following array of shape (2, 2):\n",
    "\n",
    "b = a[:2, 1:3]\n",
    "print(b)"
   ]
  },
  {
   "cell_type": "markdown",
   "metadata": {},
   "source": [
    "Unlike Python Lists, A slice of a Numpy array is a view into the same data, so modifying it will modify the original array."
   ]
  },
  {
   "cell_type": "code",
   "execution_count": 252,
   "metadata": {
    "ExecuteTime": {
     "end_time": "2019-02-03T07:28:54.831246Z",
     "start_time": "2019-02-03T07:28:54.827502Z"
    }
   },
   "outputs": [
    {
     "name": "stdout",
     "output_type": "stream",
     "text": [
      "2\n",
      "77\n"
     ]
    }
   ],
   "source": [
    "print(a[0, 1])  \n",
    "b[0, 0] = 77    # b[0, 0] is the same piece of data as a[0, 1]\n",
    "print(a[0, 1])"
   ]
  },
  {
   "cell_type": "markdown",
   "metadata": {},
   "source": [
    "You can also mix integer indexing with slice indexing. However, doing so will yield an array of lower rank than the original array. Note that this is quite different from the way that MATLAB handles array slicing:"
   ]
  },
  {
   "cell_type": "code",
   "execution_count": 253,
   "metadata": {
    "ExecuteTime": {
     "end_time": "2019-02-03T07:29:32.906987Z",
     "start_time": "2019-02-03T07:29:32.902535Z"
    }
   },
   "outputs": [
    {
     "name": "stdout",
     "output_type": "stream",
     "text": [
      "[[ 1  2  3  4]\n",
      " [ 5  6  7  8]\n",
      " [ 9 10 11 12]]\n"
     ]
    }
   ],
   "source": [
    "# Create the following rank 2 array with shape (3, 4)\n",
    "a = np.array([[1,2,3,4], [5,6,7,8], [9,10,11,12]])\n",
    "print(a)"
   ]
  },
  {
   "cell_type": "markdown",
   "metadata": {},
   "source": [
    "Two ways of accessing the data in the middle row of the array.\n",
    "Mixing integer indexing with slices yields an array of lower rank,\n",
    "while using only slices yields an array of the same rank as the\n",
    "original array:"
   ]
  },
  {
   "cell_type": "code",
   "execution_count": 256,
   "metadata": {
    "ExecuteTime": {
     "end_time": "2019-02-03T07:31:17.857023Z",
     "start_time": "2019-02-03T07:31:17.850957Z"
    }
   },
   "outputs": [
    {
     "name": "stdout",
     "output_type": "stream",
     "text": [
      "[5 6 7 8] (4,)\n",
      "[[5 6 7 8]] (1, 4)\n",
      "[[5 6 7 8]] (1, 4)\n"
     ]
    }
   ],
   "source": [
    "row_r1 = a[1, :]    # Rank 1 view of the second row of a  \n",
    "row_r2 = a[1:2, :]  # Rank 2 view of the second row of a\n",
    "row_r3 = a[[1], :]  # Rank 2 view of the second row of a\n",
    "print(row_r1, row_r1.shape) \n",
    "print(row_r2, row_r2.shape)\n",
    "print(row_r3, row_r3.shape)"
   ]
  },
  {
   "cell_type": "code",
   "execution_count": 257,
   "metadata": {
    "ExecuteTime": {
     "end_time": "2019-02-03T07:31:19.696083Z",
     "start_time": "2019-02-03T07:31:19.688236Z"
    }
   },
   "outputs": [
    {
     "name": "stdout",
     "output_type": "stream",
     "text": [
      "[ 2  6 10] (3,)\n",
      "\n",
      "[[ 2]\n",
      " [ 6]\n",
      " [10]] (3, 1)\n"
     ]
    }
   ],
   "source": [
    "# We can make the same distinction when accessing columns of an array:\n",
    "col_r1 = a[:, 1]\n",
    "col_r2 = a[:, 1:2]\n",
    "print(col_r1, col_r1.shape)\n",
    "print()\n",
    "print(col_r2, col_r2.shape)"
   ]
  },
  {
   "cell_type": "markdown",
   "metadata": {},
   "source": [
    "Integer array indexing: When you index into numpy arrays using slicing, the resulting array view will always be a subarray of the original array. In contrast, integer array indexing allows you to construct arbitrary arrays using the data from another array. Here is an example:"
   ]
  },
  {
   "cell_type": "code",
   "execution_count": 262,
   "metadata": {
    "ExecuteTime": {
     "end_time": "2019-02-03T07:34:21.024265Z",
     "start_time": "2019-02-03T07:34:21.019881Z"
    }
   },
   "outputs": [
    {
     "name": "stdout",
     "output_type": "stream",
     "text": [
      "[1 4 5 4]\n",
      "[1 4 5 4]\n"
     ]
    }
   ],
   "source": [
    "a = np.array([[1,2], [3, 4], [5, 6]])\n",
    "\n",
    "# An example of integer array indexing.\n",
    "# The returned array will have shape (3,) and \n",
    "print(a[[0, 1, 2, 1], [0, 1, 0, 1]])\n",
    "\n",
    "# The above example of integer array indexing is equivalent to this:\n",
    "print(np.array([a[0, 0], a[1, 1], a[2, 0], a[1,1]]))"
   ]
  },
  {
   "cell_type": "markdown",
   "metadata": {},
   "source": [
    "We can reuse elements from the source array"
   ]
  },
  {
   "cell_type": "markdown",
   "metadata": {},
   "source": [
    "One useful trick with integer array indexing is selecting or mutating one element from each row of a matrix:"
   ]
  },
  {
   "cell_type": "code",
   "execution_count": 264,
   "metadata": {
    "ExecuteTime": {
     "end_time": "2019-02-03T07:35:44.373439Z",
     "start_time": "2019-02-03T07:35:44.369351Z"
    }
   },
   "outputs": [
    {
     "name": "stdout",
     "output_type": "stream",
     "text": [
      "[[ 1  2  3]\n",
      " [ 4  5  6]\n",
      " [ 7  8  9]\n",
      " [10 11 12]]\n"
     ]
    }
   ],
   "source": [
    "# Create a new array from which we will select elements\n",
    "a = np.array([[1,2,3], [4,5,6], [7,8,9], [10, 11, 12]])\n",
    "print(a)"
   ]
  },
  {
   "cell_type": "code",
   "execution_count": 265,
   "metadata": {
    "ExecuteTime": {
     "end_time": "2019-02-03T07:35:46.130786Z",
     "start_time": "2019-02-03T07:35:46.125552Z"
    }
   },
   "outputs": [
    {
     "name": "stdout",
     "output_type": "stream",
     "text": [
      "[ 1  6  7 11]\n"
     ]
    }
   ],
   "source": [
    "# Create an array of indices\n",
    "b = np.array([0, 2, 0, 1])\n",
    "\n",
    "# Select one element from each row of a using the indices in b\n",
    "print(a[np.arange(4), b])  # Prints \"[ 1  6  7 11]\""
   ]
  },
  {
   "cell_type": "code",
   "execution_count": 266,
   "metadata": {
    "ExecuteTime": {
     "end_time": "2019-02-03T07:35:50.989951Z",
     "start_time": "2019-02-03T07:35:50.985798Z"
    }
   },
   "outputs": [
    {
     "name": "stdout",
     "output_type": "stream",
     "text": [
      "[[11  2  3]\n",
      " [ 4  5 16]\n",
      " [17  8  9]\n",
      " [10 21 12]]\n"
     ]
    }
   ],
   "source": [
    "# Mutate one element from each row of a using the indices in b\n",
    "a[np.arange(4), b] += 10\n",
    "print(a)"
   ]
  },
  {
   "cell_type": "markdown",
   "metadata": {},
   "source": [
    "Boolean array indexing: Boolean array indexing lets you pick out arbitrary elements of an array. Frequently this type of indexing is used to select the elements of an array that satisfy some condition. Here is an example:"
   ]
  },
  {
   "cell_type": "code",
   "execution_count": 275,
   "metadata": {
    "ExecuteTime": {
     "end_time": "2019-02-03T07:37:26.858130Z",
     "start_time": "2019-02-03T07:37:26.853197Z"
    }
   },
   "outputs": [
    {
     "name": "stdout",
     "output_type": "stream",
     "text": [
      "Original 2D Array: \n",
      " [[1 2]\n",
      " [3 4]\n",
      " [5 6]]\n",
      "Corresponding 2D Boolean Array: \n",
      " [[False False]\n",
      " [ True  True]\n",
      " [ True  True]]\n"
     ]
    }
   ],
   "source": [
    "a = np.array([[1,2], [3, 4], [5, 6]])\n",
    "\n",
    "bool_idx = (a > 2)  # Find the elements of a that are bigger than 2;\n",
    "                    # this returns a numpy array of Booleans of the same\n",
    "                    # shape as a, where each slot of bool_idx tells\n",
    "                    # whether that element of a is > 2.\n",
    "print(\"Original 2D Array: \\n\",a)\n",
    "print(\"Corresponding 2D Boolean Array: \\n\",bool_idx)"
   ]
  },
  {
   "cell_type": "code",
   "execution_count": 276,
   "metadata": {
    "ExecuteTime": {
     "end_time": "2019-02-03T07:37:35.900948Z",
     "start_time": "2019-02-03T07:37:35.897121Z"
    }
   },
   "outputs": [
    {
     "name": "stdout",
     "output_type": "stream",
     "text": [
      "[3 4 5 6]\n",
      "[3 4 5 6]\n"
     ]
    }
   ],
   "source": [
    "# We use boolean array indexing to construct a rank 1 array\n",
    "# consisting of the elements of a corresponding to the True values\n",
    "# of bool_idx\n",
    "print(a[bool_idx])\n",
    "\n",
    "# We can do all of the above in a single concise statement:\n",
    "print(a[a > 2])"
   ]
  },
  {
   "cell_type": "markdown",
   "metadata": {},
   "source": [
    "For brevity we have left out a lot of details about numpy array indexing; if you want to know more you should read the documentation."
   ]
  },
  {
   "cell_type": "markdown",
   "metadata": {},
   "source": [
    "### Datatypes"
   ]
  },
  {
   "cell_type": "markdown",
   "metadata": {},
   "source": [
    "Every numpy array is a grid of elements of the same type. Numpy provides a large set of numeric datatypes that you can use to construct arrays. Numpy tries to guess a datatype when you create an array, but functions that construct arrays usually also include an optional argument to explicitly specify the datatype. Here is an example:"
   ]
  },
  {
   "cell_type": "code",
   "execution_count": 277,
   "metadata": {
    "ExecuteTime": {
     "end_time": "2019-02-03T07:37:54.642427Z",
     "start_time": "2019-02-03T07:37:54.637789Z"
    }
   },
   "outputs": [
    {
     "name": "stdout",
     "output_type": "stream",
     "text": [
      "int64 float64 int64\n"
     ]
    }
   ],
   "source": [
    "x = np.array([1, 2])  # Let numpy choose the datatype\n",
    "y = np.array([1.0, 2.0])  # Let numpy choose the datatype\n",
    "z = np.array([1, 2], dtype=np.int64)  # Force a particular datatype\n",
    "\n",
    "print(x.dtype, y.dtype, z.dtype)"
   ]
  },
  {
   "cell_type": "markdown",
   "metadata": {},
   "source": [
    "You can read all about numpy datatypes in the [documentation](http://docs.scipy.org/doc/numpy/reference/arrays.dtypes.html)."
   ]
  },
  {
   "cell_type": "markdown",
   "metadata": {},
   "source": [
    "### Array math"
   ]
  },
  {
   "cell_type": "markdown",
   "metadata": {},
   "source": [
    "Basic mathematical functions operate elementwise on arrays, and are available both as operator overloads and as functions in the numpy module:"
   ]
  },
  {
   "cell_type": "code",
   "execution_count": 278,
   "metadata": {
    "ExecuteTime": {
     "end_time": "2019-02-03T07:37:59.918106Z",
     "start_time": "2019-02-03T07:37:59.913460Z"
    }
   },
   "outputs": [
    {
     "name": "stdout",
     "output_type": "stream",
     "text": [
      "[[ 6.  8.]\n",
      " [10. 12.]]\n",
      "[[ 6.  8.]\n",
      " [10. 12.]]\n"
     ]
    }
   ],
   "source": [
    "x = np.array([[1,2],[3,4]], dtype=np.float64)\n",
    "y = np.array([[5,6],[7,8]], dtype=np.float64)\n",
    "\n",
    "# Elementwise sum; both produce the array\n",
    "print(x + y)\n",
    "print(np.add(x, y))"
   ]
  },
  {
   "cell_type": "code",
   "execution_count": 279,
   "metadata": {
    "ExecuteTime": {
     "end_time": "2019-02-03T07:38:02.139297Z",
     "start_time": "2019-02-03T07:38:02.132538Z"
    }
   },
   "outputs": [
    {
     "name": "stdout",
     "output_type": "stream",
     "text": [
      "[[-4. -4.]\n",
      " [-4. -4.]]\n",
      "[[-4. -4.]\n",
      " [-4. -4.]]\n"
     ]
    }
   ],
   "source": [
    "# Elementwise difference; both produce the array\n",
    "print(x - y)\n",
    "print(np.subtract(x, y))"
   ]
  },
  {
   "cell_type": "code",
   "execution_count": 280,
   "metadata": {
    "ExecuteTime": {
     "end_time": "2019-02-03T07:38:04.142333Z",
     "start_time": "2019-02-03T07:38:04.134360Z"
    }
   },
   "outputs": [
    {
     "name": "stdout",
     "output_type": "stream",
     "text": [
      "[[ 5. 12.]\n",
      " [21. 32.]]\n",
      "[[ 5. 12.]\n",
      " [21. 32.]]\n"
     ]
    }
   ],
   "source": [
    "# Elementwise product; both produce the array\n",
    "print(x * y)\n",
    "print(np.multiply(x, y))"
   ]
  },
  {
   "cell_type": "code",
   "execution_count": 281,
   "metadata": {
    "ExecuteTime": {
     "end_time": "2019-02-03T07:38:07.509006Z",
     "start_time": "2019-02-03T07:38:07.505023Z"
    }
   },
   "outputs": [
    {
     "name": "stdout",
     "output_type": "stream",
     "text": [
      "[[0.2        0.33333333]\n",
      " [0.42857143 0.5       ]]\n",
      "[[0.2        0.33333333]\n",
      " [0.42857143 0.5       ]]\n"
     ]
    }
   ],
   "source": [
    "# Elementwise division; both produce the array\n",
    "# [[ 0.2         0.33333333]\n",
    "#  [ 0.42857143  0.5       ]]\n",
    "print(x / y)\n",
    "print(np.divide(x, y))"
   ]
  },
  {
   "cell_type": "code",
   "execution_count": 282,
   "metadata": {
    "ExecuteTime": {
     "end_time": "2019-02-03T07:38:10.322250Z",
     "start_time": "2019-02-03T07:38:10.318617Z"
    }
   },
   "outputs": [
    {
     "name": "stdout",
     "output_type": "stream",
     "text": [
      "[[1.         1.41421356]\n",
      " [1.73205081 2.        ]]\n"
     ]
    }
   ],
   "source": [
    "# Elementwise square root; produces the array\n",
    "# [[ 1.          1.41421356]\n",
    "#  [ 1.73205081  2.        ]]\n",
    "print(np.sqrt(x))"
   ]
  },
  {
   "cell_type": "markdown",
   "metadata": {},
   "source": [
    "Note that unlike MATLAB, `*` is elementwise multiplication, not matrix multiplication. We instead use the dot function to compute inner products of vectors, to multiply a vector by a matrix, and to multiply matrices. dot is available both as a function in the numpy module and as an instance method of array objects:"
   ]
  },
  {
   "cell_type": "code",
   "execution_count": 283,
   "metadata": {
    "ExecuteTime": {
     "end_time": "2019-02-03T07:38:18.726281Z",
     "start_time": "2019-02-03T07:38:18.721175Z"
    }
   },
   "outputs": [
    {
     "name": "stdout",
     "output_type": "stream",
     "text": [
      "219\n",
      "219\n"
     ]
    }
   ],
   "source": [
    "x = np.array([[1,2],[3,4]])\n",
    "y = np.array([[5,6],[7,8]])\n",
    "\n",
    "v = np.array([9,10])\n",
    "w = np.array([11, 12])\n",
    "\n",
    "# Inner product of vectors; both produce 219\n",
    "print(v.dot(w))\n",
    "print(np.dot(v, w))"
   ]
  },
  {
   "cell_type": "code",
   "execution_count": 284,
   "metadata": {
    "ExecuteTime": {
     "end_time": "2019-02-03T07:38:20.634435Z",
     "start_time": "2019-02-03T07:38:20.629565Z"
    }
   },
   "outputs": [
    {
     "name": "stdout",
     "output_type": "stream",
     "text": [
      "[29 67]\n",
      "[29 67]\n"
     ]
    }
   ],
   "source": [
    "# Matrix / vector product; both produce the rank 1 array [29 67]\n",
    "print(x.dot(v))\n",
    "print(np.dot(x, v))"
   ]
  },
  {
   "cell_type": "code",
   "execution_count": 285,
   "metadata": {
    "ExecuteTime": {
     "end_time": "2019-02-03T07:41:14.366795Z",
     "start_time": "2019-02-03T07:41:14.360932Z"
    }
   },
   "outputs": [
    {
     "name": "stdout",
     "output_type": "stream",
     "text": [
      "[[19 22]\n",
      " [43 50]]\n",
      "[[19 22]\n",
      " [43 50]]\n"
     ]
    }
   ],
   "source": [
    "# Matrix / matrix product; both produce the rank 2 array\n",
    "# [[19 22]\n",
    "#  [43 50]]\n",
    "print(x.dot(y))\n",
    "print(np.dot(x, y))"
   ]
  },
  {
   "cell_type": "markdown",
   "metadata": {},
   "source": [
    "Numpy provides many useful functions for performing computations on arrays; one of the most useful is `sum`:"
   ]
  },
  {
   "cell_type": "code",
   "execution_count": 287,
   "metadata": {
    "ExecuteTime": {
     "end_time": "2019-02-03T07:42:15.902901Z",
     "start_time": "2019-02-03T07:42:15.897499Z"
    }
   },
   "outputs": [
    {
     "name": "stdout",
     "output_type": "stream",
     "text": [
      "10\n",
      "[4 6]\n",
      "[3 7]\n"
     ]
    }
   ],
   "source": [
    "x = np.array([[1,2],[3,4]])\n",
    "\n",
    "print(np.sum(x))  # Compute sum of all elements; prints \"10\"\n",
    "print(np.sum(x, axis=0))  # Compute sum of each column; prints \"[4 6]\"\n",
    "print(np.sum(x, axis=1))  # Compute sum of each row; prints \"[3 7]\""
   ]
  },
  {
   "cell_type": "markdown",
   "metadata": {},
   "source": [
    "You can find the full list of mathematical functions provided by numpy in the [documentation](http://docs.scipy.org/doc/numpy/reference/routines.math.html).\n",
    "\n",
    "Apart from computing mathematical functions using arrays, we frequently need to reshape or otherwise manipulate data in arrays. The simplest example of this type of operation is transposing a matrix; to transpose a matrix, simply use the T attribute of an array object:"
   ]
  },
  {
   "cell_type": "code",
   "execution_count": 288,
   "metadata": {
    "ExecuteTime": {
     "end_time": "2019-02-03T07:42:28.964331Z",
     "start_time": "2019-02-03T07:42:28.960686Z"
    }
   },
   "outputs": [
    {
     "name": "stdout",
     "output_type": "stream",
     "text": [
      "[[1 2]\n",
      " [3 4]]\n",
      "[[1 3]\n",
      " [2 4]]\n"
     ]
    }
   ],
   "source": [
    "print(x)\n",
    "print(x.T)"
   ]
  },
  {
   "cell_type": "code",
   "execution_count": 289,
   "metadata": {
    "ExecuteTime": {
     "end_time": "2019-02-03T07:42:30.750408Z",
     "start_time": "2019-02-03T07:42:30.745382Z"
    }
   },
   "outputs": [
    {
     "name": "stdout",
     "output_type": "stream",
     "text": [
      "[[1 2 3]]\n",
      "[[1]\n",
      " [2]\n",
      " [3]]\n"
     ]
    }
   ],
   "source": [
    "v = np.array([[1,2,3]])\n",
    "print(v) \n",
    "print(v.T)"
   ]
  },
  {
   "cell_type": "markdown",
   "metadata": {},
   "source": [
    "### Broadcasting"
   ]
  },
  {
   "cell_type": "markdown",
   "metadata": {},
   "source": [
    "Broadcasting is a powerful mechanism that allows numpy to work with arrays of different shapes when performing arithmetic operations. Frequently we have a smaller array and a larger array, and we want to use the smaller array multiple times to perform some operation on the larger array.\n",
    "\n",
    "For example, suppose that we want to add a constant vector to each row of a matrix. We could do it like this:"
   ]
  },
  {
   "cell_type": "code",
   "execution_count": 290,
   "metadata": {
    "ExecuteTime": {
     "end_time": "2019-02-03T07:43:09.399748Z",
     "start_time": "2019-02-03T07:43:09.394938Z"
    }
   },
   "outputs": [
    {
     "name": "stdout",
     "output_type": "stream",
     "text": [
      "[[ 2  2  4]\n",
      " [ 5  5  7]\n",
      " [ 8  8 10]\n",
      " [11 11 13]]\n"
     ]
    }
   ],
   "source": [
    "# We will add the vector v to each row of the matrix x,\n",
    "# storing the result in the matrix y\n",
    "x = np.array([[1,2,3], [4,5,6], [7,8,9], [10, 11, 12]])\n",
    "v = np.array([1, 0, 1])\n",
    "y = np.empty_like(x)   # Create an empty matrix with the same shape as x\n",
    "\n",
    "\n",
    "# Add the vector v to each row of the matrix x with an explicit loop\n",
    "for i in range(4):\n",
    "    y[i, :] = x[i, :] + v\n",
    "\n",
    "print(y)"
   ]
  },
  {
   "cell_type": "markdown",
   "metadata": {},
   "source": [
    "This works; however when the matrix `x` is very large, computing an explicit loop in Python could be slow. Note that adding the vector v to each row of the matrix `x` is equivalent to forming a matrix `vv` by stacking multiple copies of `v` vertically, then performing elementwise summation of `x` and `vv`. We could implement this approach like this:"
   ]
  },
  {
   "cell_type": "code",
   "execution_count": 127,
   "metadata": {
    "ExecuteTime": {
     "end_time": "2019-02-03T06:43:28.663753Z",
     "start_time": "2019-02-03T06:43:28.656294Z"
    }
   },
   "outputs": [
    {
     "name": "stdout",
     "output_type": "stream",
     "text": [
      "[[1 0 1]\n",
      " [1 0 1]\n",
      " [1 0 1]\n",
      " [1 0 1]]\n"
     ]
    }
   ],
   "source": [
    "vv = np.tile(v, (4, 1))  # Stack 4 copies of v on top of each other\n",
    "print(vv)                 # Prints \"[[1 0 1]\n",
    "                         #          [1 0 1]\n",
    "                         #          [1 0 1]\n",
    "                         #          [1 0 1]]\""
   ]
  },
  {
   "cell_type": "code",
   "execution_count": 128,
   "metadata": {
    "ExecuteTime": {
     "end_time": "2019-02-03T06:43:28.672008Z",
     "start_time": "2019-02-03T06:43:28.666283Z"
    }
   },
   "outputs": [
    {
     "name": "stdout",
     "output_type": "stream",
     "text": [
      "[[ 2  2  4]\n",
      " [ 5  5  7]\n",
      " [ 8  8 10]\n",
      " [11 11 13]]\n"
     ]
    }
   ],
   "source": [
    "y = x + vv  # Add x and vv elementwise\n",
    "print(y)"
   ]
  },
  {
   "cell_type": "markdown",
   "metadata": {},
   "source": [
    "Numpy broadcasting allows us to perform this computation without actually creating multiple copies of v. Consider this version, using broadcasting:"
   ]
  },
  {
   "cell_type": "code",
   "execution_count": 291,
   "metadata": {
    "ExecuteTime": {
     "end_time": "2019-02-03T07:43:56.645352Z",
     "start_time": "2019-02-03T07:43:56.641152Z"
    }
   },
   "outputs": [
    {
     "name": "stdout",
     "output_type": "stream",
     "text": [
      "[[ 2  2  4]\n",
      " [ 5  5  7]\n",
      " [ 8  8 10]\n",
      " [11 11 13]]\n"
     ]
    }
   ],
   "source": [
    "# We will add the vector v to each row of the matrix x,\n",
    "# storing the result in the matrix y\n",
    "x = np.array([[1,2,3], [4,5,6], [7,8,9], [10, 11, 12]])\n",
    "v = np.array([1, 0, 1])\n",
    "y = x + v  # Add v to each row of x using broadcasting\n",
    "print(y)"
   ]
  },
  {
   "cell_type": "markdown",
   "metadata": {},
   "source": [
    "The line `y = x + v` works even though `x` has shape `(4, 3)` and `v` has shape `(3,)` due to broadcasting; this line works as if v actually had shape `(4, 3)`, where each row was a copy of `v`, and the sum was performed elementwise.\n",
    "\n",
    "Broadcasting two arrays together follows these rules:\n",
    "\n",
    "1. If the arrays do not have the same rank, prepend the shape of the lower rank array with 1s until both shapes have the same length.\n",
    "2. The two arrays are said to be compatible in a dimension if they have the same size in the dimension, or if one of the arrays has size 1 in that dimension.\n",
    "3. The arrays can be broadcast together if they are compatible in all dimensions.\n",
    "4. After broadcasting, each array behaves as if it had shape equal to the elementwise maximum of shapes of the two input arrays.\n",
    "5. In any dimension where one array had size 1 and the other array had size greater than 1, the first array behaves as if it were copied along that dimension\n",
    "\n",
    "If this explanation does not make sense, try reading the explanation from the [documentation](http://docs.scipy.org/doc/numpy/user/basics.broadcasting.html) or this [explanation](http://wiki.scipy.org/EricsBroadcastingDoc).\n",
    "\n",
    "Functions that support broadcasting are known as universal functions. You can find the list of all universal functions in the [documentation](http://docs.scipy.org/doc/numpy/reference/ufuncs.html#available-ufuncs).\n",
    "\n",
    "Here are some applications of broadcasting:"
   ]
  },
  {
   "cell_type": "code",
   "execution_count": 294,
   "metadata": {
    "ExecuteTime": {
     "end_time": "2019-02-03T07:49:10.551258Z",
     "start_time": "2019-02-03T07:49:10.548096Z"
    }
   },
   "outputs": [],
   "source": [
    "M = np.ones((4, 3))\n",
    "a = np.arange(3)"
   ]
  },
  {
   "cell_type": "markdown",
   "metadata": {},
   "source": [
    "Let's consider the shape of these arrays:\n",
    "* M.shape = (4,3)\n",
    "* a.shape = (3,)\n",
    "\n",
    "By rule 1, prepend the rank of a by 1. The new shapes thus are:\n",
    "* M.shape = (4,3)\n",
    "* a.shape = (1,3)\n",
    "\n",
    "Now by rule 5, copy the dimensions to make the arrays compatible\n",
    "* M.shape = (4,3)\n",
    "* a.shape = (4,3)\n"
   ]
  },
  {
   "cell_type": "code",
   "execution_count": 296,
   "metadata": {
    "ExecuteTime": {
     "end_time": "2019-02-03T07:49:24.937796Z",
     "start_time": "2019-02-03T07:49:24.932878Z"
    }
   },
   "outputs": [
    {
     "data": {
      "text/plain": [
       "array([[1., 2., 3.],\n",
       "       [1., 2., 3.],\n",
       "       [1., 2., 3.],\n",
       "       [1., 2., 3.]])"
      ]
     },
     "execution_count": 296,
     "metadata": {},
     "output_type": "execute_result"
    }
   ],
   "source": [
    "M+a"
   ]
  },
  {
   "cell_type": "code",
   "execution_count": 309,
   "metadata": {
    "ExecuteTime": {
     "end_time": "2019-02-03T07:51:40.459702Z",
     "start_time": "2019-02-03T07:51:40.456182Z"
    }
   },
   "outputs": [],
   "source": [
    "M = np.ones((4, 3))\n",
    "a = np.arange(3)\n",
    "a = a.reshape((3,1))"
   ]
  },
  {
   "cell_type": "code",
   "execution_count": 310,
   "metadata": {
    "ExecuteTime": {
     "end_time": "2019-02-03T07:51:42.273597Z",
     "start_time": "2019-02-03T07:51:42.262547Z"
    }
   },
   "outputs": [
    {
     "ename": "ValueError",
     "evalue": "operands could not be broadcast together with shapes (4,3) (3,1) ",
     "output_type": "error",
     "traceback": [
      "\u001b[0;31m---------------------------------------------------------------------------\u001b[0m",
      "\u001b[0;31mValueError\u001b[0m                                Traceback (most recent call last)",
      "\u001b[0;32m<ipython-input-310-2267d2681641>\u001b[0m in \u001b[0;36m<module>\u001b[0;34m()\u001b[0m\n\u001b[0;32m----> 1\u001b[0;31m \u001b[0mM\u001b[0m\u001b[0;34m+\u001b[0m\u001b[0ma\u001b[0m\u001b[0;34m\u001b[0m\u001b[0m\n\u001b[0m",
      "\u001b[0;31mValueError\u001b[0m: operands could not be broadcast together with shapes (4,3) (3,1) "
     ]
    }
   ],
   "source": [
    "M+a"
   ]
  },
  {
   "cell_type": "code",
   "execution_count": 311,
   "metadata": {
    "ExecuteTime": {
     "end_time": "2019-02-03T07:51:44.287396Z",
     "start_time": "2019-02-03T07:51:44.282730Z"
    }
   },
   "outputs": [
    {
     "name": "stdout",
     "output_type": "stream",
     "text": [
      "[[ 4  5]\n",
      " [ 8 10]\n",
      " [12 15]]\n"
     ]
    }
   ],
   "source": [
    "# Compute outer product of vectors\n",
    "v = np.array([1,2,3])  # v has shape (3,)\n",
    "w = np.array([4,5])    # w has shape (2,)\n",
    "# To compute an outer product, we first reshape v to be a column\n",
    "# vector of shape (3, 1); we can then broadcast it against w to yield\n",
    "# an output of shape (3, 2), which is the outer product of v and w:\n",
    "\n",
    "print(np.reshape(v, (3, 1)) * w)"
   ]
  },
  {
   "cell_type": "code",
   "execution_count": 312,
   "metadata": {
    "ExecuteTime": {
     "end_time": "2019-02-03T07:51:53.785007Z",
     "start_time": "2019-02-03T07:51:53.781183Z"
    }
   },
   "outputs": [
    {
     "name": "stdout",
     "output_type": "stream",
     "text": [
      "[[2 4 6]\n",
      " [5 7 9]]\n"
     ]
    }
   ],
   "source": [
    "# Add a vector to each row of a matrix\n",
    "x = np.array([[1,2,3], [4,5,6]])\n",
    "# x has shape (2, 3) and v has shape (3,) so they broadcast to (2, 3),\n",
    "# giving the following matrix:\n",
    "\n",
    "print(x + v)"
   ]
  },
  {
   "cell_type": "code",
   "execution_count": 314,
   "metadata": {
    "ExecuteTime": {
     "end_time": "2019-02-03T07:52:42.824839Z",
     "start_time": "2019-02-03T07:52:42.821409Z"
    }
   },
   "outputs": [
    {
     "name": "stdout",
     "output_type": "stream",
     "text": [
      "[[ 5  6  7]\n",
      " [ 9 10 11]]\n"
     ]
    }
   ],
   "source": [
    "# Add a vector to each column of a matrix\n",
    "# x has shape (2, 3) and w has shape (2,).\n",
    "# If we transpose x then it has shape (3, 2) and can be broadcast\n",
    "# against w to yield a result of shape (3, 2); transposing this result\n",
    "# yields the final result of shape (2, 3) which is the matrix x with\n",
    "# the vector w added to each column. Gives the following matrix:\n",
    "\n",
    "print((x.T + w).T)"
   ]
  },
  {
   "cell_type": "code",
   "execution_count": 315,
   "metadata": {
    "ExecuteTime": {
     "end_time": "2019-02-03T07:52:45.154444Z",
     "start_time": "2019-02-03T07:52:45.150887Z"
    }
   },
   "outputs": [
    {
     "name": "stdout",
     "output_type": "stream",
     "text": [
      "[[ 5  6  7]\n",
      " [ 9 10 11]]\n"
     ]
    }
   ],
   "source": [
    "# Another solution is to reshape w to be a row vector of shape (2, 1);\n",
    "# we can then broadcast it directly against x to produce the same\n",
    "# output.\n",
    "print(x + np.reshape(w, (2, 1)))"
   ]
  },
  {
   "cell_type": "code",
   "execution_count": 316,
   "metadata": {
    "ExecuteTime": {
     "end_time": "2019-02-03T07:52:51.101751Z",
     "start_time": "2019-02-03T07:52:51.097924Z"
    }
   },
   "outputs": [
    {
     "name": "stdout",
     "output_type": "stream",
     "text": [
      "[[ 2  4  6]\n",
      " [ 8 10 12]]\n"
     ]
    }
   ],
   "source": [
    "# Multiply a matrix by a constant:\n",
    "# x has shape (2, 3). Numpy treats scalars as arrays of shape ();\n",
    "# these can be broadcast together to shape (2, 3), producing the\n",
    "# following array:\n",
    "print(x * 2)"
   ]
  },
  {
   "cell_type": "markdown",
   "metadata": {},
   "source": [
    "Broadcasting typically makes your code more concise and faster, so you should strive to use it where possible."
   ]
  },
  {
   "cell_type": "markdown",
   "metadata": {},
   "source": [
    "This brief overview has touched on many of the important things that you need to know about numpy, but is far from complete. Check out the [numpy reference](http://docs.scipy.org/doc/numpy/reference/) to find out much more about numpy."
   ]
  },
  {
   "cell_type": "markdown",
   "metadata": {},
   "source": [
    "## An example"
   ]
  },
  {
   "cell_type": "markdown",
   "metadata": {},
   "source": [
    "### Finding Nearest Neighbours"
   ]
  },
  {
   "cell_type": "code",
   "execution_count": 317,
   "metadata": {
    "ExecuteTime": {
     "end_time": "2019-02-03T07:52:55.414699Z",
     "start_time": "2019-02-03T07:52:55.411078Z"
    }
   },
   "outputs": [
    {
     "name": "stdout",
     "output_type": "stream",
     "text": [
      "(4, 3)\n"
     ]
    }
   ],
   "source": [
    "x= np.float64(np.random.randint(0, 5,(4,3) ))\n",
    "print(x.shape)"
   ]
  },
  {
   "cell_type": "markdown",
   "metadata": {},
   "source": [
    "* Without broadcasting, we can write is using loops"
   ]
  },
  {
   "cell_type": "code",
   "execution_count": 318,
   "metadata": {
    "ExecuteTime": {
     "end_time": "2019-02-03T07:53:02.119045Z",
     "start_time": "2019-02-03T07:53:02.112730Z"
    }
   },
   "outputs": [
    {
     "data": {
      "text/plain": [
       "array([[3., 2., 1.],\n",
       "       [4., 0., 4.],\n",
       "       [1., 3., 3.],\n",
       "       [1., 3., 0.]])"
      ]
     },
     "execution_count": 318,
     "metadata": {},
     "output_type": "execute_result"
    }
   ],
   "source": [
    "x"
   ]
  },
  {
   "cell_type": "code",
   "execution_count": 319,
   "metadata": {
    "ExecuteTime": {
     "end_time": "2019-02-03T07:53:59.203112Z",
     "start_time": "2019-02-03T07:53:59.197150Z"
    }
   },
   "outputs": [
    {
     "name": "stdout",
     "output_type": "stream",
     "text": [
      "[3, 0, 0, 0]\n"
     ]
    }
   ],
   "source": [
    "minDistances = []\n",
    "        \n",
    "def distance(x,y):\n",
    "    dist = 0\n",
    "    for i in range(len(x)):\n",
    "        dist += (x[i]-y[i])**2\n",
    "    return dist\n",
    "\n",
    "for i in range(len(x)):\n",
    "    minDist = np.inf\n",
    "    minIndex = 0\n",
    "    for j in range(len(x)):\n",
    "        if(i==j):\n",
    "            continue\n",
    "        if(minDist>distance(x[i],x[j])):\n",
    "            minDist = distance(x[i],x[j])\n",
    "            minIndex = j\n",
    "    minDistances.append(minIndex)\n",
    "        \n",
    "print(minDistances)  "
   ]
  },
  {
   "cell_type": "code",
   "execution_count": 320,
   "metadata": {
    "ExecuteTime": {
     "end_time": "2019-02-03T07:54:16.495571Z",
     "start_time": "2019-02-03T07:54:16.490230Z"
    }
   },
   "outputs": [
    {
     "data": {
      "text/plain": [
       "array([[[3., 2., 1.]],\n",
       "\n",
       "       [[4., 0., 4.]],\n",
       "\n",
       "       [[1., 3., 3.]],\n",
       "\n",
       "       [[1., 3., 0.]]])"
      ]
     },
     "execution_count": 320,
     "metadata": {},
     "output_type": "execute_result"
    }
   ],
   "source": [
    "x.reshape(4,1,3)"
   ]
  },
  {
   "cell_type": "code",
   "execution_count": 321,
   "metadata": {
    "ExecuteTime": {
     "end_time": "2019-02-03T07:54:33.909522Z",
     "start_time": "2019-02-03T07:54:33.906521Z"
    }
   },
   "outputs": [],
   "source": [
    "difference = x.reshape(4,1,3) - x"
   ]
  },
  {
   "cell_type": "markdown",
   "metadata": {},
   "source": [
    "Let's just analyse what happened.\n",
    "\n",
    "    *x.reshape(4,1,3) has the shape (4,1,3)\n",
    "    *              x has the shape (4,3)\n",
    "               \n",
    "Rule 1 says to prepend rank of x by 1\n",
    "So,\n",
    "    * x.reshape(4,1,3).shape  = (4,1,3)\n",
    "    * x.shape = (1,4,3)\n",
    "    \n",
    "Now using rule 5, shapes become:\n",
    "    \n",
    "    * x.reshape(4,1,3).shape  = (4,4,3)\n",
    "    * x.shape = (4,4,3)\n",
    "    \n"
   ]
  },
  {
   "cell_type": "code",
   "execution_count": 322,
   "metadata": {
    "ExecuteTime": {
     "end_time": "2019-02-03T07:56:39.410266Z",
     "start_time": "2019-02-03T07:56:39.403705Z"
    }
   },
   "outputs": [
    {
     "data": {
      "text/plain": [
       "array([[[ 0.,  0.,  0.],\n",
       "        [-1.,  2., -3.],\n",
       "        [ 2., -1., -2.],\n",
       "        [ 2., -1.,  1.]],\n",
       "\n",
       "       [[ 1., -2.,  3.],\n",
       "        [ 0.,  0.,  0.],\n",
       "        [ 3., -3.,  1.],\n",
       "        [ 3., -3.,  4.]],\n",
       "\n",
       "       [[-2.,  1.,  2.],\n",
       "        [-3.,  3., -1.],\n",
       "        [ 0.,  0.,  0.],\n",
       "        [ 0.,  0.,  3.]],\n",
       "\n",
       "       [[-2.,  1., -1.],\n",
       "        [-3.,  3., -4.],\n",
       "        [ 0.,  0., -3.],\n",
       "        [ 0.,  0.,  0.]]])"
      ]
     },
     "execution_count": 322,
     "metadata": {},
     "output_type": "execute_result"
    }
   ],
   "source": [
    "difference"
   ]
  },
  {
   "cell_type": "code",
   "execution_count": 325,
   "metadata": {
    "ExecuteTime": {
     "end_time": "2019-02-03T07:58:46.745341Z",
     "start_time": "2019-02-03T07:58:46.739155Z"
    }
   },
   "outputs": [
    {
     "data": {
      "text/plain": [
       "(4, 4)"
      ]
     },
     "execution_count": 325,
     "metadata": {},
     "output_type": "execute_result"
    }
   ],
   "source": [
    "D = np.sum(np.square(difference), axis=2)\n",
    "D.shape"
   ]
  },
  {
   "cell_type": "code",
   "execution_count": 326,
   "metadata": {
    "ExecuteTime": {
     "end_time": "2019-02-03T07:58:48.542012Z",
     "start_time": "2019-02-03T07:58:48.536217Z"
    }
   },
   "outputs": [
    {
     "data": {
      "text/plain": [
       "array([[ 0., 14.,  9.,  6.],\n",
       "       [14.,  0., 19., 34.],\n",
       "       [ 9., 19.,  0.,  9.],\n",
       "       [ 6., 34.,  9.,  0.]])"
      ]
     },
     "execution_count": 326,
     "metadata": {},
     "output_type": "execute_result"
    }
   ],
   "source": [
    "D"
   ]
  },
  {
   "cell_type": "code",
   "execution_count": 328,
   "metadata": {
    "ExecuteTime": {
     "end_time": "2019-02-03T07:59:16.877801Z",
     "start_time": "2019-02-03T07:59:16.872154Z"
    }
   },
   "outputs": [
    {
     "data": {
      "text/plain": [
       "array([[inf, 14.,  9.,  6.],\n",
       "       [14., inf, 19., 34.],\n",
       "       [ 9., 19., inf,  9.],\n",
       "       [ 6., 34.,  9., inf]])"
      ]
     },
     "execution_count": 328,
     "metadata": {},
     "output_type": "execute_result"
    }
   ],
   "source": [
    "i= np.arange(4)\n",
    "D[i,i] = np.inf\n",
    "D"
   ]
  },
  {
   "cell_type": "code",
   "execution_count": 329,
   "metadata": {
    "ExecuteTime": {
     "end_time": "2019-02-03T07:59:18.637212Z",
     "start_time": "2019-02-03T07:59:18.629529Z"
    }
   },
   "outputs": [
    {
     "data": {
      "text/plain": [
       "(array([3, 0, 0, 0]), (4,))"
      ]
     },
     "execution_count": 329,
     "metadata": {},
     "output_type": "execute_result"
    }
   ],
   "source": [
    "j = np.argmin(D,1)\n",
    "j[:], j.shape"
   ]
  },
  {
   "cell_type": "markdown",
   "metadata": {},
   "source": [
    "#### Bigger Example\n"
   ]
  },
  {
   "cell_type": "code",
   "execution_count": 330,
   "metadata": {
    "ExecuteTime": {
     "end_time": "2019-02-03T07:59:26.551133Z",
     "start_time": "2019-02-03T07:59:26.476719Z"
    }
   },
   "outputs": [
    {
     "data": {
      "text/plain": [
       "(array([836, 112, 706, 786, 279, 672,  51, 210, 581, 553]), (1000,))"
      ]
     },
     "execution_count": 330,
     "metadata": {},
     "output_type": "execute_result"
    }
   ],
   "source": [
    "x= np.float64(np.random.randint(0, 100,(1000,3) ))\n",
    "diff = x.reshape(1000,1,3) - x\n",
    "D = np.sum(np.square(diff), axis=2)\n",
    "i= np.arange(1000)\n",
    "D[i,i] = np.inf\n",
    "j = np.argmin(D,1)\n",
    "j[:10], j.shape"
   ]
  },
  {
   "cell_type": "code",
   "execution_count": 333,
   "metadata": {
    "ExecuteTime": {
     "end_time": "2019-02-03T07:59:54.258086Z",
     "start_time": "2019-02-03T07:59:50.438399Z"
    }
   },
   "outputs": [
    {
     "name": "stdout",
     "output_type": "stream",
     "text": [
      "[836, 112, 706, 786, 279, 672, 51, 210, 581, 553]\n"
     ]
    }
   ],
   "source": [
    "minDistances = []\n",
    "        \n",
    "def distance(x,y):\n",
    "    dist = 0\n",
    "    for i in range(len(x)):\n",
    "        dist += (x[i]-y[i])**2\n",
    "    return dist\n",
    "\n",
    "for i in range(len(x)):\n",
    "    minDist = np.inf\n",
    "    minIndex = 0\n",
    "    for j in range(len(x)):\n",
    "        if(i==j):\n",
    "            continue\n",
    "        if(minDist>distance(x[i],x[j])):\n",
    "            minDist = distance(x[i],x[j])\n",
    "            minIndex = j\n",
    "    minDistances.append(minIndex)\n",
    "        \n",
    "print(minDistances[0:10])  "
   ]
  },
  {
   "cell_type": "markdown",
   "metadata": {},
   "source": [
    "### Matplotlib"
   ]
  },
  {
   "cell_type": "code",
   "execution_count": 220,
   "metadata": {
    "ExecuteTime": {
     "end_time": "2019-02-03T07:20:39.678932Z",
     "start_time": "2019-02-03T07:20:39.662721Z"
    }
   },
   "outputs": [],
   "source": [
    "import matplotlib.pyplot as plt\n",
    "%matplotlib inline"
   ]
  },
  {
   "cell_type": "markdown",
   "metadata": {
    "ExecuteTime": {
     "end_time": "2019-02-03T06:54:05.171557Z",
     "start_time": "2019-02-03T06:54:05.163858Z"
    }
   },
   "source": [
    "Using Matplotlib inline, the plots will be embedded into the notebook as png files"
   ]
  },
  {
   "cell_type": "code",
   "execution_count": 196,
   "metadata": {
    "ExecuteTime": {
     "end_time": "2019-02-03T06:54:09.213175Z",
     "start_time": "2019-02-03T06:54:09.209824Z"
    }
   },
   "outputs": [],
   "source": [
    "x = np.linspace(0, 10, 100)"
   ]
  },
  {
   "cell_type": "code",
   "execution_count": 197,
   "metadata": {
    "ExecuteTime": {
     "end_time": "2019-02-03T06:54:11.385411Z",
     "start_time": "2019-02-03T06:54:11.185628Z"
    }
   },
   "outputs": [
    {
     "data": {
      "image/png": "[encoded data removed]",
      "text/plain": [
       "<Figure size 432x288 with 1 Axes>"
      ]
     },
     "metadata": {},
     "output_type": "display_data"
    }
   ],
   "source": [
    "# simple plot\n",
    "\n",
    "plt.plot(x, np.sin(x))\n",
    "plt.plot(x, np.cos(x));"
   ]
  },
  {
   "cell_type": "code",
   "execution_count": 198,
   "metadata": {
    "ExecuteTime": {
     "end_time": "2019-02-03T06:54:13.544962Z",
     "start_time": "2019-02-03T06:54:13.310741Z"
    }
   },
   "outputs": [
    {
     "data": {
      "image/png": "[encoded data removed]",
      "text/plain": [
       "<Figure size 432x288 with 1 Axes>"
      ]
     },
     "metadata": {},
     "output_type": "display_data"
    }
   ],
   "source": [
    "# dashes in the plot\n",
    "plt.plot(x, np.sin(x), '.')\n",
    "plt.plot(x, np.cos(x), '--');"
   ]
  },
  {
   "cell_type": "code",
   "execution_count": 201,
   "metadata": {
    "ExecuteTime": {
     "end_time": "2019-02-03T06:55:35.082702Z",
     "start_time": "2019-02-03T06:55:34.794130Z"
    }
   },
   "outputs": [
    {
     "data": {
      "image/png": "[encoded data removed]",
      "text/plain": [
       "<Figure size 432x288 with 1 Axes>"
      ]
     },
     "metadata": {},
     "output_type": "display_data"
    }
   ],
   "source": [
    "# save the plot\n",
    "\n",
    "fig = plt.figure()\n",
    "plt.plot(x, np.sin(x))\n",
    "plt.plot(x, np.cos(x), '--');\n",
    "\n",
    "fig.savefig('sample_plot.png')"
   ]
  },
  {
   "cell_type": "code",
   "execution_count": 202,
   "metadata": {
    "ExecuteTime": {
     "end_time": "2019-02-03T06:55:43.964199Z",
     "start_time": "2019-02-03T06:55:43.721883Z"
    }
   },
   "outputs": [
    {
     "data": {
      "image/png": "[encoded data removed]",
      "text/plain": [
       "<Figure size 432x288 with 2 Axes>"
      ]
     },
     "metadata": {},
     "output_type": "display_data"
    }
   ],
   "source": [
    "# create the first of two panels and set current axis\n",
    "plt.subplot(2,1,2) # (rows, columns, panel number)\n",
    "plt.plot(x, np.sin(x))\n",
    "\n",
    "# create the second panel and set current axis\n",
    "plt.subplot(211)\n",
    "plt.plot(x, np.cos(x));"
   ]
  },
  {
   "cell_type": "markdown",
   "metadata": {
    "ExecuteTime": {
     "end_time": "2019-02-03T06:55:10.831141Z",
     "start_time": "2019-02-03T06:55:10.826358Z"
    }
   },
   "source": [
    "What do these parameters mean?"
   ]
  },
  {
   "cell_type": "markdown",
   "metadata": {},
   "source": [
    "#### Two interfaces\n",
    "\n",
    "* Matplotlib offers two kinds of interfaces. One is a MATLAB-style interface, and other is an object oriented style interface\n",
    "\n",
    "https://jakevdp.github.io/PythonDataScienceHandbook/04.00-introduction-to-matplotlib.html"
   ]
  },
  {
   "cell_type": "markdown",
   "metadata": {},
   "source": [
    "### OOP-style Interface"
   ]
  },
  {
   "cell_type": "code",
   "execution_count": 207,
   "metadata": {
    "ExecuteTime": {
     "end_time": "2019-02-03T07:03:54.548528Z",
     "start_time": "2019-02-03T07:03:54.280391Z"
    }
   },
   "outputs": [
    {
     "data": {
      "text/plain": [
       "[<matplotlib.lines.Line2D at 0x11e724e48>]"
      ]
     },
     "execution_count": 207,
     "metadata": {},
     "output_type": "execute_result"
    },
    {
     "data": {
      "image/png": "[encoded data removed]",
      "text/plain": [
       "<Figure size 432x288 with 2 Axes>"
      ]
     },
     "metadata": {},
     "output_type": "display_data"
    }
   ],
   "source": [
    "# First create a grid of plots\n",
    "# ax will be an array of two Axes objects\n",
    "fig, ax = plt.subplots(2)\n",
    "\n",
    "# Call plot() method on the appropriate object\n",
    "ax[0].plot(x, np.sin(x))\n",
    "ax[1].plot(x, np.cos(x))"
   ]
  },
  {
   "cell_type": "markdown",
   "metadata": {},
   "source": [
    "We can now modify the objects as per our requirements"
   ]
  },
  {
   "cell_type": "code",
   "execution_count": 206,
   "metadata": {
    "ExecuteTime": {
     "end_time": "2019-02-03T07:03:35.646965Z",
     "start_time": "2019-02-03T07:03:35.400292Z"
    }
   },
   "outputs": [
    {
     "data": {
      "image/png": "[encoded data removed]",
      "text/plain": [
       "<Figure size 432x288 with 2 Axes>"
      ]
     },
     "execution_count": 206,
     "metadata": {},
     "output_type": "execute_result"
    }
   ],
   "source": [
    "ax[0].plot(x,np.tan(x))\n",
    "fig"
   ]
  },
  {
   "cell_type": "code",
   "execution_count": null,
   "metadata": {},
   "outputs": [],
   "source": []
  }
 ],
 "metadata": {
  "kernelspec": {
   "display_name": "Python 3",
   "language": "python",
   "name": "python3"
  },
  "language_info": {
   "codemirror_mode": {
    "name": "ipython",
    "version": 3
   },
   "file_extension": ".py",
   "mimetype": "text/x-python",
   "name": "python",
   "nbconvert_exporter": "python",
   "pygments_lexer": "ipython3",
   "version": "3.7.6"
  },
  "toc": {
   "base_numbering": 1,
   "nav_menu": {},
   "number_sections": true,
   "sideBar": true,
   "skip_h1_title": false,
   "title_cell": "Table of Contents",
   "title_sidebar": "Contents",
   "toc_cell": false,
   "toc_position": {},
   "toc_section_display": true,
   "toc_window_display": false
  },
  "varInspector": {
   "cols": {
    "lenName": 16,
    "lenType": 16,
    "lenVar": 40
   },
   "kernels_config": {
    "python": {
     "delete_cmd_postfix": "",
     "delete_cmd_prefix": "del ",
     "library": "var_list.py",
     "varRefreshCmd": "print(var_dic_list())"
    },
    "r": {
     "delete_cmd_postfix": ") ",
     "delete_cmd_prefix": "rm(",
     "library": "var_list.r",
     "varRefreshCmd": "cat(var_dic_list()) "
    }
   },
   "types_to_exclude": [
    "module",
    "function",
    "builtin_function_or_method",
    "instance",
    "_Feature"
   ],
   "window_display": false
  }
 },
 "nbformat": 4,
 "nbformat_minor": 2
}
