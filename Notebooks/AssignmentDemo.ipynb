{
 "cells": [
  {
   "cell_type": "markdown",
   "metadata": {
    "deletable": false,
    "editable": false,
    "nbgrader": {
     "checksum": "dea8d60539d92d330e4af84114aae995",
     "grade": false,
     "grade_id": "cell-b67952903cf772ec",
     "locked": true,
     "schema_version": 1,
     "solution": false
    }
   },
   "source": [
    "# A quick demo to course assignments\n",
    "\n",
    "You will be told a quick overview of the assignment in here. For this demo, we will be working on finding different statistics like mean, median, of a given data."
   ]
  },
  {
   "cell_type": "code",
   "execution_count": 1,
   "metadata": {
    "ExecuteTime": {
     "end_time": "2019-02-03T09:31:49.992804Z",
     "start_time": "2019-02-03T09:31:49.103693Z"
    },
    "deletable": false,
    "editable": false,
    "nbgrader": {
     "checksum": "75730dc549b5504e4151ed197350f489",
     "grade": false,
     "grade_id": "cell-1023d35bcb5bcafc",
     "locked": true,
     "schema_version": 1,
     "solution": false
    }
   },
   "outputs": [],
   "source": [
    "import numpy as np\n",
    "import pandas as pd\n",
    "from sklearn import datasets"
   ]
  },
  {
   "cell_type": "code",
   "execution_count": 2,
   "metadata": {
    "ExecuteTime": {
     "end_time": "2019-02-03T09:31:50.232487Z",
     "start_time": "2019-02-03T09:31:50.220634Z"
    },
    "deletable": false,
    "editable": false,
    "nbgrader": {
     "checksum": "eb892740e8422510bf7e294810b822dc",
     "grade": false,
     "grade_id": "cell-407e4f1201dbc095",
     "locked": true,
     "schema_version": 1,
     "solution": false
    }
   },
   "outputs": [],
   "source": [
    "boston_data = datasets.load_boston()"
   ]
  },
  {
   "cell_type": "code",
   "execution_count": 3,
   "metadata": {
    "ExecuteTime": {
     "end_time": "2019-02-03T09:31:51.360540Z",
     "start_time": "2019-02-03T09:31:51.355667Z"
    },
    "deletable": false,
    "editable": false,
    "nbgrader": {
     "checksum": "0bec2611ab2793c5945c8b55625481d1",
     "grade": false,
     "grade_id": "cell-628c9927b7e8126c",
     "locked": true,
     "schema_version": 1,
     "solution": false
    }
   },
   "outputs": [],
   "source": [
    "prices = boston_data.target"
   ]
  },
  {
   "cell_type": "markdown",
   "metadata": {
    "deletable": false,
    "editable": false,
    "nbgrader": {
     "checksum": "3a41f41a7560da1e3dc8e8c1da9c7a83",
     "grade": false,
     "grade_id": "cell-ce58be89598bd0d2",
     "locked": true,
     "schema_version": 1,
     "solution": false
    }
   },
   "source": [
    "## Task 1: Find mean of the housing prices (0.5 marks)"
   ]
  },
  {
   "cell_type": "code",
   "execution_count": 4,
   "metadata": {
    "ExecuteTime": {
     "end_time": "2019-02-03T09:33:00.703013Z",
     "start_time": "2019-02-03T09:33:00.699094Z"
    },
    "deletable": false,
    "nbgrader": {
     "checksum": "cae8b022986bbe380fe9153ca698a852",
     "grade": false,
     "grade_id": "cell-4764eae40f6b2927",
     "locked": false,
     "schema_version": 1,
     "solution": true
    }
   },
   "outputs": [],
   "source": [
    "def find_mean(X):\n",
    "    \n",
    "    mu = 0\n",
    "    # YOUR CODE HERE\n",
    "    mu = sum(X)/len(X)\n",
    "    \n",
    "    return mu"
   ]
  },
  {
   "cell_type": "code",
   "execution_count": 5,
   "metadata": {
    "ExecuteTime": {
     "end_time": "2019-02-03T09:33:11.810036Z",
     "start_time": "2019-02-03T09:33:11.804745Z"
    },
    "deletable": false,
    "editable": false,
    "nbgrader": {
     "checksum": "16fdf46ba5177400563dcd28160a21b7",
     "grade": false,
     "grade_id": "cell-d9a095e7f3771bf2",
     "locked": true,
     "schema_version": 1,
     "solution": false
    }
   },
   "outputs": [
    {
     "name": "stdout",
     "output_type": "stream",
     "text": [
      "Running Test Case 1\n",
      "Test Case 1 Passed\n",
      "Running Test Case 2\n",
      "Test Case 2 Passed\n"
     ]
    }
   ],
   "source": [
    "### SAMPLE TEST CASES\n",
    "print(\"Running Test Case 1\")\n",
    "assert find_mean(prices[:10]) == 26.4\n",
    "print(\"Test Case 1 Passed\")\n",
    "print(\"Running Test Case 2\")\n",
    "assert find_mean(prices[:100]) == 22.30900000000001\n",
    "print(\"Test Case 2 Passed\")"
   ]
  },
  {
   "cell_type": "code",
   "execution_count": null,
   "metadata": {
    "deletable": false,
    "editable": false,
    "nbgrader": {
     "checksum": "a1490ed116bfe28494eddb7d482cffdc",
     "grade": true,
     "grade_id": "cell-915f154d326b5266",
     "locked": true,
     "points": 0.5,
     "schema_version": 1,
     "solution": false
    }
   },
   "outputs": [],
   "source": [
    "                            \"\"\"Don't change code in this cell\"\"\"\n",
    "\n",
    "#Hidden Test cases\n"
   ]
  },
  {
   "cell_type": "markdown",
   "metadata": {
    "deletable": false,
    "editable": false,
    "nbgrader": {
     "checksum": "a31fc5c2752057e3a1611fda5af2fc13",
     "grade": false,
     "grade_id": "cell-e68c61bc659c9ea7",
     "locked": true,
     "schema_version": 1,
     "solution": false
    }
   },
   "source": [
    "## Task 2: Find median housing price (0.5 marks)"
   ]
  },
  {
   "cell_type": "code",
   "execution_count": null,
   "metadata": {
    "deletable": false,
    "nbgrader": {
     "checksum": "1457c7443e925d6ed4e5b8808ebf7ebd",
     "grade": false,
     "grade_id": "cell-7f110b37122351a4",
     "locked": false,
     "schema_version": 1,
     "solution": true
    }
   },
   "outputs": [],
   "source": [
    "def find_median(X):\n",
    "    median = 0\n",
    "    # YOUR CODE HERE\n",
    "    raise NotImplementedError()\n",
    "    return median"
   ]
  },
  {
   "cell_type": "code",
   "execution_count": null,
   "metadata": {
    "deletable": false,
    "editable": false,
    "nbgrader": {
     "checksum": "1908343f95f21a403368a2e93609b38b",
     "grade": false,
     "grade_id": "cell-7f26911012e8c373",
     "locked": true,
     "schema_version": 1,
     "solution": false
    }
   },
   "outputs": [],
   "source": [
    "### SAMPLE TEST CASES\n",
    "print(\"Running Test Case 1\")\n",
    "assert find_median(prices[:10]) == 25.55\n",
    "print(\"Test Case 1 Passed\")\n",
    "print(\"Running Test Case 2\")\n",
    "assert find_median(prices[:100]) == 21.5\n",
    "print(\"Test Case 2 Passed\")"
   ]
  },
  {
   "cell_type": "code",
   "execution_count": null,
   "metadata": {
    "deletable": false,
    "editable": false,
    "nbgrader": {
     "checksum": "d3c2b71cb5ec02e43ae6b2a876d955fc",
     "grade": true,
     "grade_id": "cell-43eadb5cd777c1b5",
     "locked": true,
     "points": 0.5,
     "schema_version": 1,
     "solution": false
    }
   },
   "outputs": [],
   "source": [
    "                            \"\"\"Don't change code in this cell\"\"\"\n",
    "\n",
    "#Hidden Test cases\n"
   ]
  }
 ],
 "metadata": {
  "kernelspec": {
   "display_name": "Python 3",
   "language": "python",
   "name": "python3"
  },
  "language_info": {
   "codemirror_mode": {
    "name": "ipython",
    "version": 3
   },
   "file_extension": ".py",
   "mimetype": "text/x-python",
   "name": "python",
   "nbconvert_exporter": "python",
   "pygments_lexer": "ipython3",
   "version": "3.7.6"
  },
  "varInspector": {
   "cols": {
    "lenName": 16,
    "lenType": 16,
    "lenVar": 40
   },
   "kernels_config": {
    "python": {
     "delete_cmd_postfix": "",
     "delete_cmd_prefix": "del ",
     "library": "var_list.py",
     "varRefreshCmd": "print(var_dic_list())"
    },
    "r": {
     "delete_cmd_postfix": ") ",
     "delete_cmd_prefix": "rm(",
     "library": "var_list.r",
     "varRefreshCmd": "cat(var_dic_list()) "
    }
   },
   "types_to_exclude": [
    "module",
    "function",
    "builtin_function_or_method",
    "instance",
    "_Feature"
   ],
   "window_display": false
  }
 },
 "nbformat": 4,
 "nbformat_minor": 2
}
